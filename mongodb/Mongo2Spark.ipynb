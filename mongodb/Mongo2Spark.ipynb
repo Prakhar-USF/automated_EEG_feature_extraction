{
 "cells": [
  {
   "cell_type": "code",
   "execution_count": 1,
   "metadata": {
    "ExecuteTime": {
     "end_time": "2019-01-17T00:48:42.374768Z",
     "start_time": "2019-01-17T00:48:42.014356Z"
    }
   },
   "outputs": [],
   "source": [
    "from pyspark.sql import SparkSession, SQLContext\n",
    "import pyspark.sql.functions as F"
   ]
  },
  {
   "cell_type": "code",
   "execution_count": 2,
   "metadata": {
    "ExecuteTime": {
     "end_time": "2019-01-17T00:48:42.379213Z",
     "start_time": "2019-01-17T00:48:42.376327Z"
    }
   },
   "outputs": [],
   "source": [
    "import os\n",
    "pyspark_submit_args = '--packages org.mongodb.spark:mongo-spark-connector_2.11:2.4.0 pyspark-shell'\n",
    "os.environ[\"PYSPARK_SUBMIT_ARGS\"] = pyspark_submit_args"
   ]
  },
  {
   "cell_type": "code",
   "execution_count": 3,
   "metadata": {
    "ExecuteTime": {
     "end_time": "2019-01-17T00:48:42.395505Z",
     "start_time": "2019-01-17T00:48:42.382117Z"
    }
   },
   "outputs": [
    {
     "data": {
      "text/plain": [
       "'--packages org.mongodb.spark:mongo-spark-connector_2.11:2.4.0 pyspark-shell'"
      ]
     },
     "execution_count": 3,
     "metadata": {},
     "output_type": "execute_result"
    }
   ],
   "source": [
    "os.environ.get('PYSPARK_SUBMIT_ARGS', None)"
   ]
  },
  {
   "cell_type": "code",
   "execution_count": 20,
   "metadata": {
    "ExecuteTime": {
     "end_time": "2019-01-17T00:57:20.228999Z",
     "start_time": "2019-01-17T00:57:20.075560Z"
    }
   },
   "outputs": [],
   "source": [
    "sc = SparkSession\\\n",
    "    .builder\\\n",
    "    .appName(\"myEEGSession\")\\\n",
    "    .config(\"spark.mongodb.input.uri\", \"mongodb://52.40.36.24:27017/eeg.eeg_metadata?readPreference=primaryPreferred\") \\\n",
    "    .getOrCreate()"
   ]
  },
  {
   "cell_type": "code",
   "execution_count": 21,
   "metadata": {
    "ExecuteTime": {
     "end_time": "2019-01-17T00:57:21.310020Z",
     "start_time": "2019-01-17T00:57:21.302823Z"
    }
   },
   "outputs": [],
   "source": [
    "logger = sc._jvm.org.apache.log4j\n",
    "logger.LogManager.getRootLogger().setLevel(logger.Level.FATAL)"
   ]
  },
  {
   "cell_type": "markdown",
   "metadata": {},
   "source": [
    "# Export collection directly"
   ]
  },
  {
   "cell_type": "code",
   "execution_count": 39,
   "metadata": {
    "ExecuteTime": {
     "end_time": "2019-01-17T01:05:53.170968Z",
     "start_time": "2019-01-17T01:05:52.685238Z"
    }
   },
   "outputs": [],
   "source": [
    "sqlContext = SQLContext(sc)\n",
    "\n",
    "dfr = sqlContext.read.format(\"com.mongodb.spark.sql.DefaultSource\")\n",
    "pipeline = [{'$match':{'participant_id': 'B9-1-2'}}]\n",
    "df = dfr.option(\"pipeline\", pipeline).load()"
   ]
  },
  {
   "cell_type": "code",
   "execution_count": 40,
   "metadata": {
    "ExecuteTime": {
     "end_time": "2019-01-17T01:05:53.856806Z",
     "start_time": "2019-01-17T01:05:53.852927Z"
    }
   },
   "outputs": [
    {
     "name": "stdout",
     "output_type": "stream",
     "text": [
      "root\n",
      " |-- Delivery_type: string (nullable = true)\n",
      " |-- Gender: string (nullable = true)\n",
      " |-- Gestational_Age: double (nullable = true)\n",
      " |-- Maternal_age: double (nullable = true)\n",
      " |-- Multiple_births: double (nullable = true)\n",
      " |-- Prematurity_Level: double (nullable = true)\n",
      " |-- Relative_size: string (nullable = true)\n",
      " |-- Weight_gms: double (nullable = true)\n",
      " |-- _id: struct (nullable = true)\n",
      " |    |-- oid: string (nullable = true)\n",
      " |-- num_recording: integer (nullable = true)\n",
      " |-- participant_group: string (nullable = true)\n",
      " |-- participant_id: string (nullable = true)\n",
      "\n"
     ]
    }
   ],
   "source": [
    "df.printSchema()"
   ]
  },
  {
   "cell_type": "code",
   "execution_count": 44,
   "metadata": {
    "ExecuteTime": {
     "end_time": "2019-01-17T01:06:08.787531Z",
     "start_time": "2019-01-17T01:06:07.926176Z"
    }
   },
   "outputs": [
    {
     "name": "stdout",
     "output_type": "stream",
     "text": [
      "+-------------+------+---------------+------------+---------------+-----------------+-------------+----------+--------------------+-------------+-----------------+--------------+\n",
      "|Delivery_type|Gender|Gestational_Age|Maternal_age|Multiple_births|Prematurity_Level|Relative_size|Weight_gms|                 _id|num_recording|participant_group|participant_id|\n",
      "+-------------+------+---------------+------------+---------------+-----------------+-------------+----------+--------------------+-------------+-----------------+--------------+\n",
      "|      Vaginal|     F|           31.3|        29.0|            2.0|              2.0|          AGA|    1515.0|[5c3ecaaa788b2eea...|            2|     24_month_EEG|        B9-1-2|\n",
      "|      Vaginal|     F|           31.3|        29.0|            2.0|              2.0|          AGA|    1515.0|[5c3ecaaa788b2eea...|            3|     12_month_EEG|        B9-1-2|\n",
      "+-------------+------+---------------+------------+---------------+-----------------+-------------+----------+--------------------+-------------+-----------------+--------------+\n",
      "\n"
     ]
    }
   ],
   "source": [
    "df.show()  # won't show columns whose values are array"
   ]
  },
  {
   "cell_type": "code",
   "execution_count": 42,
   "metadata": {
    "ExecuteTime": {
     "end_time": "2019-01-17T01:05:56.170916Z",
     "start_time": "2019-01-17T01:05:56.164801Z"
    }
   },
   "outputs": [
    {
     "data": {
      "text/plain": [
       "DataFrame[Delivery_type: string, Gender: string, Gestational_Age: double, Maternal_age: double, Multiple_births: double, Prematurity_Level: double, Relative_size: string, Weight_gms: double, _id: struct<oid:string>, num_recording: int, participant_group: string, participant_id: string]"
      ]
     },
     "execution_count": 42,
     "metadata": {},
     "output_type": "execute_result"
    }
   ],
   "source": [
    "df"
   ]
  },
  {
   "cell_type": "code",
   "execution_count": 32,
   "metadata": {
    "ExecuteTime": {
     "end_time": "2019-01-17T00:58:11.062147Z",
     "start_time": "2019-01-17T00:58:10.435889Z"
    }
   },
   "outputs": [
    {
     "data": {
      "text/plain": [
       "[Row(Delivery_type='Vaginal', Gender='F', Gestational_Age=27.2, Maternal_age=26.0, Multiple_births=1.0, Prematurity_Level=1.0, Relative_size='SGA', Weight_gms=1070.0, _id=Row(oid='5c3eca9d788b2eea015d1c95'), num_recording=2, participant_group='06_month_EEG', participant_id='A1-1-1'),\n",
       " Row(Delivery_type='Urgent cesarean section', Gender='F', Gestational_Age=32.4, Maternal_age=21.0, Multiple_births=1.0, Prematurity_Level=3.0, Relative_size='AGA', Weight_gms=1845.0, _id=Row(oid='5c3eca9e788b2eea015d1c9a'), num_recording=1, participant_group='06_month_EEG', participant_id='A10-1-1'),\n",
       " Row(Delivery_type='Emergent cesarean section', Gender='F', Gestational_Age=24.0, Maternal_age=39.0, Multiple_births=1.0, Prematurity_Level=1.0, Relative_size='AGA', Weight_gms=700.0, _id=Row(oid='5c3eca9e788b2eea015d1c9f'), num_recording=1, participant_group='06_month_EEG', participant_id='A11-1-1'),\n",
       " Row(Delivery_type='Urgent cesarean section', Gender='F', Gestational_Age=32.0, Maternal_age=35.0, Multiple_births=2.0, Prematurity_Level=2.0, Relative_size='SGA', Weight_gms=905.0, _id=Row(oid='5c3eca9e788b2eea015d1ca4'), num_recording=2, participant_group='06_month_EEG', participant_id='A13-2-2'),\n",
       " Row(Delivery_type='Urgent cesarean section', Gender='F', Gestational_Age=25.3, Maternal_age=33.0, Multiple_births=1.0, Prematurity_Level=1.0, Relative_size='SGA', Weight_gms=785.0, _id=Row(oid='5c3eca9f788b2eea015d1cae'), num_recording=1, participant_group='06_month_EEG', participant_id='A4-1-1'),\n",
       " Row(Delivery_type='Elective cesarean section', Gender='M', Gestational_Age=34.3, Maternal_age=41.0, Multiple_births=1.0, Prematurity_Level=3.0, Relative_size='AGA', Weight_gms=2295.0, _id=Row(oid='5c3ecaa0788b2eea015d1cb3'), num_recording=3, participant_group='06_month_EEG', participant_id='A6-1-1'),\n",
       " Row(Delivery_type='Emergent cesarean section', Gender='F', Gestational_Age=33.2, Maternal_age=35.0, Multiple_births=3.0, Prematurity_Level=3.0, Relative_size='AGA', Weight_gms=1750.0, _id=Row(oid='5c3ecaa0788b2eea015d1cb8'), num_recording=1, participant_group='06_month_EEG', participant_id='A8-1-3'),\n",
       " Row(Delivery_type='Urgent cesarean section', Gender='M', Gestational_Age=33.2, Maternal_age=35.0, Multiple_births=3.0, Prematurity_Level=3.0, Relative_size='AGA', Weight_gms=1960.0, _id=Row(oid='5c3ecaa1788b2eea015d1cbd'), num_recording=1, participant_group='06_month_EEG', participant_id='A8-2-3'),\n",
       " Row(Delivery_type='Urgent cesarean section', Gender='M', Gestational_Age=33.2, Maternal_age=35.0, Multiple_births=3.0, Prematurity_Level=3.0, Relative_size='AGA', Weight_gms=1630.0, _id=Row(oid='5c3ecaa1788b2eea015d1cc2'), num_recording=1, participant_group='06_month_EEG', participant_id='A8-3-3'),\n",
       " Row(Delivery_type='Urgent cesarean section', Gender='F', Gestational_Age=25.1, Maternal_age=34.0, Multiple_births=1.0, Prematurity_Level=1.0, Relative_size='AGA', Weight_gms=810.0, _id=Row(oid='5c3ecaa4788b2eea015d1ce0'), num_recording=2, participant_group='24_month_EEG', participant_id='B14-1-1')]"
      ]
     },
     "execution_count": 32,
     "metadata": {},
     "output_type": "execute_result"
    }
   ],
   "source": [
    "df.rdd.collect()"
   ]
  },
  {
   "cell_type": "code",
   "execution_count": 27,
   "metadata": {
    "ExecuteTime": {
     "end_time": "2019-01-17T00:57:35.905253Z",
     "start_time": "2019-01-17T00:57:35.207222Z"
    },
    "scrolled": false
   },
   "outputs": [
    {
     "name": "stdout",
     "output_type": "stream",
     "text": [
      "+--------------+-----------------+\n",
      "|participant_id|participant_group|\n",
      "+--------------+-----------------+\n",
      "|       B14-1-1|     24_month_EEG|\n",
      "|        B9-1-2|     24_month_EEG|\n",
      "|        B9-2-2|     24_month_EEG|\n",
      "|       A14-1-1|     12_month_EEG|\n",
      "|        B1-1-3|     12_month_EEG|\n",
      "|        B1-2-3|     12_month_EEG|\n",
      "|        B1-3-3|     12_month_EEG|\n",
      "|       B12-1-1|     12_month_EEG|\n",
      "|       B13-1-1|     12_month_EEG|\n",
      "|       B16-1-2|     12_month_EEG|\n",
      "+--------------+-----------------+\n",
      "\n"
     ]
    }
   ],
   "source": [
    "df.select(\"participant_id\", \"participant_group\").show()"
   ]
  },
  {
   "cell_type": "code",
   "execution_count": 43,
   "metadata": {
    "ExecuteTime": {
     "end_time": "2019-01-17T01:06:03.185842Z",
     "start_time": "2019-01-17T01:06:02.348482Z"
    }
   },
   "outputs": [
    {
     "data": {
      "text/plain": [
       "2"
      ]
     },
     "execution_count": 43,
     "metadata": {},
     "output_type": "execute_result"
    }
   ],
   "source": [
    "df.count()"
   ]
  },
  {
   "cell_type": "code",
   "execution_count": null,
   "metadata": {},
   "outputs": [],
   "source": []
  },
  {
   "cell_type": "code",
   "execution_count": null,
   "metadata": {},
   "outputs": [],
   "source": []
  },
  {
   "cell_type": "code",
   "execution_count": 36,
   "metadata": {
    "ExecuteTime": {
     "end_time": "2019-01-17T01:04:18.365723Z",
     "start_time": "2019-01-17T01:03:49.878918Z"
    }
   },
   "outputs": [],
   "source": [
    "dfr_2 = sc.read.format(\"com.mongodb.spark.sql.DefaultSource\").option(\"uri\",\n",
    "\"mongodb://52.40.36.24:27017/eeg.eeg_raw?readPreference=primaryPreferred\")\n",
    "pipeline = [{'$match':{'participant_id': 'B14-1-1'}}]\n",
    "df_raw = dfr_2.option(\"pipeline\", pipeline).load()"
   ]
  },
  {
   "cell_type": "code",
   "execution_count": 37,
   "metadata": {
    "ExecuteTime": {
     "end_time": "2019-01-17T01:04:49.749959Z",
     "start_time": "2019-01-17T01:04:49.746036Z"
    }
   },
   "outputs": [
    {
     "name": "stdout",
     "output_type": "stream",
     "text": [
      "root\n",
      " |-- _id: struct (nullable = true)\n",
      " |    |-- oid: string (nullable = true)\n",
      " |-- admincode: string (nullable = true)\n",
      " |-- annotations_in_file: integer (nullable = true)\n",
      " |-- birthdate: string (nullable = true)\n",
      " |-- datarecord_duration: double (nullable = true)\n",
      " |-- datarecords_in_file: integer (nullable = true)\n",
      " |-- digital_max: integer (nullable = true)\n",
      " |-- digital_min: integer (nullable = true)\n",
      " |-- dimension: string (nullable = true)\n",
      " |-- equipment: string (nullable = true)\n",
      " |-- file_duration: integer (nullable = true)\n",
      " |-- file_name: string (nullable = true)\n",
      " |-- gender: string (nullable = true)\n",
      " |-- handle: integer (nullable = true)\n",
      " |-- label: string (nullable = true)\n",
      " |-- participant_group: string (nullable = true)\n",
      " |-- participant_id: string (nullable = true)\n",
      " |-- patient: string (nullable = true)\n",
      " |-- patient_additional: string (nullable = true)\n",
      " |-- patientcode: string (nullable = true)\n",
      " |-- patientname: string (nullable = true)\n",
      " |-- physical_max: double (nullable = true)\n",
      " |-- physical_min: double (nullable = true)\n",
      " |-- prefilter: string (nullable = true)\n",
      " |-- raw: array (nullable = true)\n",
      " |    |-- element: double (containsNull = true)\n",
      " |-- recording_additional: string (nullable = true)\n",
      " |-- sample_rate: integer (nullable = true)\n",
      " |-- signals_in_file: integer (nullable = true)\n",
      " |-- startdate: string (nullable = true)\n",
      " |-- startdate_day: integer (nullable = true)\n",
      " |-- startdate_month: integer (nullable = true)\n",
      " |-- startdate_year: integer (nullable = true)\n",
      " |-- starttime_hour: integer (nullable = true)\n",
      " |-- starttime_minute: integer (nullable = true)\n",
      " |-- starttime_second: integer (nullable = true)\n",
      " |-- technician: string (nullable = true)\n",
      " |-- transducer: string (nullable = true)\n",
      "\n"
     ]
    }
   ],
   "source": [
    "df_raw.printSchema()"
   ]
  },
  {
   "cell_type": "code",
   "execution_count": 38,
   "metadata": {
    "ExecuteTime": {
     "end_time": "2019-01-17T01:05:35.696267Z",
     "start_time": "2019-01-17T01:05:04.147957Z"
    }
   },
   "outputs": [
    {
     "data": {
      "text/plain": [
       "16"
      ]
     },
     "execution_count": 38,
     "metadata": {},
     "output_type": "execute_result"
    }
   ],
   "source": [
    "df_raw.count()"
   ]
  },
  {
   "cell_type": "code",
   "execution_count": 13,
   "metadata": {
    "ExecuteTime": {
     "end_time": "2019-01-17T00:49:03.595328Z",
     "start_time": "2019-01-17T00:48:51.896788Z"
    },
    "scrolled": true
   },
   "outputs": [],
   "source": [
    "x = df_raw.select('raw').rdd.take(1)"
   ]
  },
  {
   "cell_type": "code",
   "execution_count": 19,
   "metadata": {
    "ExecuteTime": {
     "end_time": "2019-01-17T00:57:17.075772Z",
     "start_time": "2019-01-17T00:57:16.899399Z"
    }
   },
   "outputs": [],
   "source": [
    "sc.stop()"
   ]
  },
  {
   "cell_type": "code",
   "execution_count": null,
   "metadata": {},
   "outputs": [],
   "source": []
  }
 ],
 "metadata": {
  "kernelspec": {
   "display_name": "Python 3",
   "language": "python",
   "name": "python3"
  },
  "language_info": {
   "codemirror_mode": {
    "name": "ipython",
    "version": 3
   },
   "file_extension": ".py",
   "mimetype": "text/x-python",
   "name": "python",
   "nbconvert_exporter": "python",
   "pygments_lexer": "ipython3",
   "version": "3.6.8"
  },
  "toc": {
   "base_numbering": 1,
   "nav_menu": {},
   "number_sections": true,
   "sideBar": true,
   "skip_h1_title": false,
   "title_cell": "Table of Contents",
   "title_sidebar": "Contents",
   "toc_cell": false,
   "toc_position": {},
   "toc_section_display": true,
   "toc_window_display": false
  },
  "varInspector": {
   "cols": {
    "lenName": 16,
    "lenType": 16,
    "lenVar": 40
   },
   "kernels_config": {
    "python": {
     "delete_cmd_postfix": "",
     "delete_cmd_prefix": "del ",
     "library": "var_list.py",
     "varRefreshCmd": "print(var_dic_list())"
    },
    "r": {
     "delete_cmd_postfix": ") ",
     "delete_cmd_prefix": "rm(",
     "library": "var_list.r",
     "varRefreshCmd": "cat(var_dic_list()) "
    }
   },
   "types_to_exclude": [
    "module",
    "function",
    "builtin_function_or_method",
    "instance",
    "_Feature"
   ],
   "window_display": false
  }
 },
 "nbformat": 4,
 "nbformat_minor": 2
}
