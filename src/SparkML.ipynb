{
 "cells": [
  {
   "cell_type": "code",
   "execution_count": 2,
   "metadata": {
    "ExecuteTime": {
     "end_time": "2019-01-28T06:00:47.264291Z",
     "start_time": "2019-01-28T06:00:46.937049Z"
    }
   },
   "outputs": [],
   "source": [
    "from pyspark.sql import SparkSession, SQLContext\n",
    "import pyspark.sql.functions as F\n",
    "from pyspark.sql.functions import isnan, when, count, col\n",
    "from pyspark.ml.feature import Imputer\n",
    "from pyspark.sql import DataFrameReader\n",
    "from pyspark.sql.types import *\n",
    "from pyspark.ml.feature import VectorAssembler,StringIndexer\n",
    "from pyspark.sql.window import Window\n",
    "import numpy\n",
    "import pyeeg"
   ]
  },
  {
   "cell_type": "code",
   "execution_count": 3,
   "metadata": {
    "ExecuteTime": {
     "end_time": "2019-01-28T06:00:47.442409Z",
     "start_time": "2019-01-28T06:00:47.439618Z"
    }
   },
   "outputs": [],
   "source": [
    "import os\n",
    "pyspark_submit_args = '--packages org.mongodb.spark:mongo-spark-connector_2.11:2.4.0 pyspark-shell'\n",
    "os.environ[\"PYSPARK_SUBMIT_ARGS\"] = pyspark_submit_args"
   ]
  },
  {
   "cell_type": "code",
   "execution_count": 4,
   "metadata": {
    "ExecuteTime": {
     "end_time": "2019-01-28T06:01:06.217052Z",
     "start_time": "2019-01-28T06:00:47.516470Z"
    }
   },
   "outputs": [],
   "source": [
    "sc = SparkSession\\\n",
    "    .builder\\\n",
    "    .appName(\"myEEGSession\")\\\n",
    "    .config(\"spark.mongodb.input.uri\", \"mongodb://54.188.74.0/eeg.eeg_features\") \\\n",
    "    .config('spark.jars.packages','org.mongodb.spark:mongo-spark-connector_2.11:2.4.0')\\\n",
    "    .getOrCreate()"
   ]
  },
  {
   "cell_type": "code",
   "execution_count": 5,
   "metadata": {
    "ExecuteTime": {
     "end_time": "2019-01-28T06:01:06.226111Z",
     "start_time": "2019-01-28T06:01:06.219360Z"
    }
   },
   "outputs": [],
   "source": [
    "ss = SparkSession.builder.getOrCreate()"
   ]
  },
  {
   "cell_type": "code",
   "execution_count": 6,
   "metadata": {
    "ExecuteTime": {
     "end_time": "2019-01-28T06:01:06.235255Z",
     "start_time": "2019-01-28T06:01:06.227933Z"
    }
   },
   "outputs": [],
   "source": [
    "logger = sc._jvm.org.apache.log4j\n",
    "logger.LogManager.getRootLogger().setLevel(logger.Level.FATAL)"
   ]
  },
  {
   "cell_type": "markdown",
   "metadata": {},
   "source": [
    "## Load the Data"
   ]
  },
  {
   "cell_type": "code",
   "execution_count": 7,
   "metadata": {
    "ExecuteTime": {
     "end_time": "2019-01-28T06:01:14.266977Z",
     "start_time": "2019-01-28T06:01:06.237197Z"
    }
   },
   "outputs": [],
   "source": [
    "# non-rqa features\n",
    "df = sc.read.format(\"com.mongodb.spark.sql.DefaultSource\").option(\"uri\", \"mongodb://54.188.74.0/eeg.eeg_features\").load()"
   ]
  },
  {
   "cell_type": "code",
   "execution_count": 8,
   "metadata": {
    "ExecuteTime": {
     "end_time": "2019-01-28T06:01:18.203278Z",
     "start_time": "2019-01-28T06:01:14.268739Z"
    }
   },
   "outputs": [
    {
     "data": {
      "text/plain": [
       "(376, 376)"
      ]
     },
     "execution_count": 8,
     "metadata": {},
     "output_type": "execute_result"
    }
   ],
   "source": [
    "df.count(), df.distinct().count()"
   ]
  },
  {
   "cell_type": "code",
   "execution_count": 9,
   "metadata": {
    "ExecuteTime": {
     "end_time": "2019-01-28T06:01:18.996388Z",
     "start_time": "2019-01-28T06:01:18.205563Z"
    }
   },
   "outputs": [],
   "source": [
    "#vrqa features\n",
    "df_rqa = sc.read.format(\"com.mongodb.spark.sql.DefaultSource\").option(\"uri\", \"mongodb://54.188.74.0/test.eeg_features_rqa\").load()"
   ]
  },
  {
   "cell_type": "code",
   "execution_count": 10,
   "metadata": {
    "ExecuteTime": {
     "end_time": "2019-01-28T06:01:21.397562Z",
     "start_time": "2019-01-28T06:01:18.998227Z"
    }
   },
   "outputs": [
    {
     "data": {
      "text/plain": [
       "(376, 376)"
      ]
     },
     "execution_count": 10,
     "metadata": {},
     "output_type": "execute_result"
    }
   ],
   "source": [
    "df_rqa.count(), df_rqa.distinct().count()"
   ]
  },
  {
   "cell_type": "markdown",
   "metadata": {},
   "source": [
    "### Joining Tables"
   ]
  },
  {
   "cell_type": "code",
   "execution_count": 11,
   "metadata": {
    "ExecuteTime": {
     "end_time": "2019-01-28T06:01:23.306975Z",
     "start_time": "2019-01-28T06:01:21.399733Z"
    }
   },
   "outputs": [],
   "source": [
    "labels = df.select('label').distinct().rdd.keys().collect()"
   ]
  },
  {
   "cell_type": "code",
   "execution_count": 12,
   "metadata": {
    "ExecuteTime": {
     "end_time": "2019-01-28T06:01:23.312423Z",
     "start_time": "2019-01-28T06:01:23.309417Z"
    }
   },
   "outputs": [],
   "source": [
    "master_channel_list = [\"Fp1\",\"Fp2\",\"F7\",\"F3\",\"Fz\",\"F4\",\"F8\",\"T7\",\"C3\",\"Cz\",\n",
    "                       \"C4\",\"T8\",\"P7\",\"P3\",\"Pz\",\"P4\",\"P8\",\"O1\",\"O2\"]"
   ]
  },
  {
   "cell_type": "code",
   "execution_count": 13,
   "metadata": {
    "ExecuteTime": {
     "end_time": "2019-01-28T06:01:23.815261Z",
     "start_time": "2019-01-28T06:01:23.314770Z"
    }
   },
   "outputs": [],
   "source": [
    "# Split both rqa and non-rqa tables by channel type ie labels\n",
    "df_list = [df.filter(col(\"label\")== l) for l in labels]\n",
    "df_list_rqa = [df_rqa.filter(col(\"label\")== l) for l in labels]"
   ]
  },
  {
   "cell_type": "code",
   "execution_count": 14,
   "metadata": {
    "ExecuteTime": {
     "end_time": "2019-01-28T06:01:23.843191Z",
     "start_time": "2019-01-28T06:01:23.817239Z"
    }
   },
   "outputs": [],
   "source": [
    "columns_all = df.columns\n",
    "columns_all_rqa = df_rqa.columns"
   ]
  },
  {
   "cell_type": "code",
   "execution_count": 15,
   "metadata": {
    "ExecuteTime": {
     "end_time": "2019-01-28T06:01:23.856230Z",
     "start_time": "2019-01-28T06:01:23.845341Z"
    }
   },
   "outputs": [],
   "source": [
    "# add column name + channel name to all columns except these\n",
    "columns_except = ['_id','f_labels','participant_group','participant_id','startdate','file_duration',\n",
    "                  'label',  'sample_rate','signals_in_file','unique_id']\n",
    "columns_except_rqa = ['_id', 'f_labels',  'participant_group', 'participant_id','startdate','file_duration',\n",
    "                      'label', 'sample_rate', 'signals_in_file', 'unique_id']"
   ]
  },
  {
   "cell_type": "code",
   "execution_count": 16,
   "metadata": {
    "ExecuteTime": {
     "end_time": "2019-01-28T06:01:23.863073Z",
     "start_time": "2019-01-28T06:01:23.858788Z"
    }
   },
   "outputs": [],
   "source": [
    "# columns names to be changed\n",
    "columns_rename = [c for c in columns_all if c not in columns_except]\n",
    "columns_rename_rqa = [c for c in columns_all_rqa if c not in columns_except_rqa]"
   ]
  },
  {
   "cell_type": "code",
   "execution_count": 17,
   "metadata": {
    "ExecuteTime": {
     "end_time": "2019-01-28T06:01:23.872228Z",
     "start_time": "2019-01-28T06:01:23.865870Z"
    }
   },
   "outputs": [
    {
     "data": {
      "text/plain": [
       "(8, 8)"
      ]
     },
     "execution_count": 17,
     "metadata": {},
     "output_type": "execute_result"
    }
   ],
   "source": [
    "len(df_list), len(df_list_rqa)"
   ]
  },
  {
   "cell_type": "markdown",
   "metadata": {},
   "source": [
    "### Rename columns"
   ]
  },
  {
   "cell_type": "code",
   "execution_count": 18,
   "metadata": {
    "ExecuteTime": {
     "end_time": "2019-01-28T06:01:25.909324Z",
     "start_time": "2019-01-28T06:01:23.874914Z"
    }
   },
   "outputs": [],
   "source": [
    "for i in range(len(labels)):\n",
    "    for c in df_list[i].columns:\n",
    "        if c in columns_rename:\n",
    "            df_list[i] = df_list[i].withColumnRenamed(c, c+\"_\"+labels[i])"
   ]
  },
  {
   "cell_type": "code",
   "execution_count": 19,
   "metadata": {
    "ExecuteTime": {
     "end_time": "2019-01-28T06:01:27.289294Z",
     "start_time": "2019-01-28T06:01:25.911621Z"
    }
   },
   "outputs": [],
   "source": [
    "for i in range(len(labels)):\n",
    "    for c in df_list_rqa[i].columns:\n",
    "        if c in columns_rename_rqa:\n",
    "            df_list_rqa[i] = df_list_rqa[i].withColumnRenamed(c, c+\"_\"+labels[i])"
   ]
  },
  {
   "cell_type": "code",
   "execution_count": 20,
   "metadata": {
    "ExecuteTime": {
     "end_time": "2019-01-28T06:01:27.326263Z",
     "start_time": "2019-01-28T06:01:27.291215Z"
    }
   },
   "outputs": [],
   "source": [
    "# Create a base table that has unique keys , to join with df and df_rqa\n",
    "temp = df.select(*['participant_group','participant_id', 'startdate','file_duration']).distinct().orderBy(*['participant_group','participant_id', 'startdate','file_duration'])"
   ]
  },
  {
   "cell_type": "code",
   "execution_count": 21,
   "metadata": {
    "ExecuteTime": {
     "end_time": "2019-01-28T06:01:27.412935Z",
     "start_time": "2019-01-28T06:01:27.327987Z"
    }
   },
   "outputs": [],
   "source": [
    "# Remove redundant columns\n",
    "for i in range(len(df_list)):\n",
    "    df_list[i] = df_list[i].drop(*['_id','f_labels','label','sample_rate','signals_in_file','unique_id','file_duration'])\n",
    "\n",
    "for i in range(len(df_list_rqa)):\n",
    "    df_list_rqa[i] = df_list_rqa[i].drop(*['unique_id' , '_id', 'f_labels', 'label','sample_rate','signals_in_file','file_duration'])"
   ]
  },
  {
   "cell_type": "code",
   "execution_count": 22,
   "metadata": {
    "ExecuteTime": {
     "end_time": "2019-01-28T06:01:41.050173Z",
     "start_time": "2019-01-28T06:01:27.414737Z"
    }
   },
   "outputs": [],
   "source": [
    "# Join every dataframe in the df_list to the temp\n",
    "for i in range(len(df_list)):\n",
    "    temp= temp.join(df_list[i],['participant_group','participant_id', 'startdate'])\n",
    "for i in range(len(df_list_rqa)):    \n",
    "    temp= temp.join(df_list_rqa[i],['participant_group','participant_id', 'startdate'])    "
   ]
  },
  {
   "cell_type": "code",
   "execution_count": 24,
   "metadata": {
    "ExecuteTime": {
     "end_time": "2019-01-28T06:01:49.545444Z",
     "start_time": "2019-01-28T06:01:41.056462Z"
    }
   },
   "outputs": [
    {
     "data": {
      "text/plain": [
       "47"
      ]
     },
     "execution_count": 24,
     "metadata": {},
     "output_type": "execute_result"
    }
   ],
   "source": [
    "#Final count of files\n",
    "temp.count()"
   ]
  },
  {
   "cell_type": "code",
   "execution_count": 26,
   "metadata": {
    "ExecuteTime": {
     "end_time": "2019-01-28T06:02:08.459642Z",
     "start_time": "2019-01-28T06:02:08.456712Z"
    }
   },
   "outputs": [],
   "source": [
    "df = temp\n",
    "del temp\n",
    "del df_list\n",
    "del df_list_rqa\n",
    "del df_rqa"
   ]
  },
  {
   "cell_type": "markdown",
   "metadata": {},
   "source": [
    "### Sort the data base on the start and filter"
   ]
  },
  {
   "cell_type": "code",
   "execution_count": 27,
   "metadata": {
    "ExecuteTime": {
     "end_time": "2019-01-28T06:02:09.297041Z",
     "start_time": "2019-01-28T06:02:09.114100Z"
    }
   },
   "outputs": [],
   "source": [
    "window = Window.\\\n",
    "              partitionBy('participant_id','participant_group').\\\n",
    "              orderBy(df['startdate'].desc())\n",
    "df = df.withColumn(\"rank_start_dt\",F.dense_rank().over(window))"
   ]
  },
  {
   "cell_type": "code",
   "execution_count": 28,
   "metadata": {
    "ExecuteTime": {
     "end_time": "2019-01-28T06:02:09.711257Z",
     "start_time": "2019-01-28T06:02:09.459108Z"
    }
   },
   "outputs": [],
   "source": [
    "# Filter for the latest file\n",
    "df = df.filter(\"rank_start_dt == 1\")"
   ]
  },
  {
   "cell_type": "code",
   "execution_count": 29,
   "metadata": {
    "ExecuteTime": {
     "end_time": "2019-01-28T06:02:19.159144Z",
     "start_time": "2019-01-28T06:02:10.267466Z"
    }
   },
   "outputs": [
    {
     "data": {
      "text/plain": [
       "36"
      ]
     },
     "execution_count": 29,
     "metadata": {},
     "output_type": "execute_result"
    }
   ],
   "source": [
    "df.count()"
   ]
  },
  {
   "cell_type": "code",
   "execution_count": 30,
   "metadata": {
    "ExecuteTime": {
     "end_time": "2019-01-28T06:02:29.471519Z",
     "start_time": "2019-01-28T06:02:29.127955Z"
    }
   },
   "outputs": [],
   "source": [
    "# df_meta contains metadata about the patient\n",
    "df_meta = sc.read.format(\"com.mongodb.spark.sql.DefaultSource\").option(\"uri\", \"mongodb://54.188.74.0/eeg.eeg_metadata\").load()"
   ]
  },
  {
   "cell_type": "code",
   "execution_count": 31,
   "metadata": {
    "ExecuteTime": {
     "end_time": "2019-01-28T06:02:29.509082Z",
     "start_time": "2019-01-28T06:02:29.502102Z"
    }
   },
   "outputs": [],
   "source": [
    "df_meta = df_meta.drop('Delivery_type',\n",
    " 'Gender',\n",
    " 'Gestational_Age',\n",
    " 'Maternal_age',\n",
    " 'Multiple_births','Relative_size',\n",
    " 'Weight_gms',\n",
    " '_id',\n",
    " 'num_recording')"
   ]
  },
  {
   "cell_type": "code",
   "execution_count": 32,
   "metadata": {
    "ExecuteTime": {
     "end_time": "2019-01-28T06:02:35.528461Z",
     "start_time": "2019-01-28T06:02:33.716243Z"
    }
   },
   "outputs": [],
   "source": [
    "# Join with df_meta to get the output variable Prematurity_Level\n",
    "features = df.join(df_meta, on = ['participant_group','participant_id'] , how='inner')\n",
    "features = features.drop('participant_group','participant_ID','startdate','file_duration','rank_start_dt')"
   ]
  },
  {
   "cell_type": "code",
   "execution_count": 33,
   "metadata": {
    "ExecuteTime": {
     "end_time": "2019-01-28T06:02:49.423636Z",
     "start_time": "2019-01-28T06:02:40.803550Z"
    }
   },
   "outputs": [
    {
     "data": {
      "text/plain": [
       "34"
      ]
     },
     "execution_count": 33,
     "metadata": {},
     "output_type": "execute_result"
    }
   ],
   "source": [
    "features.count()"
   ]
  },
  {
   "cell_type": "code",
   "execution_count": 37,
   "metadata": {
    "ExecuteTime": {
     "end_time": "2019-01-28T04:59:38.760367Z",
     "start_time": "2019-01-28T04:59:37.232579Z"
    }
   },
   "outputs": [],
   "source": [
    "# Join the tables\n",
    "features = df.join(df_meta, on = ['participant_group','participant_id'] , how='inner')"
   ]
  },
  {
   "cell_type": "code",
   "execution_count": 38,
   "metadata": {
    "ExecuteTime": {
     "end_time": "2019-01-28T04:59:38.765103Z",
     "start_time": "2019-01-28T04:59:38.762402Z"
    }
   },
   "outputs": [],
   "source": [
    "del df\n",
    "del df_meta"
   ]
  },
  {
   "cell_type": "markdown",
   "metadata": {
    "ExecuteTime": {
     "end_time": "2019-01-18T23:40:47.144633Z",
     "start_time": "2019-01-18T23:40:47.142036Z"
    }
   },
   "source": [
    "## Feature Engineering"
   ]
  },
  {
   "cell_type": "code",
   "execution_count": 34,
   "metadata": {
    "ExecuteTime": {
     "end_time": "2019-01-28T06:25:27.986113Z",
     "start_time": "2019-01-28T06:25:27.954225Z"
    }
   },
   "outputs": [
    {
     "data": {
      "text/plain": [
       "Counter({'double': 937, 'struct<lyap_A7:string,lyap_D7:string>': 8, 'int': 72})"
      ]
     },
     "execution_count": 34,
     "metadata": {},
     "output_type": "execute_result"
    }
   ],
   "source": [
    "from collections import Counter\n",
    "Counter([d[1] for d in features.dtypes])"
   ]
  },
  {
   "cell_type": "code",
   "execution_count": 35,
   "metadata": {
    "ExecuteTime": {
     "end_time": "2019-01-28T06:25:42.123276Z",
     "start_time": "2019-01-28T06:25:42.112393Z"
    }
   },
   "outputs": [
    {
     "data": {
      "text/plain": [
       "['dfa_A0_O1',\n",
       " 'dfa_A7_O1',\n",
       " 'dfa_D1_O1',\n",
       " 'dfa_D2_O1',\n",
       " 'dfa_D3_O1',\n",
       " 'dfa_D4_O1',\n",
       " 'dfa_D5_O1',\n",
       " 'dfa_D6_O1',\n",
       " 'dfa_D7_O1',\n",
       " 'hurst_exponent_A0_O1',\n",
       " 'hurst_exponent_A7_O1',\n",
       " 'hurst_exponent_D1_O1',\n",
       " 'hurst_exponent_D2_O1',\n",
       " 'hurst_exponent_D3_O1',\n",
       " 'hurst_exponent_D4_O1',\n",
       " 'hurst_exponent_D5_O1',\n",
       " 'hurst_exponent_D6_O1',\n",
       " 'hurst_exponent_D7_O1',\n",
       " 'lyap0_A0_O1',\n",
       " 'lyap0_A7_O1',\n",
       " 'lyap0_D1_O1',\n",
       " 'lyap0_D2_O1',\n",
       " 'lyap0_D3_O1',\n",
       " 'lyap0_D4_O1',\n",
       " 'lyap0_D5_O1',\n",
       " 'lyap0_D6_O1',\n",
       " 'lyap0_D7_O1',\n",
       " 'lyap1_A0_O1',\n",
       " 'lyap1_A7_O1',\n",
       " 'lyap1_D1_O1',\n",
       " 'lyap1_D2_O1',\n",
       " 'lyap1_D3_O1',\n",
       " 'lyap1_D4_O1',\n",
       " 'lyap1_D5_O1',\n",
       " 'lyap1_D6_O1',\n",
       " 'lyap1_D7_O1',\n",
       " 'lyap2_A0_O1',\n",
       " 'lyap2_A7_O1',\n",
       " 'lyap2_D1_O1',\n",
       " 'lyap2_D2_O1',\n",
       " 'lyap2_D3_O1',\n",
       " 'lyap2_D4_O1',\n",
       " 'lyap2_D5_O1',\n",
       " 'lyap2_D6_O1',\n",
       " 'lyap2_D7_O1',\n",
       " 'power_A0_O1',\n",
       " 'power_A7_O1',\n",
       " 'power_D1_O1',\n",
       " 'power_D2_O1',\n",
       " 'power_D3_O1',\n",
       " 'power_D4_O1',\n",
       " 'power_D5_O1',\n",
       " 'power_D6_O1',\n",
       " 'power_D7_O1',\n",
       " 'sample_entropy_A0_O1',\n",
       " 'sample_entropy_A7_O1',\n",
       " 'sample_entropy_D1_O1',\n",
       " 'sample_entropy_D2_O1',\n",
       " 'sample_entropy_D3_O1',\n",
       " 'sample_entropy_D4_O1',\n",
       " 'sample_entropy_D5_O1',\n",
       " 'sample_entropy_D6_O1',\n",
       " 'sample_entropy_D7_O1',\n",
       " 'dfa_A0_C3',\n",
       " 'dfa_A7_C3',\n",
       " 'dfa_D1_C3',\n",
       " 'dfa_D2_C3',\n",
       " 'dfa_D3_C3',\n",
       " 'dfa_D4_C3',\n",
       " 'dfa_D5_C3',\n",
       " 'dfa_D6_C3',\n",
       " 'dfa_D7_C3',\n",
       " 'hurst_exponent_A0_C3',\n",
       " 'hurst_exponent_A7_C3',\n",
       " 'hurst_exponent_D1_C3',\n",
       " 'hurst_exponent_D2_C3',\n",
       " 'hurst_exponent_D3_C3',\n",
       " 'hurst_exponent_D4_C3',\n",
       " 'hurst_exponent_D5_C3',\n",
       " 'hurst_exponent_D6_C3',\n",
       " 'hurst_exponent_D7_C3',\n",
       " 'lyap0_A0_C3',\n",
       " 'lyap0_A7_C3',\n",
       " 'lyap0_D1_C3',\n",
       " 'lyap0_D2_C3',\n",
       " 'lyap0_D3_C3',\n",
       " 'lyap0_D4_C3',\n",
       " 'lyap0_D5_C3',\n",
       " 'lyap0_D6_C3',\n",
       " 'lyap0_D7_C3',\n",
       " 'lyap1_A0_C3',\n",
       " 'lyap1_A7_C3',\n",
       " 'lyap1_D1_C3',\n",
       " 'lyap1_D2_C3',\n",
       " 'lyap1_D3_C3',\n",
       " 'lyap1_D4_C3',\n",
       " 'lyap1_D5_C3',\n",
       " 'lyap1_D6_C3',\n",
       " 'lyap1_D7_C3',\n",
       " 'lyap2_A0_C3',\n",
       " 'lyap2_A7_C3',\n",
       " 'lyap2_D1_C3',\n",
       " 'lyap2_D2_C3',\n",
       " 'lyap2_D3_C3',\n",
       " 'lyap2_D4_C3',\n",
       " 'lyap2_D5_C3',\n",
       " 'lyap2_D6_C3',\n",
       " 'lyap2_D7_C3',\n",
       " 'power_A0_C3',\n",
       " 'power_A7_C3',\n",
       " 'power_D1_C3',\n",
       " 'power_D2_C3',\n",
       " 'power_D3_C3',\n",
       " 'power_D4_C3',\n",
       " 'power_D5_C3',\n",
       " 'power_D6_C3',\n",
       " 'power_D7_C3',\n",
       " 'sample_entropy_A0_C3',\n",
       " 'sample_entropy_A7_C3',\n",
       " 'sample_entropy_D1_C3',\n",
       " 'sample_entropy_D2_C3',\n",
       " 'sample_entropy_D3_C3',\n",
       " 'sample_entropy_D4_C3',\n",
       " 'sample_entropy_D5_C3',\n",
       " 'sample_entropy_D6_C3',\n",
       " 'sample_entropy_D7_C3',\n",
       " 'dfa_A0_C4',\n",
       " 'dfa_A7_C4',\n",
       " 'dfa_D1_C4',\n",
       " 'dfa_D2_C4',\n",
       " 'dfa_D3_C4',\n",
       " 'dfa_D4_C4',\n",
       " 'dfa_D5_C4',\n",
       " 'dfa_D6_C4',\n",
       " 'dfa_D7_C4',\n",
       " 'hurst_exponent_A0_C4',\n",
       " 'hurst_exponent_A7_C4',\n",
       " 'hurst_exponent_D1_C4',\n",
       " 'hurst_exponent_D2_C4',\n",
       " 'hurst_exponent_D3_C4',\n",
       " 'hurst_exponent_D4_C4',\n",
       " 'hurst_exponent_D5_C4',\n",
       " 'hurst_exponent_D6_C4',\n",
       " 'hurst_exponent_D7_C4',\n",
       " 'lyap0_A0_C4',\n",
       " 'lyap0_A7_C4',\n",
       " 'lyap0_D1_C4',\n",
       " 'lyap0_D2_C4',\n",
       " 'lyap0_D3_C4',\n",
       " 'lyap0_D4_C4',\n",
       " 'lyap0_D5_C4',\n",
       " 'lyap0_D6_C4',\n",
       " 'lyap0_D7_C4',\n",
       " 'lyap1_A0_C4',\n",
       " 'lyap1_A7_C4',\n",
       " 'lyap1_D1_C4',\n",
       " 'lyap1_D2_C4',\n",
       " 'lyap1_D3_C4',\n",
       " 'lyap1_D4_C4',\n",
       " 'lyap1_D5_C4',\n",
       " 'lyap1_D6_C4',\n",
       " 'lyap1_D7_C4',\n",
       " 'lyap2_A0_C4',\n",
       " 'lyap2_A7_C4',\n",
       " 'lyap2_D1_C4',\n",
       " 'lyap2_D2_C4',\n",
       " 'lyap2_D3_C4',\n",
       " 'lyap2_D4_C4',\n",
       " 'lyap2_D5_C4',\n",
       " 'lyap2_D6_C4',\n",
       " 'lyap2_D7_C4',\n",
       " 'power_A0_C4',\n",
       " 'power_A7_C4',\n",
       " 'power_D1_C4',\n",
       " 'power_D2_C4',\n",
       " 'power_D3_C4',\n",
       " 'power_D4_C4',\n",
       " 'power_D5_C4',\n",
       " 'power_D6_C4',\n",
       " 'power_D7_C4',\n",
       " 'sample_entropy_A0_C4',\n",
       " 'sample_entropy_A7_C4',\n",
       " 'sample_entropy_D1_C4',\n",
       " 'sample_entropy_D2_C4',\n",
       " 'sample_entropy_D3_C4',\n",
       " 'sample_entropy_D4_C4',\n",
       " 'sample_entropy_D5_C4',\n",
       " 'sample_entropy_D6_C4',\n",
       " 'sample_entropy_D7_C4',\n",
       " 'dfa_A0_Fp1',\n",
       " 'dfa_A7_Fp1',\n",
       " 'dfa_D1_Fp1',\n",
       " 'dfa_D2_Fp1',\n",
       " 'dfa_D3_Fp1',\n",
       " 'dfa_D4_Fp1',\n",
       " 'dfa_D5_Fp1',\n",
       " 'dfa_D6_Fp1',\n",
       " 'dfa_D7_Fp1',\n",
       " 'hurst_exponent_A0_Fp1',\n",
       " 'hurst_exponent_A7_Fp1',\n",
       " 'hurst_exponent_D1_Fp1',\n",
       " 'hurst_exponent_D2_Fp1',\n",
       " 'hurst_exponent_D3_Fp1',\n",
       " 'hurst_exponent_D4_Fp1',\n",
       " 'hurst_exponent_D5_Fp1',\n",
       " 'hurst_exponent_D6_Fp1',\n",
       " 'hurst_exponent_D7_Fp1',\n",
       " 'lyap0_A0_Fp1',\n",
       " 'lyap0_A7_Fp1',\n",
       " 'lyap0_D1_Fp1',\n",
       " 'lyap0_D2_Fp1',\n",
       " 'lyap0_D3_Fp1',\n",
       " 'lyap0_D4_Fp1',\n",
       " 'lyap0_D5_Fp1',\n",
       " 'lyap0_D6_Fp1',\n",
       " 'lyap0_D7_Fp1',\n",
       " 'lyap1_A0_Fp1',\n",
       " 'lyap1_A7_Fp1',\n",
       " 'lyap1_D1_Fp1',\n",
       " 'lyap1_D2_Fp1',\n",
       " 'lyap1_D3_Fp1',\n",
       " 'lyap1_D4_Fp1',\n",
       " 'lyap1_D5_Fp1',\n",
       " 'lyap1_D6_Fp1',\n",
       " 'lyap1_D7_Fp1',\n",
       " 'lyap2_A0_Fp1',\n",
       " 'lyap2_A7_Fp1',\n",
       " 'lyap2_D1_Fp1',\n",
       " 'lyap2_D2_Fp1',\n",
       " 'lyap2_D3_Fp1',\n",
       " 'lyap2_D4_Fp1',\n",
       " 'lyap2_D5_Fp1',\n",
       " 'lyap2_D6_Fp1',\n",
       " 'lyap2_D7_Fp1',\n",
       " 'power_A0_Fp1',\n",
       " 'power_A7_Fp1',\n",
       " 'power_D1_Fp1',\n",
       " 'power_D2_Fp1',\n",
       " 'power_D3_Fp1',\n",
       " 'power_D4_Fp1',\n",
       " 'power_D5_Fp1',\n",
       " 'power_D6_Fp1',\n",
       " 'power_D7_Fp1',\n",
       " 'sample_entropy_A0_Fp1',\n",
       " 'sample_entropy_A7_Fp1',\n",
       " 'sample_entropy_D1_Fp1',\n",
       " 'sample_entropy_D2_Fp1',\n",
       " 'sample_entropy_D3_Fp1',\n",
       " 'sample_entropy_D4_Fp1',\n",
       " 'sample_entropy_D5_Fp1',\n",
       " 'sample_entropy_D6_Fp1',\n",
       " 'sample_entropy_D7_Fp1',\n",
       " 'dfa_A0_T7',\n",
       " 'dfa_A7_T7',\n",
       " 'dfa_D1_T7',\n",
       " 'dfa_D2_T7',\n",
       " 'dfa_D3_T7',\n",
       " 'dfa_D4_T7',\n",
       " 'dfa_D5_T7',\n",
       " 'dfa_D6_T7',\n",
       " 'dfa_D7_T7',\n",
       " 'hurst_exponent_A0_T7',\n",
       " 'hurst_exponent_A7_T7',\n",
       " 'hurst_exponent_D1_T7',\n",
       " 'hurst_exponent_D2_T7',\n",
       " 'hurst_exponent_D3_T7',\n",
       " 'hurst_exponent_D4_T7',\n",
       " 'hurst_exponent_D5_T7',\n",
       " 'hurst_exponent_D6_T7',\n",
       " 'hurst_exponent_D7_T7',\n",
       " 'lyap0_A0_T7',\n",
       " 'lyap0_A7_T7',\n",
       " 'lyap0_D1_T7',\n",
       " 'lyap0_D2_T7',\n",
       " 'lyap0_D3_T7',\n",
       " 'lyap0_D4_T7',\n",
       " 'lyap0_D5_T7',\n",
       " 'lyap0_D6_T7',\n",
       " 'lyap0_D7_T7',\n",
       " 'lyap1_A0_T7',\n",
       " 'lyap1_A7_T7',\n",
       " 'lyap1_D1_T7',\n",
       " 'lyap1_D2_T7',\n",
       " 'lyap1_D3_T7',\n",
       " 'lyap1_D4_T7',\n",
       " 'lyap1_D5_T7',\n",
       " 'lyap1_D6_T7',\n",
       " 'lyap1_D7_T7',\n",
       " 'lyap2_A0_T7',\n",
       " 'lyap2_A7_T7',\n",
       " 'lyap2_D1_T7',\n",
       " 'lyap2_D2_T7',\n",
       " 'lyap2_D3_T7',\n",
       " 'lyap2_D4_T7',\n",
       " 'lyap2_D5_T7',\n",
       " 'lyap2_D6_T7',\n",
       " 'lyap2_D7_T7',\n",
       " 'power_A0_T7',\n",
       " 'power_A7_T7',\n",
       " 'power_D1_T7',\n",
       " 'power_D2_T7',\n",
       " 'power_D3_T7',\n",
       " 'power_D4_T7',\n",
       " 'power_D5_T7',\n",
       " 'power_D6_T7',\n",
       " 'power_D7_T7',\n",
       " 'sample_entropy_A0_T7',\n",
       " 'sample_entropy_A7_T7',\n",
       " 'sample_entropy_D1_T7',\n",
       " 'sample_entropy_D2_T7',\n",
       " 'sample_entropy_D3_T7',\n",
       " 'sample_entropy_D4_T7',\n",
       " 'sample_entropy_D5_T7',\n",
       " 'sample_entropy_D6_T7',\n",
       " 'sample_entropy_D7_T7',\n",
       " 'dfa_A0_O2',\n",
       " 'dfa_A7_O2',\n",
       " 'dfa_D1_O2',\n",
       " 'dfa_D2_O2',\n",
       " 'dfa_D3_O2',\n",
       " 'dfa_D4_O2',\n",
       " 'dfa_D5_O2',\n",
       " 'dfa_D6_O2',\n",
       " 'dfa_D7_O2',\n",
       " 'hurst_exponent_A0_O2',\n",
       " 'hurst_exponent_A7_O2',\n",
       " 'hurst_exponent_D1_O2',\n",
       " 'hurst_exponent_D2_O2',\n",
       " 'hurst_exponent_D3_O2',\n",
       " 'hurst_exponent_D4_O2',\n",
       " 'hurst_exponent_D5_O2',\n",
       " 'hurst_exponent_D6_O2',\n",
       " 'hurst_exponent_D7_O2',\n",
       " 'lyap0_A0_O2',\n",
       " 'lyap0_A7_O2',\n",
       " 'lyap0_D1_O2',\n",
       " 'lyap0_D2_O2',\n",
       " 'lyap0_D3_O2',\n",
       " 'lyap0_D4_O2',\n",
       " 'lyap0_D5_O2',\n",
       " 'lyap0_D6_O2',\n",
       " 'lyap0_D7_O2',\n",
       " 'lyap1_A0_O2',\n",
       " 'lyap1_A7_O2',\n",
       " 'lyap1_D1_O2',\n",
       " 'lyap1_D2_O2',\n",
       " 'lyap1_D3_O2',\n",
       " 'lyap1_D4_O2',\n",
       " 'lyap1_D5_O2',\n",
       " 'lyap1_D6_O2',\n",
       " 'lyap1_D7_O2',\n",
       " 'lyap2_A0_O2',\n",
       " 'lyap2_A7_O2',\n",
       " 'lyap2_D1_O2',\n",
       " 'lyap2_D2_O2',\n",
       " 'lyap2_D3_O2',\n",
       " 'lyap2_D4_O2',\n",
       " 'lyap2_D5_O2',\n",
       " 'lyap2_D6_O2',\n",
       " 'lyap2_D7_O2',\n",
       " 'power_A0_O2',\n",
       " 'power_A7_O2',\n",
       " 'power_D1_O2',\n",
       " 'power_D2_O2',\n",
       " 'power_D3_O2',\n",
       " 'power_D4_O2',\n",
       " 'power_D5_O2',\n",
       " 'power_D6_O2',\n",
       " 'power_D7_O2',\n",
       " 'sample_entropy_A0_O2',\n",
       " 'sample_entropy_A7_O2',\n",
       " 'sample_entropy_D1_O2',\n",
       " 'sample_entropy_D2_O2',\n",
       " 'sample_entropy_D3_O2',\n",
       " 'sample_entropy_D4_O2',\n",
       " 'sample_entropy_D5_O2',\n",
       " 'sample_entropy_D6_O2',\n",
       " 'sample_entropy_D7_O2',\n",
       " 'dfa_A0_T8',\n",
       " 'dfa_A7_T8',\n",
       " 'dfa_D1_T8',\n",
       " 'dfa_D2_T8',\n",
       " 'dfa_D3_T8',\n",
       " 'dfa_D4_T8',\n",
       " 'dfa_D5_T8',\n",
       " 'dfa_D6_T8',\n",
       " 'dfa_D7_T8',\n",
       " 'hurst_exponent_A0_T8',\n",
       " 'hurst_exponent_A7_T8',\n",
       " 'hurst_exponent_D1_T8',\n",
       " 'hurst_exponent_D2_T8',\n",
       " 'hurst_exponent_D3_T8',\n",
       " 'hurst_exponent_D4_T8',\n",
       " 'hurst_exponent_D5_T8',\n",
       " 'hurst_exponent_D6_T8',\n",
       " 'hurst_exponent_D7_T8',\n",
       " 'lyap0_A0_T8',\n",
       " 'lyap0_A7_T8',\n",
       " 'lyap0_D1_T8',\n",
       " 'lyap0_D2_T8',\n",
       " 'lyap0_D3_T8',\n",
       " 'lyap0_D4_T8',\n",
       " 'lyap0_D5_T8',\n",
       " 'lyap0_D6_T8',\n",
       " 'lyap0_D7_T8',\n",
       " 'lyap1_A0_T8',\n",
       " 'lyap1_A7_T8',\n",
       " 'lyap1_D1_T8',\n",
       " 'lyap1_D2_T8',\n",
       " 'lyap1_D3_T8',\n",
       " 'lyap1_D4_T8',\n",
       " 'lyap1_D5_T8',\n",
       " 'lyap1_D6_T8',\n",
       " 'lyap1_D7_T8',\n",
       " 'lyap2_A0_T8',\n",
       " 'lyap2_A7_T8',\n",
       " 'lyap2_D1_T8',\n",
       " 'lyap2_D2_T8',\n",
       " 'lyap2_D3_T8',\n",
       " 'lyap2_D4_T8',\n",
       " 'lyap2_D5_T8',\n",
       " 'lyap2_D6_T8',\n",
       " 'lyap2_D7_T8',\n",
       " 'power_A0_T8',\n",
       " 'power_A7_T8',\n",
       " 'power_D1_T8',\n",
       " 'power_D2_T8',\n",
       " 'power_D3_T8',\n",
       " 'power_D4_T8',\n",
       " 'power_D5_T8',\n",
       " 'power_D6_T8',\n",
       " 'power_D7_T8',\n",
       " 'sample_entropy_A0_T8',\n",
       " 'sample_entropy_A7_T8',\n",
       " 'sample_entropy_D1_T8',\n",
       " 'sample_entropy_D2_T8',\n",
       " 'sample_entropy_D3_T8',\n",
       " 'sample_entropy_D4_T8',\n",
       " 'sample_entropy_D5_T8',\n",
       " 'sample_entropy_D6_T8',\n",
       " 'sample_entropy_D7_T8',\n",
       " 'dfa_A0_Fp2',\n",
       " 'dfa_A7_Fp2',\n",
       " 'dfa_D1_Fp2',\n",
       " 'dfa_D2_Fp2',\n",
       " 'dfa_D3_Fp2',\n",
       " 'dfa_D4_Fp2',\n",
       " 'dfa_D5_Fp2',\n",
       " 'dfa_D6_Fp2',\n",
       " 'dfa_D7_Fp2',\n",
       " 'hurst_exponent_A0_Fp2',\n",
       " 'hurst_exponent_A7_Fp2',\n",
       " 'hurst_exponent_D1_Fp2',\n",
       " 'hurst_exponent_D2_Fp2',\n",
       " 'hurst_exponent_D3_Fp2',\n",
       " 'hurst_exponent_D4_Fp2',\n",
       " 'hurst_exponent_D5_Fp2',\n",
       " 'hurst_exponent_D6_Fp2',\n",
       " 'hurst_exponent_D7_Fp2',\n",
       " 'lyap0_A0_Fp2',\n",
       " 'lyap0_A7_Fp2',\n",
       " 'lyap0_D1_Fp2',\n",
       " 'lyap0_D2_Fp2',\n",
       " 'lyap0_D3_Fp2',\n",
       " 'lyap0_D4_Fp2',\n",
       " 'lyap0_D5_Fp2',\n",
       " 'lyap0_D6_Fp2',\n",
       " 'lyap0_D7_Fp2',\n",
       " 'lyap1_A0_Fp2',\n",
       " 'lyap1_A7_Fp2',\n",
       " 'lyap1_D1_Fp2',\n",
       " 'lyap1_D2_Fp2',\n",
       " 'lyap1_D3_Fp2',\n",
       " 'lyap1_D4_Fp2',\n",
       " 'lyap1_D5_Fp2',\n",
       " 'lyap1_D6_Fp2',\n",
       " 'lyap1_D7_Fp2',\n",
       " 'lyap2_A0_Fp2',\n",
       " 'lyap2_A7_Fp2',\n",
       " 'lyap2_D1_Fp2',\n",
       " 'lyap2_D2_Fp2',\n",
       " 'lyap2_D3_Fp2',\n",
       " 'lyap2_D4_Fp2',\n",
       " 'lyap2_D5_Fp2',\n",
       " 'lyap2_D6_Fp2',\n",
       " 'lyap2_D7_Fp2',\n",
       " 'power_A0_Fp2',\n",
       " 'power_A7_Fp2',\n",
       " 'power_D1_Fp2',\n",
       " 'power_D2_Fp2',\n",
       " 'power_D3_Fp2',\n",
       " 'power_D4_Fp2',\n",
       " 'power_D5_Fp2',\n",
       " 'power_D6_Fp2',\n",
       " 'power_D7_Fp2',\n",
       " 'sample_entropy_A0_Fp2',\n",
       " 'sample_entropy_A7_Fp2',\n",
       " 'sample_entropy_D1_Fp2',\n",
       " 'sample_entropy_D2_Fp2',\n",
       " 'sample_entropy_D3_Fp2',\n",
       " 'sample_entropy_D4_Fp2',\n",
       " 'sample_entropy_D5_Fp2',\n",
       " 'sample_entropy_D6_Fp2',\n",
       " 'sample_entropy_D7_Fp2',\n",
       " 'average_diagonal_line_A0_O1',\n",
       " 'average_diagonal_line_A7_O1',\n",
       " 'average_diagonal_line_D1_O1',\n",
       " 'average_diagonal_line_D2_O1',\n",
       " 'average_diagonal_line_D3_O1',\n",
       " 'average_diagonal_line_D4_O1',\n",
       " 'average_diagonal_line_D5_O1',\n",
       " 'average_diagonal_line_D6_O1',\n",
       " 'average_diagonal_line_D7_O1',\n",
       " 'determinism_A0_O1',\n",
       " 'determinism_A7_O1',\n",
       " 'determinism_D1_O1',\n",
       " 'determinism_D2_O1',\n",
       " 'determinism_D3_O1',\n",
       " 'determinism_D4_O1',\n",
       " 'determinism_D5_O1',\n",
       " 'determinism_D6_O1',\n",
       " 'determinism_D7_O1',\n",
       " 'entropy_diagonal_lines_A0_O1',\n",
       " 'entropy_diagonal_lines_A7_O1',\n",
       " 'entropy_diagonal_lines_D1_O1',\n",
       " 'entropy_diagonal_lines_D2_O1',\n",
       " 'entropy_diagonal_lines_D3_O1',\n",
       " 'entropy_diagonal_lines_D4_O1',\n",
       " 'entropy_diagonal_lines_D5_O1',\n",
       " 'entropy_diagonal_lines_D6_O1',\n",
       " 'entropy_diagonal_lines_D7_O1',\n",
       " 'laminarity_A0_O1',\n",
       " 'laminarity_A7_O1',\n",
       " 'laminarity_D1_O1',\n",
       " 'laminarity_D2_O1',\n",
       " 'laminarity_D3_O1',\n",
       " 'laminarity_D4_O1',\n",
       " 'laminarity_D5_O1',\n",
       " 'laminarity_D6_O1',\n",
       " 'laminarity_D7_O1',\n",
       " 'longest_diagonal_line_A0_O1',\n",
       " 'longest_diagonal_line_A7_O1',\n",
       " 'longest_diagonal_line_D1_O1',\n",
       " 'longest_diagonal_line_D2_O1',\n",
       " 'longest_diagonal_line_D3_O1',\n",
       " 'longest_diagonal_line_D4_O1',\n",
       " 'longest_diagonal_line_D5_O1',\n",
       " 'longest_diagonal_line_D6_O1',\n",
       " 'longest_diagonal_line_D7_O1',\n",
       " 'recurrence_rate_A0_O1',\n",
       " 'recurrence_rate_A7_O1',\n",
       " 'recurrence_rate_D1_O1',\n",
       " 'recurrence_rate_D2_O1',\n",
       " 'recurrence_rate_D3_O1',\n",
       " 'recurrence_rate_D4_O1',\n",
       " 'recurrence_rate_D5_O1',\n",
       " 'recurrence_rate_D6_O1',\n",
       " 'recurrence_rate_D7_O1',\n",
       " 'trapping_time_A0_O1',\n",
       " 'trapping_time_A7_O1',\n",
       " 'trapping_time_D1_O1',\n",
       " 'trapping_time_D2_O1',\n",
       " 'trapping_time_D3_O1',\n",
       " 'trapping_time_D4_O1',\n",
       " 'trapping_time_D5_O1',\n",
       " 'trapping_time_D6_O1',\n",
       " 'trapping_time_D7_O1',\n",
       " 'average_diagonal_line_A0_C3',\n",
       " 'average_diagonal_line_A7_C3',\n",
       " 'average_diagonal_line_D1_C3',\n",
       " 'average_diagonal_line_D2_C3',\n",
       " 'average_diagonal_line_D3_C3',\n",
       " 'average_diagonal_line_D4_C3',\n",
       " 'average_diagonal_line_D5_C3',\n",
       " 'average_diagonal_line_D6_C3',\n",
       " 'average_diagonal_line_D7_C3',\n",
       " 'determinism_A0_C3',\n",
       " 'determinism_A7_C3',\n",
       " 'determinism_D1_C3',\n",
       " 'determinism_D2_C3',\n",
       " 'determinism_D3_C3',\n",
       " 'determinism_D4_C3',\n",
       " 'determinism_D5_C3',\n",
       " 'determinism_D6_C3',\n",
       " 'determinism_D7_C3',\n",
       " 'entropy_diagonal_lines_A0_C3',\n",
       " 'entropy_diagonal_lines_A7_C3',\n",
       " 'entropy_diagonal_lines_D1_C3',\n",
       " 'entropy_diagonal_lines_D2_C3',\n",
       " 'entropy_diagonal_lines_D3_C3',\n",
       " 'entropy_diagonal_lines_D4_C3',\n",
       " 'entropy_diagonal_lines_D5_C3',\n",
       " 'entropy_diagonal_lines_D6_C3',\n",
       " 'entropy_diagonal_lines_D7_C3',\n",
       " 'laminarity_A0_C3',\n",
       " 'laminarity_A7_C3',\n",
       " 'laminarity_D1_C3',\n",
       " 'laminarity_D2_C3',\n",
       " 'laminarity_D3_C3',\n",
       " 'laminarity_D4_C3',\n",
       " 'laminarity_D5_C3',\n",
       " 'laminarity_D6_C3',\n",
       " 'laminarity_D7_C3',\n",
       " 'longest_diagonal_line_A0_C3',\n",
       " 'longest_diagonal_line_A7_C3',\n",
       " 'longest_diagonal_line_D1_C3',\n",
       " 'longest_diagonal_line_D2_C3',\n",
       " 'longest_diagonal_line_D3_C3',\n",
       " 'longest_diagonal_line_D4_C3',\n",
       " 'longest_diagonal_line_D5_C3',\n",
       " 'longest_diagonal_line_D6_C3',\n",
       " 'longest_diagonal_line_D7_C3',\n",
       " 'recurrence_rate_A0_C3',\n",
       " 'recurrence_rate_A7_C3',\n",
       " 'recurrence_rate_D1_C3',\n",
       " 'recurrence_rate_D2_C3',\n",
       " 'recurrence_rate_D3_C3',\n",
       " 'recurrence_rate_D4_C3',\n",
       " 'recurrence_rate_D5_C3',\n",
       " 'recurrence_rate_D6_C3',\n",
       " 'recurrence_rate_D7_C3',\n",
       " 'trapping_time_A0_C3',\n",
       " 'trapping_time_A7_C3',\n",
       " 'trapping_time_D1_C3',\n",
       " 'trapping_time_D2_C3',\n",
       " 'trapping_time_D3_C3',\n",
       " 'trapping_time_D4_C3',\n",
       " 'trapping_time_D5_C3',\n",
       " 'trapping_time_D6_C3',\n",
       " 'trapping_time_D7_C3',\n",
       " 'average_diagonal_line_A0_C4',\n",
       " 'average_diagonal_line_A7_C4',\n",
       " 'average_diagonal_line_D1_C4',\n",
       " 'average_diagonal_line_D2_C4',\n",
       " 'average_diagonal_line_D3_C4',\n",
       " 'average_diagonal_line_D4_C4',\n",
       " 'average_diagonal_line_D5_C4',\n",
       " 'average_diagonal_line_D6_C4',\n",
       " 'average_diagonal_line_D7_C4',\n",
       " 'determinism_A0_C4',\n",
       " 'determinism_A7_C4',\n",
       " 'determinism_D1_C4',\n",
       " 'determinism_D2_C4',\n",
       " 'determinism_D3_C4',\n",
       " 'determinism_D4_C4',\n",
       " 'determinism_D5_C4',\n",
       " 'determinism_D6_C4',\n",
       " 'determinism_D7_C4',\n",
       " 'entropy_diagonal_lines_A0_C4',\n",
       " 'entropy_diagonal_lines_A7_C4',\n",
       " 'entropy_diagonal_lines_D1_C4',\n",
       " 'entropy_diagonal_lines_D2_C4',\n",
       " 'entropy_diagonal_lines_D3_C4',\n",
       " 'entropy_diagonal_lines_D4_C4',\n",
       " 'entropy_diagonal_lines_D5_C4',\n",
       " 'entropy_diagonal_lines_D6_C4',\n",
       " 'entropy_diagonal_lines_D7_C4',\n",
       " 'laminarity_A0_C4',\n",
       " 'laminarity_A7_C4',\n",
       " 'laminarity_D1_C4',\n",
       " 'laminarity_D2_C4',\n",
       " 'laminarity_D3_C4',\n",
       " 'laminarity_D4_C4',\n",
       " 'laminarity_D5_C4',\n",
       " 'laminarity_D6_C4',\n",
       " 'laminarity_D7_C4',\n",
       " 'longest_diagonal_line_A0_C4',\n",
       " 'longest_diagonal_line_A7_C4',\n",
       " 'longest_diagonal_line_D1_C4',\n",
       " 'longest_diagonal_line_D2_C4',\n",
       " 'longest_diagonal_line_D3_C4',\n",
       " 'longest_diagonal_line_D4_C4',\n",
       " 'longest_diagonal_line_D5_C4',\n",
       " 'longest_diagonal_line_D6_C4',\n",
       " 'longest_diagonal_line_D7_C4',\n",
       " 'recurrence_rate_A0_C4',\n",
       " 'recurrence_rate_A7_C4',\n",
       " 'recurrence_rate_D1_C4',\n",
       " 'recurrence_rate_D2_C4',\n",
       " 'recurrence_rate_D3_C4',\n",
       " 'recurrence_rate_D4_C4',\n",
       " 'recurrence_rate_D5_C4',\n",
       " 'recurrence_rate_D6_C4',\n",
       " 'recurrence_rate_D7_C4',\n",
       " 'trapping_time_A0_C4',\n",
       " 'trapping_time_A7_C4',\n",
       " 'trapping_time_D1_C4',\n",
       " 'trapping_time_D2_C4',\n",
       " 'trapping_time_D3_C4',\n",
       " 'trapping_time_D4_C4',\n",
       " 'trapping_time_D5_C4',\n",
       " 'trapping_time_D6_C4',\n",
       " 'trapping_time_D7_C4',\n",
       " 'average_diagonal_line_A0_Fp1',\n",
       " 'average_diagonal_line_A7_Fp1',\n",
       " 'average_diagonal_line_D1_Fp1',\n",
       " 'average_diagonal_line_D2_Fp1',\n",
       " 'average_diagonal_line_D3_Fp1',\n",
       " 'average_diagonal_line_D4_Fp1',\n",
       " 'average_diagonal_line_D5_Fp1',\n",
       " 'average_diagonal_line_D6_Fp1',\n",
       " 'average_diagonal_line_D7_Fp1',\n",
       " 'determinism_A0_Fp1',\n",
       " 'determinism_A7_Fp1',\n",
       " 'determinism_D1_Fp1',\n",
       " 'determinism_D2_Fp1',\n",
       " 'determinism_D3_Fp1',\n",
       " 'determinism_D4_Fp1',\n",
       " 'determinism_D5_Fp1',\n",
       " 'determinism_D6_Fp1',\n",
       " 'determinism_D7_Fp1',\n",
       " 'entropy_diagonal_lines_A0_Fp1',\n",
       " 'entropy_diagonal_lines_A7_Fp1',\n",
       " 'entropy_diagonal_lines_D1_Fp1',\n",
       " 'entropy_diagonal_lines_D2_Fp1',\n",
       " 'entropy_diagonal_lines_D3_Fp1',\n",
       " 'entropy_diagonal_lines_D4_Fp1',\n",
       " 'entropy_diagonal_lines_D5_Fp1',\n",
       " 'entropy_diagonal_lines_D6_Fp1',\n",
       " 'entropy_diagonal_lines_D7_Fp1',\n",
       " 'laminarity_A0_Fp1',\n",
       " 'laminarity_A7_Fp1',\n",
       " 'laminarity_D1_Fp1',\n",
       " 'laminarity_D2_Fp1',\n",
       " 'laminarity_D3_Fp1',\n",
       " 'laminarity_D4_Fp1',\n",
       " 'laminarity_D5_Fp1',\n",
       " 'laminarity_D6_Fp1',\n",
       " 'laminarity_D7_Fp1',\n",
       " 'longest_diagonal_line_A0_Fp1',\n",
       " 'longest_diagonal_line_A7_Fp1',\n",
       " 'longest_diagonal_line_D1_Fp1',\n",
       " 'longest_diagonal_line_D2_Fp1',\n",
       " 'longest_diagonal_line_D3_Fp1',\n",
       " 'longest_diagonal_line_D4_Fp1',\n",
       " 'longest_diagonal_line_D5_Fp1',\n",
       " 'longest_diagonal_line_D6_Fp1',\n",
       " 'longest_diagonal_line_D7_Fp1',\n",
       " 'recurrence_rate_A0_Fp1',\n",
       " 'recurrence_rate_A7_Fp1',\n",
       " 'recurrence_rate_D1_Fp1',\n",
       " 'recurrence_rate_D2_Fp1',\n",
       " 'recurrence_rate_D3_Fp1',\n",
       " 'recurrence_rate_D4_Fp1',\n",
       " 'recurrence_rate_D5_Fp1',\n",
       " 'recurrence_rate_D6_Fp1',\n",
       " 'recurrence_rate_D7_Fp1',\n",
       " 'trapping_time_A0_Fp1',\n",
       " 'trapping_time_A7_Fp1',\n",
       " 'trapping_time_D1_Fp1',\n",
       " 'trapping_time_D2_Fp1',\n",
       " 'trapping_time_D3_Fp1',\n",
       " 'trapping_time_D4_Fp1',\n",
       " 'trapping_time_D5_Fp1',\n",
       " 'trapping_time_D6_Fp1',\n",
       " 'trapping_time_D7_Fp1',\n",
       " 'average_diagonal_line_A0_T7',\n",
       " 'average_diagonal_line_A7_T7',\n",
       " 'average_diagonal_line_D1_T7',\n",
       " 'average_diagonal_line_D2_T7',\n",
       " 'average_diagonal_line_D3_T7',\n",
       " 'average_diagonal_line_D4_T7',\n",
       " 'average_diagonal_line_D5_T7',\n",
       " 'average_diagonal_line_D6_T7',\n",
       " 'average_diagonal_line_D7_T7',\n",
       " 'determinism_A0_T7',\n",
       " 'determinism_A7_T7',\n",
       " 'determinism_D1_T7',\n",
       " 'determinism_D2_T7',\n",
       " 'determinism_D3_T7',\n",
       " 'determinism_D4_T7',\n",
       " 'determinism_D5_T7',\n",
       " 'determinism_D6_T7',\n",
       " 'determinism_D7_T7',\n",
       " 'entropy_diagonal_lines_A0_T7',\n",
       " 'entropy_diagonal_lines_A7_T7',\n",
       " 'entropy_diagonal_lines_D1_T7',\n",
       " 'entropy_diagonal_lines_D2_T7',\n",
       " 'entropy_diagonal_lines_D3_T7',\n",
       " 'entropy_diagonal_lines_D4_T7',\n",
       " 'entropy_diagonal_lines_D5_T7',\n",
       " 'entropy_diagonal_lines_D6_T7',\n",
       " 'entropy_diagonal_lines_D7_T7',\n",
       " 'laminarity_A0_T7',\n",
       " 'laminarity_A7_T7',\n",
       " 'laminarity_D1_T7',\n",
       " 'laminarity_D2_T7',\n",
       " 'laminarity_D3_T7',\n",
       " 'laminarity_D4_T7',\n",
       " 'laminarity_D5_T7',\n",
       " 'laminarity_D6_T7',\n",
       " 'laminarity_D7_T7',\n",
       " 'longest_diagonal_line_A0_T7',\n",
       " 'longest_diagonal_line_A7_T7',\n",
       " 'longest_diagonal_line_D1_T7',\n",
       " 'longest_diagonal_line_D2_T7',\n",
       " 'longest_diagonal_line_D3_T7',\n",
       " 'longest_diagonal_line_D4_T7',\n",
       " 'longest_diagonal_line_D5_T7',\n",
       " 'longest_diagonal_line_D6_T7',\n",
       " 'longest_diagonal_line_D7_T7',\n",
       " 'recurrence_rate_A0_T7',\n",
       " 'recurrence_rate_A7_T7',\n",
       " 'recurrence_rate_D1_T7',\n",
       " 'recurrence_rate_D2_T7',\n",
       " 'recurrence_rate_D3_T7',\n",
       " 'recurrence_rate_D4_T7',\n",
       " 'recurrence_rate_D5_T7',\n",
       " 'recurrence_rate_D6_T7',\n",
       " 'recurrence_rate_D7_T7',\n",
       " 'trapping_time_A0_T7',\n",
       " 'trapping_time_A7_T7',\n",
       " 'trapping_time_D1_T7',\n",
       " 'trapping_time_D2_T7',\n",
       " 'trapping_time_D3_T7',\n",
       " 'trapping_time_D4_T7',\n",
       " 'trapping_time_D5_T7',\n",
       " 'trapping_time_D6_T7',\n",
       " 'trapping_time_D7_T7',\n",
       " 'average_diagonal_line_A0_O2',\n",
       " 'average_diagonal_line_A7_O2',\n",
       " 'average_diagonal_line_D1_O2',\n",
       " 'average_diagonal_line_D2_O2',\n",
       " 'average_diagonal_line_D3_O2',\n",
       " 'average_diagonal_line_D4_O2',\n",
       " 'average_diagonal_line_D5_O2',\n",
       " 'average_diagonal_line_D6_O2',\n",
       " 'average_diagonal_line_D7_O2',\n",
       " 'determinism_A0_O2',\n",
       " 'determinism_A7_O2',\n",
       " 'determinism_D1_O2',\n",
       " 'determinism_D2_O2',\n",
       " 'determinism_D3_O2',\n",
       " 'determinism_D4_O2',\n",
       " 'determinism_D5_O2',\n",
       " 'determinism_D6_O2',\n",
       " 'determinism_D7_O2',\n",
       " 'entropy_diagonal_lines_A0_O2',\n",
       " 'entropy_diagonal_lines_A7_O2',\n",
       " 'entropy_diagonal_lines_D1_O2',\n",
       " 'entropy_diagonal_lines_D2_O2',\n",
       " 'entropy_diagonal_lines_D3_O2',\n",
       " 'entropy_diagonal_lines_D4_O2',\n",
       " 'entropy_diagonal_lines_D5_O2',\n",
       " 'entropy_diagonal_lines_D6_O2',\n",
       " 'entropy_diagonal_lines_D7_O2',\n",
       " 'laminarity_A0_O2',\n",
       " 'laminarity_A7_O2',\n",
       " 'laminarity_D1_O2',\n",
       " 'laminarity_D2_O2',\n",
       " 'laminarity_D3_O2',\n",
       " 'laminarity_D4_O2',\n",
       " 'laminarity_D5_O2',\n",
       " 'laminarity_D6_O2',\n",
       " 'laminarity_D7_O2',\n",
       " 'longest_diagonal_line_A0_O2',\n",
       " 'longest_diagonal_line_A7_O2',\n",
       " 'longest_diagonal_line_D1_O2',\n",
       " 'longest_diagonal_line_D2_O2',\n",
       " 'longest_diagonal_line_D3_O2',\n",
       " 'longest_diagonal_line_D4_O2',\n",
       " 'longest_diagonal_line_D5_O2',\n",
       " 'longest_diagonal_line_D6_O2',\n",
       " 'longest_diagonal_line_D7_O2',\n",
       " 'recurrence_rate_A0_O2',\n",
       " 'recurrence_rate_A7_O2',\n",
       " 'recurrence_rate_D1_O2',\n",
       " 'recurrence_rate_D2_O2',\n",
       " 'recurrence_rate_D3_O2',\n",
       " 'recurrence_rate_D4_O2',\n",
       " 'recurrence_rate_D5_O2',\n",
       " 'recurrence_rate_D6_O2',\n",
       " 'recurrence_rate_D7_O2',\n",
       " 'trapping_time_A0_O2',\n",
       " 'trapping_time_A7_O2',\n",
       " 'trapping_time_D1_O2',\n",
       " 'trapping_time_D2_O2',\n",
       " 'trapping_time_D3_O2',\n",
       " 'trapping_time_D4_O2',\n",
       " 'trapping_time_D5_O2',\n",
       " 'trapping_time_D6_O2',\n",
       " 'trapping_time_D7_O2',\n",
       " 'average_diagonal_line_A0_T8',\n",
       " 'average_diagonal_line_A7_T8',\n",
       " 'average_diagonal_line_D1_T8',\n",
       " 'average_diagonal_line_D2_T8',\n",
       " 'average_diagonal_line_D3_T8',\n",
       " 'average_diagonal_line_D4_T8',\n",
       " 'average_diagonal_line_D5_T8',\n",
       " 'average_diagonal_line_D6_T8',\n",
       " 'average_diagonal_line_D7_T8',\n",
       " 'determinism_A0_T8',\n",
       " 'determinism_A7_T8',\n",
       " 'determinism_D1_T8',\n",
       " 'determinism_D2_T8',\n",
       " 'determinism_D3_T8',\n",
       " 'determinism_D4_T8',\n",
       " 'determinism_D5_T8',\n",
       " 'determinism_D6_T8',\n",
       " 'determinism_D7_T8',\n",
       " 'entropy_diagonal_lines_A0_T8',\n",
       " 'entropy_diagonal_lines_A7_T8',\n",
       " 'entropy_diagonal_lines_D1_T8',\n",
       " 'entropy_diagonal_lines_D2_T8',\n",
       " 'entropy_diagonal_lines_D3_T8',\n",
       " 'entropy_diagonal_lines_D4_T8',\n",
       " 'entropy_diagonal_lines_D5_T8',\n",
       " 'entropy_diagonal_lines_D6_T8',\n",
       " 'entropy_diagonal_lines_D7_T8',\n",
       " 'laminarity_A0_T8',\n",
       " 'laminarity_A7_T8',\n",
       " 'laminarity_D1_T8',\n",
       " 'laminarity_D2_T8',\n",
       " 'laminarity_D3_T8',\n",
       " 'laminarity_D4_T8',\n",
       " 'laminarity_D5_T8',\n",
       " 'laminarity_D6_T8',\n",
       " 'laminarity_D7_T8',\n",
       " 'longest_diagonal_line_A0_T8',\n",
       " 'longest_diagonal_line_A7_T8',\n",
       " 'longest_diagonal_line_D1_T8',\n",
       " 'longest_diagonal_line_D2_T8',\n",
       " 'longest_diagonal_line_D3_T8',\n",
       " 'longest_diagonal_line_D4_T8',\n",
       " 'longest_diagonal_line_D5_T8',\n",
       " 'longest_diagonal_line_D6_T8',\n",
       " 'longest_diagonal_line_D7_T8',\n",
       " 'recurrence_rate_A0_T8',\n",
       " 'recurrence_rate_A7_T8',\n",
       " 'recurrence_rate_D1_T8',\n",
       " 'recurrence_rate_D2_T8',\n",
       " 'recurrence_rate_D3_T8',\n",
       " 'recurrence_rate_D4_T8',\n",
       " 'recurrence_rate_D5_T8',\n",
       " 'recurrence_rate_D6_T8',\n",
       " 'recurrence_rate_D7_T8',\n",
       " 'trapping_time_A0_T8',\n",
       " 'trapping_time_A7_T8',\n",
       " 'trapping_time_D1_T8',\n",
       " 'trapping_time_D2_T8',\n",
       " 'trapping_time_D3_T8',\n",
       " 'trapping_time_D4_T8',\n",
       " 'trapping_time_D5_T8',\n",
       " 'trapping_time_D6_T8',\n",
       " 'trapping_time_D7_T8',\n",
       " 'average_diagonal_line_A0_Fp2',\n",
       " 'average_diagonal_line_A7_Fp2',\n",
       " 'average_diagonal_line_D1_Fp2',\n",
       " 'average_diagonal_line_D2_Fp2',\n",
       " 'average_diagonal_line_D3_Fp2',\n",
       " 'average_diagonal_line_D4_Fp2',\n",
       " 'average_diagonal_line_D5_Fp2',\n",
       " 'average_diagonal_line_D6_Fp2',\n",
       " 'average_diagonal_line_D7_Fp2',\n",
       " 'determinism_A0_Fp2',\n",
       " 'determinism_A7_Fp2',\n",
       " 'determinism_D1_Fp2',\n",
       " 'determinism_D2_Fp2',\n",
       " 'determinism_D3_Fp2',\n",
       " 'determinism_D4_Fp2',\n",
       " 'determinism_D5_Fp2',\n",
       " 'determinism_D6_Fp2',\n",
       " 'determinism_D7_Fp2',\n",
       " 'entropy_diagonal_lines_A0_Fp2',\n",
       " 'entropy_diagonal_lines_A7_Fp2',\n",
       " 'entropy_diagonal_lines_D1_Fp2',\n",
       " 'entropy_diagonal_lines_D2_Fp2',\n",
       " 'entropy_diagonal_lines_D3_Fp2',\n",
       " 'entropy_diagonal_lines_D4_Fp2',\n",
       " 'entropy_diagonal_lines_D5_Fp2',\n",
       " 'entropy_diagonal_lines_D6_Fp2',\n",
       " 'entropy_diagonal_lines_D7_Fp2',\n",
       " 'laminarity_A0_Fp2',\n",
       " 'laminarity_A7_Fp2',\n",
       " 'laminarity_D1_Fp2',\n",
       " 'laminarity_D2_Fp2',\n",
       " 'laminarity_D3_Fp2',\n",
       " 'laminarity_D4_Fp2',\n",
       " 'laminarity_D5_Fp2',\n",
       " 'laminarity_D6_Fp2',\n",
       " 'laminarity_D7_Fp2',\n",
       " 'longest_diagonal_line_A0_Fp2',\n",
       " 'longest_diagonal_line_A7_Fp2',\n",
       " 'longest_diagonal_line_D1_Fp2',\n",
       " 'longest_diagonal_line_D2_Fp2',\n",
       " 'longest_diagonal_line_D3_Fp2',\n",
       " 'longest_diagonal_line_D4_Fp2',\n",
       " 'longest_diagonal_line_D5_Fp2',\n",
       " 'longest_diagonal_line_D6_Fp2',\n",
       " 'longest_diagonal_line_D7_Fp2',\n",
       " 'recurrence_rate_A0_Fp2',\n",
       " 'recurrence_rate_A7_Fp2',\n",
       " 'recurrence_rate_D1_Fp2',\n",
       " 'recurrence_rate_D2_Fp2',\n",
       " 'recurrence_rate_D3_Fp2',\n",
       " 'recurrence_rate_D4_Fp2',\n",
       " 'recurrence_rate_D5_Fp2',\n",
       " 'recurrence_rate_D6_Fp2',\n",
       " 'recurrence_rate_D7_Fp2',\n",
       " 'trapping_time_A0_Fp2',\n",
       " ...]"
      ]
     },
     "execution_count": 35,
     "metadata": {},
     "output_type": "execute_result"
    }
   ],
   "source": [
    "[f[0] for f in features.dtypes if f[1] in ('double','int', 'string')]"
   ]
  },
  {
   "cell_type": "code",
   "execution_count": 46,
   "metadata": {
    "ExecuteTime": {
     "end_time": "2019-01-28T06:48:59.830542Z",
     "start_time": "2019-01-28T06:48:58.656881Z"
    },
    "run_control": {
     "marked": true
    }
   },
   "outputs": [],
   "source": [
    "features = features.select(*[f[0] for f in features.dtypes if f[1] in ('double','int', 'string')])"
   ]
  },
  {
   "cell_type": "code",
   "execution_count": 47,
   "metadata": {
    "ExecuteTime": {
     "end_time": "2019-01-28T06:48:59.854108Z",
     "start_time": "2019-01-28T06:48:59.832352Z"
    }
   },
   "outputs": [],
   "source": [
    "# Get the int/ str features\n",
    "feat_str = [d[0] for d in features.dtypes if d[1] == 'string']\n",
    "feat_dbl = [d[0] for d in features.dtypes if d[1] in ['double','int']]\n",
    "feat_all = []\n",
    "feat_all.extend(feat_dbl)\n",
    "feat_all.extend(feat_str)"
   ]
  },
  {
   "cell_type": "code",
   "execution_count": 48,
   "metadata": {
    "ExecuteTime": {
     "end_time": "2019-01-28T06:48:59.863207Z",
     "start_time": "2019-01-28T06:48:59.856308Z"
    }
   },
   "outputs": [
    {
     "data": {
      "text/plain": [
       "(0, 1009)"
      ]
     },
     "execution_count": 48,
     "metadata": {},
     "output_type": "execute_result"
    }
   ],
   "source": [
    "len(feat_str), len(feat_all)"
   ]
  },
  {
   "cell_type": "markdown",
   "metadata": {
    "ExecuteTime": {
     "end_time": "2019-01-21T01:30:28.811376Z",
     "start_time": "2019-01-21T01:30:28.808737Z"
    }
   },
   "source": [
    "### Remove nulls"
   ]
  },
  {
   "cell_type": "code",
   "execution_count": 49,
   "metadata": {
    "ExecuteTime": {
     "end_time": "2019-01-28T06:49:10.152141Z",
     "start_time": "2019-01-28T06:48:59.957932Z"
    }
   },
   "outputs": [],
   "source": [
    "nulls_df = features.select([((count(when(isnan(c)| col(c).isNull(), c)))*100.0/count(c)).alias(c)  for c in feat_all])"
   ]
  },
  {
   "cell_type": "markdown",
   "metadata": {},
   "source": [
    "#### Drop columns with more than 10% nulls"
   ]
  },
  {
   "cell_type": "code",
   "execution_count": 53,
   "metadata": {
    "ExecuteTime": {
     "end_time": "2019-01-28T06:54:21.423315Z",
     "start_time": "2019-01-28T06:54:21.417353Z"
    }
   },
   "outputs": [],
   "source": [
    "# Keep columns with less than 10% nulls remove rest\n",
    "null_threshold = 10.0\n",
    "def multicontd(x):\n",
    "    if x < null_threshold and x != 0:\n",
    "        return True"
   ]
  },
  {
   "cell_type": "code",
   "execution_count": 54,
   "metadata": {
    "ExecuteTime": {
     "end_time": "2019-01-28T06:54:21.761951Z",
     "start_time": "2019-01-28T06:54:21.749153Z"
    }
   },
   "outputs": [
    {
     "data": {
      "text/plain": [
       "['dfa_A0_O1',\n",
       " 'dfa_A7_O1',\n",
       " 'dfa_D1_O1',\n",
       " 'dfa_D2_O1',\n",
       " 'dfa_D3_O1',\n",
       " 'dfa_D4_O1',\n",
       " 'dfa_D5_O1',\n",
       " 'dfa_D6_O1',\n",
       " 'dfa_D7_O1',\n",
       " 'hurst_exponent_A0_O1',\n",
       " 'hurst_exponent_A7_O1',\n",
       " 'hurst_exponent_D1_O1',\n",
       " 'hurst_exponent_D2_O1',\n",
       " 'hurst_exponent_D3_O1',\n",
       " 'hurst_exponent_D4_O1',\n",
       " 'hurst_exponent_D5_O1',\n",
       " 'hurst_exponent_D6_O1',\n",
       " 'hurst_exponent_D7_O1',\n",
       " 'lyap0_A0_O1',\n",
       " 'lyap0_A7_O1',\n",
       " 'lyap0_D1_O1',\n",
       " 'lyap0_D2_O1',\n",
       " 'lyap0_D3_O1',\n",
       " 'lyap0_D4_O1',\n",
       " 'lyap0_D5_O1',\n",
       " 'lyap0_D6_O1',\n",
       " 'lyap0_D7_O1',\n",
       " 'lyap1_A0_O1',\n",
       " 'lyap1_A7_O1',\n",
       " 'lyap1_D1_O1',\n",
       " 'lyap1_D2_O1',\n",
       " 'lyap1_D3_O1',\n",
       " 'lyap1_D4_O1',\n",
       " 'lyap1_D5_O1',\n",
       " 'lyap1_D6_O1',\n",
       " 'lyap1_D7_O1',\n",
       " 'lyap2_A0_O1',\n",
       " 'lyap2_A7_O1',\n",
       " 'lyap2_D1_O1',\n",
       " 'lyap2_D2_O1',\n",
       " 'lyap2_D3_O1',\n",
       " 'lyap2_D4_O1',\n",
       " 'lyap2_D5_O1',\n",
       " 'lyap2_D6_O1',\n",
       " 'lyap2_D7_O1',\n",
       " 'power_A0_O1',\n",
       " 'power_A7_O1',\n",
       " 'power_D1_O1',\n",
       " 'power_D2_O1',\n",
       " 'power_D3_O1',\n",
       " 'power_D4_O1',\n",
       " 'power_D5_O1',\n",
       " 'power_D6_O1',\n",
       " 'power_D7_O1',\n",
       " 'sample_entropy_A0_O1',\n",
       " 'sample_entropy_A7_O1',\n",
       " 'sample_entropy_D1_O1',\n",
       " 'sample_entropy_D2_O1',\n",
       " 'sample_entropy_D3_O1',\n",
       " 'sample_entropy_D4_O1',\n",
       " 'sample_entropy_D5_O1',\n",
       " 'sample_entropy_D6_O1',\n",
       " 'sample_entropy_D7_O1',\n",
       " 'dfa_A0_C3',\n",
       " 'dfa_A7_C3',\n",
       " 'dfa_D1_C3',\n",
       " 'dfa_D2_C3',\n",
       " 'dfa_D3_C3',\n",
       " 'dfa_D4_C3',\n",
       " 'dfa_D5_C3',\n",
       " 'dfa_D6_C3',\n",
       " 'dfa_D7_C3',\n",
       " 'hurst_exponent_A0_C3',\n",
       " 'hurst_exponent_A7_C3',\n",
       " 'hurst_exponent_D1_C3',\n",
       " 'hurst_exponent_D2_C3',\n",
       " 'hurst_exponent_D3_C3',\n",
       " 'hurst_exponent_D4_C3',\n",
       " 'hurst_exponent_D5_C3',\n",
       " 'hurst_exponent_D6_C3',\n",
       " 'hurst_exponent_D7_C3',\n",
       " 'lyap0_A0_C3',\n",
       " 'lyap0_A7_C3',\n",
       " 'lyap0_D1_C3',\n",
       " 'lyap0_D2_C3',\n",
       " 'lyap0_D3_C3',\n",
       " 'lyap0_D4_C3',\n",
       " 'lyap0_D5_C3',\n",
       " 'lyap0_D6_C3',\n",
       " 'lyap0_D7_C3',\n",
       " 'lyap1_A0_C3',\n",
       " 'lyap1_A7_C3',\n",
       " 'lyap1_D1_C3',\n",
       " 'lyap1_D2_C3',\n",
       " 'lyap1_D3_C3',\n",
       " 'lyap1_D4_C3',\n",
       " 'lyap1_D5_C3',\n",
       " 'lyap1_D6_C3',\n",
       " 'lyap1_D7_C3',\n",
       " 'lyap2_A0_C3',\n",
       " 'lyap2_A7_C3',\n",
       " 'lyap2_D1_C3',\n",
       " 'lyap2_D2_C3',\n",
       " 'lyap2_D3_C3',\n",
       " 'lyap2_D4_C3',\n",
       " 'lyap2_D5_C3',\n",
       " 'lyap2_D6_C3',\n",
       " 'lyap2_D7_C3',\n",
       " 'power_A0_C3',\n",
       " 'power_A7_C3',\n",
       " 'power_D1_C3',\n",
       " 'power_D2_C3',\n",
       " 'power_D3_C3',\n",
       " 'power_D4_C3',\n",
       " 'power_D5_C3',\n",
       " 'power_D6_C3',\n",
       " 'power_D7_C3',\n",
       " 'sample_entropy_A0_C3',\n",
       " 'sample_entropy_A7_C3',\n",
       " 'sample_entropy_D1_C3',\n",
       " 'sample_entropy_D2_C3',\n",
       " 'sample_entropy_D3_C3',\n",
       " 'sample_entropy_D4_C3',\n",
       " 'sample_entropy_D5_C3',\n",
       " 'sample_entropy_D6_C3',\n",
       " 'sample_entropy_D7_C3',\n",
       " 'dfa_A0_C4',\n",
       " 'dfa_A7_C4',\n",
       " 'dfa_D1_C4',\n",
       " 'dfa_D2_C4',\n",
       " 'dfa_D3_C4',\n",
       " 'dfa_D4_C4',\n",
       " 'dfa_D5_C4',\n",
       " 'dfa_D6_C4',\n",
       " 'dfa_D7_C4',\n",
       " 'hurst_exponent_A0_C4',\n",
       " 'hurst_exponent_A7_C4',\n",
       " 'hurst_exponent_D1_C4',\n",
       " 'hurst_exponent_D2_C4',\n",
       " 'hurst_exponent_D3_C4',\n",
       " 'hurst_exponent_D4_C4',\n",
       " 'hurst_exponent_D5_C4',\n",
       " 'hurst_exponent_D6_C4',\n",
       " 'hurst_exponent_D7_C4',\n",
       " 'lyap0_A0_C4',\n",
       " 'lyap0_A7_C4',\n",
       " 'lyap0_D1_C4',\n",
       " 'lyap0_D2_C4',\n",
       " 'lyap0_D3_C4',\n",
       " 'lyap0_D4_C4',\n",
       " 'lyap0_D5_C4',\n",
       " 'lyap0_D6_C4',\n",
       " 'lyap0_D7_C4',\n",
       " 'lyap1_A0_C4',\n",
       " 'lyap1_A7_C4',\n",
       " 'lyap1_D1_C4',\n",
       " 'lyap1_D2_C4',\n",
       " 'lyap1_D3_C4',\n",
       " 'lyap1_D4_C4',\n",
       " 'lyap1_D5_C4',\n",
       " 'lyap1_D6_C4',\n",
       " 'lyap1_D7_C4',\n",
       " 'lyap2_A0_C4',\n",
       " 'lyap2_A7_C4',\n",
       " 'lyap2_D1_C4',\n",
       " 'lyap2_D2_C4',\n",
       " 'lyap2_D3_C4',\n",
       " 'lyap2_D4_C4',\n",
       " 'lyap2_D5_C4',\n",
       " 'lyap2_D6_C4',\n",
       " 'lyap2_D7_C4',\n",
       " 'power_A0_C4',\n",
       " 'power_A7_C4',\n",
       " 'power_D1_C4',\n",
       " 'power_D2_C4',\n",
       " 'power_D3_C4',\n",
       " 'power_D4_C4',\n",
       " 'power_D5_C4',\n",
       " 'power_D6_C4',\n",
       " 'power_D7_C4',\n",
       " 'sample_entropy_A0_C4',\n",
       " 'sample_entropy_A7_C4',\n",
       " 'sample_entropy_D1_C4',\n",
       " 'sample_entropy_D2_C4',\n",
       " 'sample_entropy_D3_C4',\n",
       " 'sample_entropy_D4_C4',\n",
       " 'sample_entropy_D5_C4',\n",
       " 'sample_entropy_D6_C4',\n",
       " 'sample_entropy_D7_C4',\n",
       " 'dfa_A0_Fp1',\n",
       " 'dfa_A7_Fp1',\n",
       " 'dfa_D1_Fp1',\n",
       " 'dfa_D2_Fp1',\n",
       " 'dfa_D3_Fp1',\n",
       " 'dfa_D4_Fp1',\n",
       " 'dfa_D5_Fp1',\n",
       " 'dfa_D6_Fp1',\n",
       " 'dfa_D7_Fp1',\n",
       " 'hurst_exponent_A0_Fp1',\n",
       " 'hurst_exponent_A7_Fp1',\n",
       " 'hurst_exponent_D1_Fp1',\n",
       " 'hurst_exponent_D2_Fp1',\n",
       " 'hurst_exponent_D3_Fp1',\n",
       " 'hurst_exponent_D4_Fp1',\n",
       " 'hurst_exponent_D5_Fp1',\n",
       " 'hurst_exponent_D6_Fp1',\n",
       " 'hurst_exponent_D7_Fp1',\n",
       " 'lyap0_A0_Fp1',\n",
       " 'lyap0_A7_Fp1',\n",
       " 'lyap0_D1_Fp1',\n",
       " 'lyap0_D2_Fp1',\n",
       " 'lyap0_D3_Fp1',\n",
       " 'lyap0_D4_Fp1',\n",
       " 'lyap0_D5_Fp1',\n",
       " 'lyap0_D6_Fp1',\n",
       " 'lyap0_D7_Fp1',\n",
       " 'lyap1_A0_Fp1',\n",
       " 'lyap1_A7_Fp1',\n",
       " 'lyap1_D1_Fp1',\n",
       " 'lyap1_D2_Fp1',\n",
       " 'lyap1_D3_Fp1',\n",
       " 'lyap1_D4_Fp1',\n",
       " 'lyap1_D5_Fp1',\n",
       " 'lyap1_D6_Fp1',\n",
       " 'lyap1_D7_Fp1',\n",
       " 'lyap2_A0_Fp1',\n",
       " 'lyap2_A7_Fp1',\n",
       " 'lyap2_D1_Fp1',\n",
       " 'lyap2_D2_Fp1',\n",
       " 'lyap2_D3_Fp1',\n",
       " 'lyap2_D4_Fp1',\n",
       " 'lyap2_D5_Fp1',\n",
       " 'lyap2_D6_Fp1',\n",
       " 'lyap2_D7_Fp1',\n",
       " 'power_A0_Fp1',\n",
       " 'power_A7_Fp1',\n",
       " 'power_D1_Fp1',\n",
       " 'power_D2_Fp1',\n",
       " 'power_D3_Fp1',\n",
       " 'power_D4_Fp1',\n",
       " 'power_D5_Fp1',\n",
       " 'power_D6_Fp1',\n",
       " 'power_D7_Fp1',\n",
       " 'sample_entropy_A0_Fp1',\n",
       " 'sample_entropy_A7_Fp1',\n",
       " 'sample_entropy_D1_Fp1',\n",
       " 'sample_entropy_D2_Fp1',\n",
       " 'sample_entropy_D3_Fp1',\n",
       " 'sample_entropy_D4_Fp1',\n",
       " 'sample_entropy_D5_Fp1',\n",
       " 'sample_entropy_D6_Fp1',\n",
       " 'sample_entropy_D7_Fp1',\n",
       " 'dfa_A0_T7',\n",
       " 'dfa_A7_T7',\n",
       " 'dfa_D1_T7',\n",
       " 'dfa_D2_T7',\n",
       " 'dfa_D3_T7',\n",
       " 'dfa_D4_T7',\n",
       " 'dfa_D5_T7',\n",
       " 'dfa_D6_T7',\n",
       " 'dfa_D7_T7',\n",
       " 'hurst_exponent_A0_T7',\n",
       " 'hurst_exponent_A7_T7',\n",
       " 'hurst_exponent_D1_T7',\n",
       " 'hurst_exponent_D2_T7',\n",
       " 'hurst_exponent_D3_T7',\n",
       " 'hurst_exponent_D4_T7',\n",
       " 'hurst_exponent_D5_T7',\n",
       " 'hurst_exponent_D6_T7',\n",
       " 'hurst_exponent_D7_T7',\n",
       " 'lyap0_A0_T7',\n",
       " 'lyap0_A7_T7',\n",
       " 'lyap0_D1_T7',\n",
       " 'lyap0_D2_T7',\n",
       " 'lyap0_D3_T7',\n",
       " 'lyap0_D4_T7',\n",
       " 'lyap0_D5_T7',\n",
       " 'lyap0_D6_T7',\n",
       " 'lyap0_D7_T7',\n",
       " 'lyap1_A0_T7',\n",
       " 'lyap1_A7_T7',\n",
       " 'lyap1_D1_T7',\n",
       " 'lyap1_D2_T7',\n",
       " 'lyap1_D3_T7',\n",
       " 'lyap1_D4_T7',\n",
       " 'lyap1_D5_T7',\n",
       " 'lyap1_D6_T7',\n",
       " 'lyap1_D7_T7',\n",
       " 'lyap2_A0_T7',\n",
       " 'lyap2_A7_T7',\n",
       " 'lyap2_D1_T7',\n",
       " 'lyap2_D2_T7',\n",
       " 'lyap2_D3_T7',\n",
       " 'lyap2_D4_T7',\n",
       " 'lyap2_D5_T7',\n",
       " 'lyap2_D6_T7',\n",
       " 'lyap2_D7_T7',\n",
       " 'power_A0_T7',\n",
       " 'power_A7_T7',\n",
       " 'power_D1_T7',\n",
       " 'power_D2_T7',\n",
       " 'power_D3_T7',\n",
       " 'power_D4_T7',\n",
       " 'power_D5_T7',\n",
       " 'power_D6_T7',\n",
       " 'power_D7_T7',\n",
       " 'sample_entropy_A0_T7',\n",
       " 'sample_entropy_A7_T7',\n",
       " 'sample_entropy_D1_T7',\n",
       " 'sample_entropy_D2_T7',\n",
       " 'sample_entropy_D3_T7',\n",
       " 'sample_entropy_D4_T7',\n",
       " 'sample_entropy_D5_T7',\n",
       " 'sample_entropy_D6_T7',\n",
       " 'sample_entropy_D7_T7',\n",
       " 'dfa_A0_O2',\n",
       " 'dfa_A7_O2',\n",
       " 'dfa_D1_O2',\n",
       " 'dfa_D2_O2',\n",
       " 'dfa_D3_O2',\n",
       " 'dfa_D4_O2',\n",
       " 'dfa_D5_O2',\n",
       " 'dfa_D6_O2',\n",
       " 'dfa_D7_O2',\n",
       " 'hurst_exponent_A0_O2',\n",
       " 'hurst_exponent_A7_O2',\n",
       " 'hurst_exponent_D1_O2',\n",
       " 'hurst_exponent_D2_O2',\n",
       " 'hurst_exponent_D3_O2',\n",
       " 'hurst_exponent_D4_O2',\n",
       " 'hurst_exponent_D5_O2',\n",
       " 'hurst_exponent_D6_O2',\n",
       " 'hurst_exponent_D7_O2',\n",
       " 'lyap0_A0_O2',\n",
       " 'lyap0_A7_O2',\n",
       " 'lyap0_D1_O2',\n",
       " 'lyap0_D2_O2',\n",
       " 'lyap0_D3_O2',\n",
       " 'lyap0_D4_O2',\n",
       " 'lyap0_D5_O2',\n",
       " 'lyap0_D6_O2',\n",
       " 'lyap0_D7_O2',\n",
       " 'lyap1_A0_O2',\n",
       " 'lyap1_A7_O2',\n",
       " 'lyap1_D1_O2',\n",
       " 'lyap1_D2_O2',\n",
       " 'lyap1_D3_O2',\n",
       " 'lyap1_D4_O2',\n",
       " 'lyap1_D5_O2',\n",
       " 'lyap1_D6_O2',\n",
       " 'lyap1_D7_O2',\n",
       " 'lyap2_A0_O2',\n",
       " 'lyap2_A7_O2',\n",
       " 'lyap2_D1_O2',\n",
       " 'lyap2_D2_O2',\n",
       " 'lyap2_D3_O2',\n",
       " 'lyap2_D4_O2',\n",
       " 'lyap2_D5_O2',\n",
       " 'lyap2_D6_O2',\n",
       " 'lyap2_D7_O2',\n",
       " 'power_A0_O2',\n",
       " 'power_A7_O2',\n",
       " 'power_D1_O2',\n",
       " 'power_D2_O2',\n",
       " 'power_D3_O2',\n",
       " 'power_D4_O2',\n",
       " 'power_D5_O2',\n",
       " 'power_D6_O2',\n",
       " 'power_D7_O2',\n",
       " 'sample_entropy_A0_O2',\n",
       " 'sample_entropy_A7_O2',\n",
       " 'sample_entropy_D1_O2',\n",
       " 'sample_entropy_D2_O2',\n",
       " 'sample_entropy_D3_O2',\n",
       " 'sample_entropy_D4_O2',\n",
       " 'sample_entropy_D5_O2',\n",
       " 'sample_entropy_D6_O2',\n",
       " 'sample_entropy_D7_O2',\n",
       " 'dfa_A0_T8',\n",
       " 'dfa_A7_T8',\n",
       " 'dfa_D1_T8',\n",
       " 'dfa_D2_T8',\n",
       " 'dfa_D3_T8',\n",
       " 'dfa_D4_T8',\n",
       " 'dfa_D5_T8',\n",
       " 'dfa_D6_T8',\n",
       " 'dfa_D7_T8',\n",
       " 'hurst_exponent_A0_T8',\n",
       " 'hurst_exponent_A7_T8',\n",
       " 'hurst_exponent_D1_T8',\n",
       " 'hurst_exponent_D2_T8',\n",
       " 'hurst_exponent_D3_T8',\n",
       " 'hurst_exponent_D4_T8',\n",
       " 'hurst_exponent_D5_T8',\n",
       " 'hurst_exponent_D6_T8',\n",
       " 'hurst_exponent_D7_T8',\n",
       " 'lyap0_A0_T8',\n",
       " 'lyap0_A7_T8',\n",
       " 'lyap0_D1_T8',\n",
       " 'lyap0_D2_T8',\n",
       " 'lyap0_D3_T8',\n",
       " 'lyap0_D4_T8',\n",
       " 'lyap0_D5_T8',\n",
       " 'lyap0_D6_T8',\n",
       " 'lyap0_D7_T8',\n",
       " 'lyap1_A0_T8',\n",
       " 'lyap1_A7_T8',\n",
       " 'lyap1_D1_T8',\n",
       " 'lyap1_D2_T8',\n",
       " 'lyap1_D3_T8',\n",
       " 'lyap1_D4_T8',\n",
       " 'lyap1_D5_T8',\n",
       " 'lyap1_D6_T8',\n",
       " 'lyap1_D7_T8',\n",
       " 'lyap2_A0_T8',\n",
       " 'lyap2_A7_T8',\n",
       " 'lyap2_D1_T8',\n",
       " 'lyap2_D2_T8',\n",
       " 'lyap2_D3_T8',\n",
       " 'lyap2_D4_T8',\n",
       " 'lyap2_D5_T8',\n",
       " 'lyap2_D6_T8',\n",
       " 'lyap2_D7_T8',\n",
       " 'power_A0_T8',\n",
       " 'power_A7_T8',\n",
       " 'power_D1_T8',\n",
       " 'power_D2_T8',\n",
       " 'power_D3_T8',\n",
       " 'power_D4_T8',\n",
       " 'power_D5_T8',\n",
       " 'power_D6_T8',\n",
       " 'power_D7_T8',\n",
       " 'sample_entropy_A0_T8',\n",
       " 'sample_entropy_A7_T8',\n",
       " 'sample_entropy_D1_T8',\n",
       " 'sample_entropy_D2_T8',\n",
       " 'sample_entropy_D3_T8',\n",
       " 'sample_entropy_D4_T8',\n",
       " 'sample_entropy_D5_T8',\n",
       " 'sample_entropy_D6_T8',\n",
       " 'sample_entropy_D7_T8',\n",
       " 'dfa_A0_Fp2',\n",
       " 'dfa_A7_Fp2',\n",
       " 'dfa_D1_Fp2',\n",
       " 'dfa_D2_Fp2',\n",
       " 'dfa_D3_Fp2',\n",
       " 'dfa_D4_Fp2',\n",
       " 'dfa_D5_Fp2',\n",
       " 'dfa_D6_Fp2',\n",
       " 'dfa_D7_Fp2',\n",
       " 'hurst_exponent_A0_Fp2',\n",
       " 'hurst_exponent_A7_Fp2',\n",
       " 'hurst_exponent_D1_Fp2',\n",
       " 'hurst_exponent_D2_Fp2',\n",
       " 'hurst_exponent_D3_Fp2',\n",
       " 'hurst_exponent_D4_Fp2',\n",
       " 'hurst_exponent_D5_Fp2',\n",
       " 'hurst_exponent_D6_Fp2',\n",
       " 'hurst_exponent_D7_Fp2',\n",
       " 'lyap0_A0_Fp2',\n",
       " 'lyap0_A7_Fp2',\n",
       " 'lyap0_D1_Fp2',\n",
       " 'lyap0_D2_Fp2',\n",
       " 'lyap0_D3_Fp2',\n",
       " 'lyap0_D4_Fp2',\n",
       " 'lyap0_D5_Fp2',\n",
       " 'lyap0_D6_Fp2',\n",
       " 'lyap0_D7_Fp2',\n",
       " 'lyap1_A0_Fp2',\n",
       " 'lyap1_A7_Fp2',\n",
       " 'lyap1_D1_Fp2',\n",
       " 'lyap1_D2_Fp2',\n",
       " 'lyap1_D3_Fp2',\n",
       " 'lyap1_D4_Fp2',\n",
       " 'lyap1_D5_Fp2',\n",
       " 'lyap1_D6_Fp2',\n",
       " 'lyap1_D7_Fp2',\n",
       " 'lyap2_A0_Fp2',\n",
       " 'lyap2_A7_Fp2',\n",
       " 'lyap2_D1_Fp2',\n",
       " 'lyap2_D2_Fp2',\n",
       " 'lyap2_D3_Fp2',\n",
       " 'lyap2_D4_Fp2',\n",
       " 'lyap2_D5_Fp2',\n",
       " 'lyap2_D6_Fp2',\n",
       " 'lyap2_D7_Fp2',\n",
       " 'power_A0_Fp2',\n",
       " 'power_A7_Fp2',\n",
       " 'power_D1_Fp2',\n",
       " 'power_D2_Fp2',\n",
       " 'power_D3_Fp2',\n",
       " 'power_D4_Fp2',\n",
       " 'power_D5_Fp2',\n",
       " 'power_D6_Fp2',\n",
       " 'power_D7_Fp2',\n",
       " 'sample_entropy_A0_Fp2',\n",
       " 'sample_entropy_A7_Fp2',\n",
       " 'sample_entropy_D1_Fp2',\n",
       " 'sample_entropy_D2_Fp2',\n",
       " 'sample_entropy_D3_Fp2',\n",
       " 'sample_entropy_D4_Fp2',\n",
       " 'sample_entropy_D5_Fp2',\n",
       " 'sample_entropy_D6_Fp2',\n",
       " 'sample_entropy_D7_Fp2',\n",
       " 'average_diagonal_line_A0_O1',\n",
       " 'average_diagonal_line_A7_O1',\n",
       " 'average_diagonal_line_D1_O1',\n",
       " 'average_diagonal_line_D2_O1',\n",
       " 'average_diagonal_line_D3_O1',\n",
       " 'average_diagonal_line_D4_O1',\n",
       " 'average_diagonal_line_D5_O1',\n",
       " 'average_diagonal_line_D6_O1',\n",
       " 'average_diagonal_line_D7_O1',\n",
       " 'determinism_A0_O1',\n",
       " 'determinism_A7_O1',\n",
       " 'determinism_D1_O1',\n",
       " 'determinism_D2_O1',\n",
       " 'determinism_D3_O1',\n",
       " 'determinism_D4_O1',\n",
       " 'determinism_D5_O1',\n",
       " 'determinism_D6_O1',\n",
       " 'determinism_D7_O1',\n",
       " 'entropy_diagonal_lines_A0_O1',\n",
       " 'entropy_diagonal_lines_A7_O1',\n",
       " 'entropy_diagonal_lines_D1_O1',\n",
       " 'entropy_diagonal_lines_D2_O1',\n",
       " 'entropy_diagonal_lines_D3_O1',\n",
       " 'entropy_diagonal_lines_D4_O1',\n",
       " 'entropy_diagonal_lines_D5_O1',\n",
       " 'entropy_diagonal_lines_D6_O1',\n",
       " 'entropy_diagonal_lines_D7_O1',\n",
       " 'laminarity_A0_O1',\n",
       " 'laminarity_A7_O1',\n",
       " 'laminarity_D1_O1',\n",
       " 'laminarity_D2_O1',\n",
       " 'laminarity_D3_O1',\n",
       " 'laminarity_D4_O1',\n",
       " 'laminarity_D5_O1',\n",
       " 'laminarity_D6_O1',\n",
       " 'laminarity_D7_O1',\n",
       " 'longest_diagonal_line_A0_O1',\n",
       " 'longest_diagonal_line_A7_O1',\n",
       " 'longest_diagonal_line_D1_O1',\n",
       " 'longest_diagonal_line_D2_O1',\n",
       " 'longest_diagonal_line_D3_O1',\n",
       " 'longest_diagonal_line_D4_O1',\n",
       " 'longest_diagonal_line_D5_O1',\n",
       " 'longest_diagonal_line_D6_O1',\n",
       " 'longest_diagonal_line_D7_O1',\n",
       " 'recurrence_rate_A0_O1',\n",
       " 'recurrence_rate_A7_O1',\n",
       " 'recurrence_rate_D1_O1',\n",
       " 'recurrence_rate_D2_O1',\n",
       " 'recurrence_rate_D3_O1',\n",
       " 'recurrence_rate_D4_O1',\n",
       " 'recurrence_rate_D5_O1',\n",
       " 'recurrence_rate_D6_O1',\n",
       " 'recurrence_rate_D7_O1',\n",
       " 'trapping_time_A0_O1',\n",
       " 'trapping_time_A7_O1',\n",
       " 'trapping_time_D1_O1',\n",
       " 'trapping_time_D2_O1',\n",
       " 'trapping_time_D3_O1',\n",
       " 'trapping_time_D4_O1',\n",
       " 'trapping_time_D5_O1',\n",
       " 'trapping_time_D6_O1',\n",
       " 'trapping_time_D7_O1',\n",
       " 'average_diagonal_line_A0_C3',\n",
       " 'average_diagonal_line_A7_C3',\n",
       " 'average_diagonal_line_D1_C3',\n",
       " 'average_diagonal_line_D2_C3',\n",
       " 'average_diagonal_line_D3_C3',\n",
       " 'average_diagonal_line_D4_C3',\n",
       " 'average_diagonal_line_D5_C3',\n",
       " 'average_diagonal_line_D6_C3',\n",
       " 'average_diagonal_line_D7_C3',\n",
       " 'determinism_A0_C3',\n",
       " 'determinism_A7_C3',\n",
       " 'determinism_D1_C3',\n",
       " 'determinism_D2_C3',\n",
       " 'determinism_D3_C3',\n",
       " 'determinism_D4_C3',\n",
       " 'determinism_D5_C3',\n",
       " 'determinism_D6_C3',\n",
       " 'determinism_D7_C3',\n",
       " 'entropy_diagonal_lines_A0_C3',\n",
       " 'entropy_diagonal_lines_A7_C3',\n",
       " 'entropy_diagonal_lines_D1_C3',\n",
       " 'entropy_diagonal_lines_D2_C3',\n",
       " 'entropy_diagonal_lines_D3_C3',\n",
       " 'entropy_diagonal_lines_D4_C3',\n",
       " 'entropy_diagonal_lines_D5_C3',\n",
       " 'entropy_diagonal_lines_D6_C3',\n",
       " 'entropy_diagonal_lines_D7_C3',\n",
       " 'laminarity_A0_C3',\n",
       " 'laminarity_A7_C3',\n",
       " 'laminarity_D1_C3',\n",
       " 'laminarity_D2_C3',\n",
       " 'laminarity_D3_C3',\n",
       " 'laminarity_D4_C3',\n",
       " 'laminarity_D5_C3',\n",
       " 'laminarity_D6_C3',\n",
       " 'laminarity_D7_C3',\n",
       " 'longest_diagonal_line_A0_C3',\n",
       " 'longest_diagonal_line_A7_C3',\n",
       " 'longest_diagonal_line_D1_C3',\n",
       " 'longest_diagonal_line_D2_C3',\n",
       " 'longest_diagonal_line_D3_C3',\n",
       " 'longest_diagonal_line_D4_C3',\n",
       " 'longest_diagonal_line_D5_C3',\n",
       " 'longest_diagonal_line_D6_C3',\n",
       " 'longest_diagonal_line_D7_C3',\n",
       " 'recurrence_rate_A0_C3',\n",
       " 'recurrence_rate_A7_C3',\n",
       " 'recurrence_rate_D1_C3',\n",
       " 'recurrence_rate_D2_C3',\n",
       " 'recurrence_rate_D3_C3',\n",
       " 'recurrence_rate_D4_C3',\n",
       " 'recurrence_rate_D5_C3',\n",
       " 'recurrence_rate_D6_C3',\n",
       " 'recurrence_rate_D7_C3',\n",
       " 'trapping_time_A0_C3',\n",
       " 'trapping_time_A7_C3',\n",
       " 'trapping_time_D1_C3',\n",
       " 'trapping_time_D2_C3',\n",
       " 'trapping_time_D3_C3',\n",
       " 'trapping_time_D4_C3',\n",
       " 'trapping_time_D5_C3',\n",
       " 'trapping_time_D6_C3',\n",
       " 'trapping_time_D7_C3',\n",
       " 'average_diagonal_line_A0_C4',\n",
       " 'average_diagonal_line_A7_C4',\n",
       " 'average_diagonal_line_D1_C4',\n",
       " 'average_diagonal_line_D2_C4',\n",
       " 'average_diagonal_line_D3_C4',\n",
       " 'average_diagonal_line_D4_C4',\n",
       " 'average_diagonal_line_D5_C4',\n",
       " 'average_diagonal_line_D6_C4',\n",
       " 'average_diagonal_line_D7_C4',\n",
       " 'determinism_A0_C4',\n",
       " 'determinism_A7_C4',\n",
       " 'determinism_D1_C4',\n",
       " 'determinism_D2_C4',\n",
       " 'determinism_D3_C4',\n",
       " 'determinism_D4_C4',\n",
       " 'determinism_D5_C4',\n",
       " 'determinism_D6_C4',\n",
       " 'determinism_D7_C4',\n",
       " 'entropy_diagonal_lines_A0_C4',\n",
       " 'entropy_diagonal_lines_A7_C4',\n",
       " 'entropy_diagonal_lines_D1_C4',\n",
       " 'entropy_diagonal_lines_D2_C4',\n",
       " 'entropy_diagonal_lines_D3_C4',\n",
       " 'entropy_diagonal_lines_D4_C4',\n",
       " 'entropy_diagonal_lines_D5_C4',\n",
       " 'entropy_diagonal_lines_D6_C4',\n",
       " 'entropy_diagonal_lines_D7_C4',\n",
       " 'laminarity_A0_C4',\n",
       " 'laminarity_A7_C4',\n",
       " 'laminarity_D1_C4',\n",
       " 'laminarity_D2_C4',\n",
       " 'laminarity_D3_C4',\n",
       " 'laminarity_D4_C4',\n",
       " 'laminarity_D5_C4',\n",
       " 'laminarity_D6_C4',\n",
       " 'laminarity_D7_C4',\n",
       " 'longest_diagonal_line_A0_C4',\n",
       " 'longest_diagonal_line_A7_C4',\n",
       " 'longest_diagonal_line_D1_C4',\n",
       " 'longest_diagonal_line_D2_C4',\n",
       " 'longest_diagonal_line_D3_C4',\n",
       " 'longest_diagonal_line_D4_C4',\n",
       " 'longest_diagonal_line_D5_C4',\n",
       " 'longest_diagonal_line_D6_C4',\n",
       " 'longest_diagonal_line_D7_C4',\n",
       " 'recurrence_rate_A0_C4',\n",
       " 'recurrence_rate_A7_C4',\n",
       " 'recurrence_rate_D1_C4',\n",
       " 'recurrence_rate_D2_C4',\n",
       " 'recurrence_rate_D3_C4',\n",
       " 'recurrence_rate_D4_C4',\n",
       " 'recurrence_rate_D5_C4',\n",
       " 'recurrence_rate_D6_C4',\n",
       " 'recurrence_rate_D7_C4',\n",
       " 'trapping_time_A0_C4',\n",
       " 'trapping_time_A7_C4',\n",
       " 'trapping_time_D1_C4',\n",
       " 'trapping_time_D2_C4',\n",
       " 'trapping_time_D3_C4',\n",
       " 'trapping_time_D4_C4',\n",
       " 'trapping_time_D5_C4',\n",
       " 'trapping_time_D6_C4',\n",
       " 'trapping_time_D7_C4',\n",
       " 'average_diagonal_line_A0_Fp1',\n",
       " 'average_diagonal_line_A7_Fp1',\n",
       " 'average_diagonal_line_D1_Fp1',\n",
       " 'average_diagonal_line_D2_Fp1',\n",
       " 'average_diagonal_line_D3_Fp1',\n",
       " 'average_diagonal_line_D4_Fp1',\n",
       " 'average_diagonal_line_D5_Fp1',\n",
       " 'average_diagonal_line_D6_Fp1',\n",
       " 'average_diagonal_line_D7_Fp1',\n",
       " 'determinism_A0_Fp1',\n",
       " 'determinism_A7_Fp1',\n",
       " 'determinism_D1_Fp1',\n",
       " 'determinism_D2_Fp1',\n",
       " 'determinism_D3_Fp1',\n",
       " 'determinism_D4_Fp1',\n",
       " 'determinism_D5_Fp1',\n",
       " 'determinism_D6_Fp1',\n",
       " 'determinism_D7_Fp1',\n",
       " 'entropy_diagonal_lines_A0_Fp1',\n",
       " 'entropy_diagonal_lines_A7_Fp1',\n",
       " 'entropy_diagonal_lines_D1_Fp1',\n",
       " 'entropy_diagonal_lines_D2_Fp1',\n",
       " 'entropy_diagonal_lines_D3_Fp1',\n",
       " 'entropy_diagonal_lines_D4_Fp1',\n",
       " 'entropy_diagonal_lines_D5_Fp1',\n",
       " 'entropy_diagonal_lines_D6_Fp1',\n",
       " 'entropy_diagonal_lines_D7_Fp1',\n",
       " 'laminarity_A0_Fp1',\n",
       " 'laminarity_A7_Fp1',\n",
       " 'laminarity_D1_Fp1',\n",
       " 'laminarity_D2_Fp1',\n",
       " 'laminarity_D3_Fp1',\n",
       " 'laminarity_D4_Fp1',\n",
       " 'laminarity_D5_Fp1',\n",
       " 'laminarity_D6_Fp1',\n",
       " 'laminarity_D7_Fp1',\n",
       " 'longest_diagonal_line_A0_Fp1',\n",
       " 'longest_diagonal_line_A7_Fp1',\n",
       " 'longest_diagonal_line_D1_Fp1',\n",
       " 'longest_diagonal_line_D2_Fp1',\n",
       " 'longest_diagonal_line_D3_Fp1',\n",
       " 'longest_diagonal_line_D4_Fp1',\n",
       " 'longest_diagonal_line_D5_Fp1',\n",
       " 'longest_diagonal_line_D6_Fp1',\n",
       " 'longest_diagonal_line_D7_Fp1',\n",
       " 'recurrence_rate_A0_Fp1',\n",
       " 'recurrence_rate_A7_Fp1',\n",
       " 'recurrence_rate_D1_Fp1',\n",
       " 'recurrence_rate_D2_Fp1',\n",
       " 'recurrence_rate_D3_Fp1',\n",
       " 'recurrence_rate_D4_Fp1',\n",
       " 'recurrence_rate_D5_Fp1',\n",
       " 'recurrence_rate_D6_Fp1',\n",
       " 'recurrence_rate_D7_Fp1',\n",
       " 'trapping_time_A0_Fp1',\n",
       " 'trapping_time_A7_Fp1',\n",
       " 'trapping_time_D1_Fp1',\n",
       " 'trapping_time_D2_Fp1',\n",
       " 'trapping_time_D3_Fp1',\n",
       " 'trapping_time_D4_Fp1',\n",
       " 'trapping_time_D5_Fp1',\n",
       " 'trapping_time_D6_Fp1',\n",
       " 'trapping_time_D7_Fp1',\n",
       " 'average_diagonal_line_A0_T7',\n",
       " 'average_diagonal_line_A7_T7',\n",
       " 'average_diagonal_line_D1_T7',\n",
       " 'average_diagonal_line_D2_T7',\n",
       " 'average_diagonal_line_D3_T7',\n",
       " 'average_diagonal_line_D4_T7',\n",
       " 'average_diagonal_line_D5_T7',\n",
       " 'average_diagonal_line_D6_T7',\n",
       " 'average_diagonal_line_D7_T7',\n",
       " 'determinism_A0_T7',\n",
       " 'determinism_A7_T7',\n",
       " 'determinism_D1_T7',\n",
       " 'determinism_D2_T7',\n",
       " 'determinism_D3_T7',\n",
       " 'determinism_D4_T7',\n",
       " 'determinism_D5_T7',\n",
       " 'determinism_D6_T7',\n",
       " 'determinism_D7_T7',\n",
       " 'entropy_diagonal_lines_A0_T7',\n",
       " 'entropy_diagonal_lines_A7_T7',\n",
       " 'entropy_diagonal_lines_D1_T7',\n",
       " 'entropy_diagonal_lines_D2_T7',\n",
       " 'entropy_diagonal_lines_D3_T7',\n",
       " 'entropy_diagonal_lines_D4_T7',\n",
       " 'entropy_diagonal_lines_D5_T7',\n",
       " 'entropy_diagonal_lines_D6_T7',\n",
       " 'entropy_diagonal_lines_D7_T7',\n",
       " 'laminarity_A0_T7',\n",
       " 'laminarity_A7_T7',\n",
       " 'laminarity_D1_T7',\n",
       " 'laminarity_D2_T7',\n",
       " 'laminarity_D3_T7',\n",
       " 'laminarity_D4_T7',\n",
       " 'laminarity_D5_T7',\n",
       " 'laminarity_D6_T7',\n",
       " 'laminarity_D7_T7',\n",
       " 'longest_diagonal_line_A0_T7',\n",
       " 'longest_diagonal_line_A7_T7',\n",
       " 'longest_diagonal_line_D1_T7',\n",
       " 'longest_diagonal_line_D2_T7',\n",
       " 'longest_diagonal_line_D3_T7',\n",
       " 'longest_diagonal_line_D4_T7',\n",
       " 'longest_diagonal_line_D5_T7',\n",
       " 'longest_diagonal_line_D6_T7',\n",
       " 'longest_diagonal_line_D7_T7',\n",
       " 'recurrence_rate_A0_T7',\n",
       " 'recurrence_rate_A7_T7',\n",
       " 'recurrence_rate_D1_T7',\n",
       " 'recurrence_rate_D2_T7',\n",
       " 'recurrence_rate_D3_T7',\n",
       " 'recurrence_rate_D4_T7',\n",
       " 'recurrence_rate_D5_T7',\n",
       " 'recurrence_rate_D6_T7',\n",
       " 'recurrence_rate_D7_T7',\n",
       " 'trapping_time_A0_T7',\n",
       " 'trapping_time_A7_T7',\n",
       " 'trapping_time_D1_T7',\n",
       " 'trapping_time_D2_T7',\n",
       " 'trapping_time_D3_T7',\n",
       " 'trapping_time_D4_T7',\n",
       " 'trapping_time_D5_T7',\n",
       " 'trapping_time_D6_T7',\n",
       " 'trapping_time_D7_T7',\n",
       " 'average_diagonal_line_A0_O2',\n",
       " 'average_diagonal_line_A7_O2',\n",
       " 'average_diagonal_line_D1_O2',\n",
       " 'average_diagonal_line_D2_O2',\n",
       " 'average_diagonal_line_D3_O2',\n",
       " 'average_diagonal_line_D4_O2',\n",
       " 'average_diagonal_line_D5_O2',\n",
       " 'average_diagonal_line_D6_O2',\n",
       " 'average_diagonal_line_D7_O2',\n",
       " 'determinism_A0_O2',\n",
       " 'determinism_A7_O2',\n",
       " 'determinism_D1_O2',\n",
       " 'determinism_D2_O2',\n",
       " 'determinism_D3_O2',\n",
       " 'determinism_D4_O2',\n",
       " 'determinism_D5_O2',\n",
       " 'determinism_D6_O2',\n",
       " 'determinism_D7_O2',\n",
       " 'entropy_diagonal_lines_A0_O2',\n",
       " 'entropy_diagonal_lines_A7_O2',\n",
       " 'entropy_diagonal_lines_D1_O2',\n",
       " 'entropy_diagonal_lines_D2_O2',\n",
       " 'entropy_diagonal_lines_D3_O2',\n",
       " 'entropy_diagonal_lines_D4_O2',\n",
       " 'entropy_diagonal_lines_D5_O2',\n",
       " 'entropy_diagonal_lines_D6_O2',\n",
       " 'entropy_diagonal_lines_D7_O2',\n",
       " 'laminarity_A0_O2',\n",
       " 'laminarity_A7_O2',\n",
       " 'laminarity_D1_O2',\n",
       " 'laminarity_D2_O2',\n",
       " 'laminarity_D3_O2',\n",
       " 'laminarity_D4_O2',\n",
       " 'laminarity_D5_O2',\n",
       " 'laminarity_D6_O2',\n",
       " 'laminarity_D7_O2',\n",
       " 'longest_diagonal_line_A0_O2',\n",
       " 'longest_diagonal_line_A7_O2',\n",
       " 'longest_diagonal_line_D1_O2',\n",
       " 'longest_diagonal_line_D2_O2',\n",
       " 'longest_diagonal_line_D3_O2',\n",
       " 'longest_diagonal_line_D4_O2',\n",
       " 'longest_diagonal_line_D5_O2',\n",
       " 'longest_diagonal_line_D6_O2',\n",
       " 'longest_diagonal_line_D7_O2',\n",
       " 'recurrence_rate_A0_O2',\n",
       " 'recurrence_rate_A7_O2',\n",
       " 'recurrence_rate_D1_O2',\n",
       " 'recurrence_rate_D2_O2',\n",
       " 'recurrence_rate_D3_O2',\n",
       " 'recurrence_rate_D4_O2',\n",
       " 'recurrence_rate_D5_O2',\n",
       " 'recurrence_rate_D6_O2',\n",
       " 'recurrence_rate_D7_O2',\n",
       " 'trapping_time_A0_O2',\n",
       " 'trapping_time_A7_O2',\n",
       " 'trapping_time_D1_O2',\n",
       " 'trapping_time_D2_O2',\n",
       " 'trapping_time_D3_O2',\n",
       " 'trapping_time_D4_O2',\n",
       " 'trapping_time_D5_O2',\n",
       " 'trapping_time_D6_O2',\n",
       " 'trapping_time_D7_O2',\n",
       " 'average_diagonal_line_A0_T8',\n",
       " 'average_diagonal_line_A7_T8',\n",
       " 'average_diagonal_line_D1_T8',\n",
       " 'average_diagonal_line_D2_T8',\n",
       " 'average_diagonal_line_D3_T8',\n",
       " 'average_diagonal_line_D4_T8',\n",
       " 'average_diagonal_line_D5_T8',\n",
       " 'average_diagonal_line_D6_T8',\n",
       " 'average_diagonal_line_D7_T8',\n",
       " 'determinism_A0_T8',\n",
       " 'determinism_A7_T8',\n",
       " 'determinism_D1_T8',\n",
       " 'determinism_D2_T8',\n",
       " 'determinism_D3_T8',\n",
       " 'determinism_D4_T8',\n",
       " 'determinism_D5_T8',\n",
       " 'determinism_D6_T8',\n",
       " 'determinism_D7_T8',\n",
       " 'entropy_diagonal_lines_A0_T8',\n",
       " 'entropy_diagonal_lines_A7_T8',\n",
       " 'entropy_diagonal_lines_D1_T8',\n",
       " 'entropy_diagonal_lines_D2_T8',\n",
       " 'entropy_diagonal_lines_D3_T8',\n",
       " 'entropy_diagonal_lines_D4_T8',\n",
       " 'entropy_diagonal_lines_D5_T8',\n",
       " 'entropy_diagonal_lines_D6_T8',\n",
       " 'entropy_diagonal_lines_D7_T8',\n",
       " 'laminarity_A0_T8',\n",
       " 'laminarity_A7_T8',\n",
       " 'laminarity_D1_T8',\n",
       " 'laminarity_D2_T8',\n",
       " 'laminarity_D3_T8',\n",
       " 'laminarity_D4_T8',\n",
       " 'laminarity_D5_T8',\n",
       " 'laminarity_D6_T8',\n",
       " 'laminarity_D7_T8',\n",
       " 'longest_diagonal_line_A0_T8',\n",
       " 'longest_diagonal_line_A7_T8',\n",
       " 'longest_diagonal_line_D1_T8',\n",
       " 'longest_diagonal_line_D2_T8',\n",
       " 'longest_diagonal_line_D3_T8',\n",
       " 'longest_diagonal_line_D4_T8',\n",
       " 'longest_diagonal_line_D5_T8',\n",
       " 'longest_diagonal_line_D6_T8',\n",
       " 'longest_diagonal_line_D7_T8',\n",
       " 'recurrence_rate_A0_T8',\n",
       " 'recurrence_rate_A7_T8',\n",
       " 'recurrence_rate_D1_T8',\n",
       " 'recurrence_rate_D2_T8',\n",
       " 'recurrence_rate_D3_T8',\n",
       " 'recurrence_rate_D4_T8',\n",
       " 'recurrence_rate_D5_T8',\n",
       " 'recurrence_rate_D6_T8',\n",
       " 'recurrence_rate_D7_T8',\n",
       " 'trapping_time_A0_T8',\n",
       " 'trapping_time_A7_T8',\n",
       " 'trapping_time_D1_T8',\n",
       " 'trapping_time_D2_T8',\n",
       " 'trapping_time_D3_T8',\n",
       " 'trapping_time_D4_T8',\n",
       " 'trapping_time_D5_T8',\n",
       " 'trapping_time_D6_T8',\n",
       " 'trapping_time_D7_T8',\n",
       " 'average_diagonal_line_A0_Fp2',\n",
       " 'average_diagonal_line_A7_Fp2',\n",
       " 'average_diagonal_line_D1_Fp2',\n",
       " 'average_diagonal_line_D2_Fp2',\n",
       " 'average_diagonal_line_D3_Fp2',\n",
       " 'average_diagonal_line_D4_Fp2',\n",
       " 'average_diagonal_line_D5_Fp2',\n",
       " 'average_diagonal_line_D6_Fp2',\n",
       " 'average_diagonal_line_D7_Fp2',\n",
       " 'determinism_A0_Fp2',\n",
       " 'determinism_A7_Fp2',\n",
       " 'determinism_D1_Fp2',\n",
       " 'determinism_D2_Fp2',\n",
       " 'determinism_D3_Fp2',\n",
       " 'determinism_D4_Fp2',\n",
       " 'determinism_D5_Fp2',\n",
       " 'determinism_D6_Fp2',\n",
       " 'determinism_D7_Fp2',\n",
       " 'entropy_diagonal_lines_A0_Fp2',\n",
       " 'entropy_diagonal_lines_A7_Fp2',\n",
       " 'entropy_diagonal_lines_D1_Fp2',\n",
       " 'entropy_diagonal_lines_D2_Fp2',\n",
       " 'entropy_diagonal_lines_D3_Fp2',\n",
       " 'entropy_diagonal_lines_D4_Fp2',\n",
       " 'entropy_diagonal_lines_D5_Fp2',\n",
       " 'entropy_diagonal_lines_D6_Fp2',\n",
       " 'entropy_diagonal_lines_D7_Fp2',\n",
       " 'laminarity_A0_Fp2',\n",
       " 'laminarity_A7_Fp2',\n",
       " 'laminarity_D1_Fp2',\n",
       " 'laminarity_D2_Fp2',\n",
       " 'laminarity_D3_Fp2',\n",
       " 'laminarity_D4_Fp2',\n",
       " 'laminarity_D5_Fp2',\n",
       " 'laminarity_D6_Fp2',\n",
       " 'laminarity_D7_Fp2',\n",
       " 'longest_diagonal_line_A0_Fp2',\n",
       " 'longest_diagonal_line_A7_Fp2',\n",
       " 'longest_diagonal_line_D1_Fp2',\n",
       " 'longest_diagonal_line_D2_Fp2',\n",
       " 'longest_diagonal_line_D3_Fp2',\n",
       " 'longest_diagonal_line_D4_Fp2',\n",
       " 'longest_diagonal_line_D5_Fp2',\n",
       " 'longest_diagonal_line_D6_Fp2',\n",
       " 'longest_diagonal_line_D7_Fp2',\n",
       " 'recurrence_rate_A0_Fp2',\n",
       " 'recurrence_rate_A7_Fp2',\n",
       " 'recurrence_rate_D1_Fp2',\n",
       " 'recurrence_rate_D2_Fp2',\n",
       " 'recurrence_rate_D3_Fp2',\n",
       " 'recurrence_rate_D4_Fp2',\n",
       " 'recurrence_rate_D5_Fp2',\n",
       " 'recurrence_rate_D6_Fp2',\n",
       " 'recurrence_rate_D7_Fp2',\n",
       " 'trapping_time_A0_Fp2',\n",
       " ...]"
      ]
     },
     "execution_count": 54,
     "metadata": {},
     "output_type": "execute_result"
    }
   ],
   "source": [
    "features.columns"
   ]
  },
  {
   "cell_type": "code",
   "execution_count": null,
   "metadata": {
    "ExecuteTime": {
     "end_time": "2019-01-28T06:55:52.261991Z",
     "start_time": "2019-01-28T06:55:20.965202Z"
    }
   },
   "outputs": [],
   "source": [
    "null_cols = nulls_df.columns\n",
    "null_counts = list(nulls_df.rdd.map(tuple).collect()[0])\n",
    "null_cols_imp = [null_cols[i] for i,n in enumerate(null_counts) if multicontd(n)]"
   ]
  },
  {
   "cell_type": "code",
   "execution_count": null,
   "metadata": {
    "ExecuteTime": {
     "end_time": "2019-01-28T06:54:53.621728Z",
     "start_time": "2019-01-28T06:54:22.735Z"
    },
    "run_control": {
     "marked": true
    }
   },
   "outputs": [],
   "source": [
    "# Num of columns to impute\n",
    "len(null_cols_imp)"
   ]
  },
  {
   "cell_type": "code",
   "execution_count": null,
   "metadata": {
    "ExecuteTime": {
     "end_time": "2019-01-28T06:49:55.836218Z",
     "start_time": "2019-01-28T06:49:04.695Z"
    }
   },
   "outputs": [],
   "source": [
    "null_cols_drop = [null_cols[i] for i,n in enumerate(null_counts) if n >= null_threshold]\n",
    "features = features.drop(*null_cols_drop)"
   ]
  },
  {
   "cell_type": "code",
   "execution_count": null,
   "metadata": {
    "ExecuteTime": {
     "end_time": "2019-01-28T06:49:55.837340Z",
     "start_time": "2019-01-28T06:49:05.022Z"
    }
   },
   "outputs": [],
   "source": [
    "len(null_cols_drop), len(features.columns)"
   ]
  },
  {
   "cell_type": "code",
   "execution_count": null,
   "metadata": {
    "ExecuteTime": {
     "end_time": "2019-01-28T06:49:55.838384Z",
     "start_time": "2019-01-28T06:49:05.558Z"
    }
   },
   "outputs": [],
   "source": [
    "# columns to impute and their new names\n",
    "del nulls_df\n",
    "null_cols_imp_db = [f for f in null_cols_imp if f in feat_dbl]\n",
    "null_cols_impNew = [col+'_imp' for col in null_cols_imp_db]"
   ]
  },
  {
   "cell_type": "code",
   "execution_count": null,
   "metadata": {
    "ExecuteTime": {
     "end_time": "2019-01-28T06:49:55.839562Z",
     "start_time": "2019-01-28T06:49:06.014Z"
    }
   },
   "outputs": [],
   "source": [
    "len(null_cols_impNew)"
   ]
  },
  {
   "cell_type": "markdown",
   "metadata": {},
   "source": [
    "#### Impute columns"
   ]
  },
  {
   "cell_type": "code",
   "execution_count": null,
   "metadata": {
    "ExecuteTime": {
     "end_time": "2019-01-28T06:49:55.840804Z",
     "start_time": "2019-01-28T06:49:26.120Z"
    }
   },
   "outputs": [],
   "source": [
    "imputer = Imputer(inputCols= null_cols_imp_db , outputCols=null_cols_impNew,strategy='median')\n",
    "features = imputer.fit(features).transform(features).drop(*null_cols_imp_db)"
   ]
  },
  {
   "cell_type": "code",
   "execution_count": 44,
   "metadata": {
    "ExecuteTime": {
     "end_time": "2019-01-28T06:48:38.698439Z",
     "start_time": "2019-01-28T06:48:38.565445Z"
    }
   },
   "outputs": [],
   "source": [
    "### Remove columns with infinity values\n",
    "features = features.filter(~col('participant_id').isin(['A6-1-1', 'B16-1-2', 'B9-1-2', 'B9-2-2', 'B2-1-1', 'B14-1-1']))"
   ]
  },
  {
   "cell_type": "code",
   "execution_count": null,
   "metadata": {
    "ExecuteTime": {
     "end_time": "2019-01-28T06:55:52.272013Z",
     "start_time": "2019-01-28T06:55:47.998Z"
    }
   },
   "outputs": [],
   "source": [
    "import numpy as np\n",
    "pd_df=features.toPandas()\n",
    "list(pd_df['participant_id'][np.sum((pd_df == np.inf), axis =1 ) > 0])"
   ]
  },
  {
   "cell_type": "markdown",
   "metadata": {
    "ExecuteTime": {
     "end_time": "2019-01-21T01:31:07.014449Z",
     "start_time": "2019-01-21T01:31:07.011931Z"
    }
   },
   "source": [
    "#### Remove colums with populated with zero"
   ]
  },
  {
   "cell_type": "code",
   "execution_count": 56,
   "metadata": {
    "ExecuteTime": {
     "end_time": "2019-01-28T05:05:18.650174Z",
     "start_time": "2019-01-28T05:05:13.255403Z"
    }
   },
   "outputs": [],
   "source": [
    "zero_df = features.select([((count(when(features[c].between(0,0), c)))*100.0/count(c)).alias(c)  for c in features.columns if c in feat_dbl])"
   ]
  },
  {
   "cell_type": "code",
   "execution_count": 57,
   "metadata": {
    "ExecuteTime": {
     "end_time": "2019-01-28T05:07:21.095928Z",
     "start_time": "2019-01-28T05:05:18.651924Z"
    },
    "run_control": {
     "marked": true
    }
   },
   "outputs": [],
   "source": [
    "zero_threshold = 20.0\n",
    "zero_cols = zero_df.columns\n",
    "zero_counts = list(zero_df.rdd.map(tuple).collect()[0])\n",
    "zero_cols_drop = [zero_cols[i] for i,n in enumerate(zero_counts) if n > zero_threshold]"
   ]
  },
  {
   "cell_type": "code",
   "execution_count": 58,
   "metadata": {
    "ExecuteTime": {
     "end_time": "2019-01-28T05:07:21.102687Z",
     "start_time": "2019-01-28T05:07:21.097582Z"
    }
   },
   "outputs": [],
   "source": [
    "del zero_df"
   ]
  },
  {
   "cell_type": "code",
   "execution_count": 59,
   "metadata": {
    "ExecuteTime": {
     "end_time": "2019-01-28T05:07:21.150770Z",
     "start_time": "2019-01-28T05:07:21.105060Z"
    }
   },
   "outputs": [],
   "source": [
    "features = features.drop(*zero_cols_drop)"
   ]
  },
  {
   "cell_type": "code",
   "execution_count": null,
   "metadata": {
    "ExecuteTime": {
     "end_time": "2019-01-28T05:07:22.282239Z",
     "start_time": "2019-01-28T04:58:37.549Z"
    }
   },
   "outputs": [],
   "source": [
    "# null_cols_imp = [f for f in null_cols_imp if f in feat_str]\n",
    "# null_cols_impNew = [col+'_imp' for col in null_cols_imp]"
   ]
  },
  {
   "cell_type": "markdown",
   "metadata": {},
   "source": [
    "#### Remove error logs and patient information from features"
   ]
  },
  {
   "cell_type": "code",
   "execution_count": null,
   "metadata": {
    "ExecuteTime": {
     "end_time": "2019-01-28T05:07:22.283097Z",
     "start_time": "2019-01-28T04:58:38.374Z"
    }
   },
   "outputs": [],
   "source": [
    "# Drop patient info\n",
    "features = features.drop(*['participant_group', 'participant_id', 'startdate'])"
   ]
  },
  {
   "cell_type": "code",
   "execution_count": null,
   "metadata": {
    "ExecuteTime": {
     "end_time": "2019-01-28T05:07:22.286492Z",
     "start_time": "2019-01-28T04:58:40.154Z"
    }
   },
   "outputs": [],
   "source": [
    "temp_cols = features.columns\n",
    "temp_cols.remove('Prematurity_Level')\n",
    "temp_cols"
   ]
  },
  {
   "cell_type": "code",
   "execution_count": null,
   "metadata": {
    "ExecuteTime": {
     "end_time": "2019-01-28T05:07:22.287286Z",
     "start_time": "2019-01-28T04:58:40.608Z"
    }
   },
   "outputs": [],
   "source": [
    "# Drop error logs\n",
    "errorcols = [f for f in temp_cols if f.startswith('error_nonrqa')]\n",
    "features=features.drop(*errorcols)\n",
    "temp_cols = [f for f in temp_cols if f not in errorcols]"
   ]
  },
  {
   "cell_type": "code",
   "execution_count": null,
   "metadata": {
    "ExecuteTime": {
     "end_time": "2019-01-28T05:07:22.288103Z",
     "start_time": "2019-01-28T04:58:41.029Z"
    }
   },
   "outputs": [],
   "source": [
    "# Set features df to df with features+label\n",
    "features = features.select(*temp_cols,'Prematurity_Level')\n",
    "from pyspark.sql.types import StringType\n",
    "features = features.withColumn(\"Prematurity_Level\", features[\"Prematurity_Level\"].cast(StringType()))\n",
    "features = features.withColumnRenamed('Prematurity_Level', \"label\")"
   ]
  },
  {
   "cell_type": "markdown",
   "metadata": {},
   "source": [
    "#### Dummize label"
   ]
  },
  {
   "cell_type": "code",
   "execution_count": null,
   "metadata": {
    "ExecuteTime": {
     "end_time": "2019-01-28T05:07:22.288920Z",
     "start_time": "2019-01-28T04:58:42.335Z"
    }
   },
   "outputs": [],
   "source": [
    "def indexStringColumns(df, cols):\n",
    "    #variable newdf will be updated several times\n",
    "    newdf = df\n",
    "    \n",
    "    for c in cols:\n",
    "        si = StringIndexer(inputCol=c, outputCol=c+\"-num\")\n",
    "        sm = si.fit(newdf)\n",
    "        newdf = sm.transform(newdf).drop(c)\n",
    "        newdf = newdf.withColumnRenamed(c+\"-num\", c)\n",
    "    return newdf\n",
    "\n",
    "features = features.withColumn(\"label\", features[\"label\"].cast(StringType()))\n",
    "features = indexStringColumns(features, ['label'])"
   ]
  },
  {
   "cell_type": "code",
   "execution_count": null,
   "metadata": {
    "ExecuteTime": {
     "end_time": "2019-01-28T05:07:22.290050Z",
     "start_time": "2019-01-28T04:58:42.867Z"
    }
   },
   "outputs": [],
   "source": [
    "features = features.drop('file_duration')"
   ]
  },
  {
   "cell_type": "code",
   "execution_count": null,
   "metadata": {
    "ExecuteTime": {
     "end_time": "2019-01-28T05:07:22.291108Z",
     "start_time": "2019-01-28T04:58:43.321Z"
    }
   },
   "outputs": [],
   "source": [
    "# from pyspark.sql.types import DoubleType\n",
    "# from pyspark.sql.functions import col, lit, udf, when\n",
    "# import numpy as np\n",
    "# replace_infs_udf = udf(\n",
    "#     lambda x, v: float(v) if x and np.isinf(x) else x, DoubleType()\n",
    "# )\n",
    "\n",
    "# for c in features.columns:\n",
    "#     features.withColumn(c, replace_infs_udf(col(c),lit(features.approxQuantile(c, [0.5], 0.25)[0]))).show()"
   ]
  },
  {
   "cell_type": "markdown",
   "metadata": {},
   "source": [
    "## Assembler"
   ]
  },
  {
   "cell_type": "code",
   "execution_count": null,
   "metadata": {
    "ExecuteTime": {
     "end_time": "2019-01-28T05:07:22.292102Z",
     "start_time": "2019-01-28T04:58:43.828Z"
    }
   },
   "outputs": [],
   "source": [
    "va = VectorAssembler(outputCol=\"features\", inputCols=features.columns[0:-1],) #except the last col.\n",
    "df = va.transform(features).select(\"features\", \"label\")"
   ]
  },
  {
   "cell_type": "code",
   "execution_count": 64,
   "metadata": {
    "ExecuteTime": {
     "end_time": "2019-01-28T05:55:15.540100Z",
     "start_time": "2019-01-28T05:55:15.536080Z"
    }
   },
   "outputs": [
    {
     "data": {
      "text/plain": [
       "598"
      ]
     },
     "execution_count": 64,
     "metadata": {},
     "output_type": "execute_result"
    }
   ],
   "source": [
    "len(features.columns)"
   ]
  },
  {
   "cell_type": "code",
   "execution_count": 61,
   "metadata": {
    "ExecuteTime": {
     "end_time": "2019-01-28T05:08:45.113838Z",
     "start_time": "2019-01-28T05:08:45.110528Z"
    }
   },
   "outputs": [],
   "source": [
    "# va.transform(features).setHandleInvalid(\"skip\").show()"
   ]
  },
  {
   "cell_type": "code",
   "execution_count": 62,
   "metadata": {
    "ExecuteTime": {
     "end_time": "2019-01-28T05:08:45.565797Z",
     "start_time": "2019-01-28T05:08:45.554548Z"
    }
   },
   "outputs": [
    {
     "data": {
      "text/plain": [
       "['file_duration']"
      ]
     },
     "execution_count": 62,
     "metadata": {},
     "output_type": "execute_result"
    }
   ],
   "source": [
    "[f for f in features.columns if f == 'file_duration']"
   ]
  },
  {
   "cell_type": "markdown",
   "metadata": {},
   "source": [
    "## Split &  Cache the data"
   ]
  },
  {
   "cell_type": "code",
   "execution_count": 97,
   "metadata": {
    "ExecuteTime": {
     "end_time": "2019-01-28T02:46:19.637963Z",
     "start_time": "2019-01-28T02:46:19.624089Z"
    }
   },
   "outputs": [],
   "source": [
    "train, test = df.randomSplit([0.8,0.2])"
   ]
  },
  {
   "cell_type": "code",
   "execution_count": 98,
   "metadata": {
    "ExecuteTime": {
     "end_time": "2019-01-28T02:46:55.191700Z",
     "start_time": "2019-01-28T02:46:22.664344Z"
    }
   },
   "outputs": [],
   "source": [
    "train = train.cache()\n",
    "test = test.cache()"
   ]
  },
  {
   "cell_type": "markdown",
   "metadata": {},
   "source": [
    "## ML Models"
   ]
  },
  {
   "cell_type": "markdown",
   "metadata": {
    "ExecuteTime": {
     "end_time": "2019-01-28T07:03:56.322638Z",
     "start_time": "2019-01-28T07:03:56.315282Z"
    }
   },
   "source": [
    "### Random Forest"
   ]
  },
  {
   "cell_type": "code",
   "execution_count": 73,
   "metadata": {
    "ExecuteTime": {
     "end_time": "2019-01-28T02:38:21.640758Z",
     "start_time": "2019-01-28T02:36:35.619778Z"
    }
   },
   "outputs": [
    {
     "name": "stdout",
     "output_type": "stream",
     "text": [
      "Time taken to fit and evaluate model 105.985 seconds\n"
     ]
    }
   ],
   "source": [
    "# TRAIN\n",
    "from pyspark.ml.classification import RandomForestClassifier\n",
    "import time\n",
    "init_time = time.time()\n",
    "rf = RandomForestClassifier(maxDepth=30)\n",
    "fit_time = time.time()\n",
    "rfmodel = rf.fit(train)\n",
    "trans_time = time.time()\n",
    "rfpredicts = rfmodel.transform(test)\n",
    "finish_time = time.time()\n",
    "elapsed_time = finish_time - init_time\n",
    "print('Time taken to fit and evaluate model %.3f seconds' % elapsed_time)"
   ]
  },
  {
   "cell_type": "code",
   "execution_count": 88,
   "metadata": {
    "ExecuteTime": {
     "end_time": "2019-01-28T02:45:05.431786Z",
     "start_time": "2019-01-28T02:43:21.588359Z"
    }
   },
   "outputs": [
    {
     "name": "stdout",
     "output_type": "stream",
     "text": [
      "Accuracy = 0.6667\n",
      "Time taken evaluate model 103.828 seconds\n"
     ]
    }
   ],
   "source": [
    "# EVALUATE\n",
    "from pyspark.ml.evaluation import MulticlassClassificationEvaluator\n",
    "eval_start = time.time()\n",
    "evaluator = MulticlassClassificationEvaluator(labelCol=\"label\", predictionCol=\"prediction\", metricName=\"accuracy\")\n",
    "accuracy = evaluator.evaluate(rfpredicts)\n",
    "eval_end = time.time()\n",
    "print(\"Accuracy = %0.4f\" % (accuracy))\n",
    "eval_elapse = eval_end - eval_start\n",
    "print('Time taken evaluate model %.3f seconds' % eval_elapse )"
   ]
  },
  {
   "cell_type": "markdown",
   "metadata": {},
   "source": [
    "#### Feature importance"
   ]
  },
  {
   "cell_type": "code",
   "execution_count": 84,
   "metadata": {
    "ExecuteTime": {
     "end_time": "2019-01-28T02:41:46.075184Z",
     "start_time": "2019-01-28T02:41:46.067189Z"
    }
   },
   "outputs": [],
   "source": [
    "# feature importance\n",
    "feat_imp = list(rfmodel.featureImportances.toArray())\n",
    "feat_name = list(features.columns)[0:-1]"
   ]
  },
  {
   "cell_type": "code",
   "execution_count": 87,
   "metadata": {
    "ExecuteTime": {
     "end_time": "2019-01-28T02:42:47.713522Z",
     "start_time": "2019-01-28T02:42:47.710432Z"
    }
   },
   "outputs": [],
   "source": [
    "from collections import defaultdict\n",
    "d = defaultdict()\n",
    "for i in range(len(feat_imp)):\n",
    "    d[feat_name[i]] = feat_imp[i]\n",
    "    "
   ]
  },
  {
   "cell_type": "code",
   "execution_count": 100,
   "metadata": {
    "ExecuteTime": {
     "end_time": "2019-01-28T02:47:53.395923Z",
     "start_time": "2019-01-28T02:47:53.392821Z"
    }
   },
   "outputs": [],
   "source": [
    "sorted_by_value = sorted(d.items(), key=lambda kv: kv[1], reverse = True)"
   ]
  },
  {
   "cell_type": "code",
   "execution_count": 112,
   "metadata": {
    "ExecuteTime": {
     "end_time": "2019-01-28T03:21:19.521037Z",
     "start_time": "2019-01-28T03:21:19.510904Z"
    }
   },
   "outputs": [
    {
     "data": {
      "text/plain": [
       "['lyap1_D1_Fp1',\n",
       " 'lyap0_D1_C4',\n",
       " 'lyap2_D3_T7',\n",
       " 'sample_entropy_A7_O2',\n",
       " 'lyap2_D4_C3',\n",
       " 'hurst_exponent_D2_C4_imp',\n",
       " 'sample_entropy_A7_O1',\n",
       " 'lyap1_A0_O2',\n",
       " 'lyap0_D5_C3',\n",
       " 'sample_entropy_D5_O1',\n",
       " 'lyap1_A0_Fp1',\n",
       " 'power_D1_T7',\n",
       " 'lyap2_A7_O2_imp',\n",
       " 'lyap2_D3_Fp2',\n",
       " 'lyap1_D2_C3',\n",
       " 'power_D4_Fp1',\n",
       " 'lyap2_D4_T8',\n",
       " 'dfa_D4_C3_imp',\n",
       " 'lyap0_D7_T7_imp',\n",
       " 'sample_entropy_D7_C3',\n",
       " 'lyap2_A7_T8_imp',\n",
       " 'lyap2_A7_T7_imp',\n",
       " 'power_D6_T7',\n",
       " 'power_D6_T8',\n",
       " 'power_A0_C3',\n",
       " 'dfa_D6_O2_imp',\n",
       " 'lyap1_D1_O2',\n",
       " 'lyap2_D6_C3',\n",
       " 'hurst_exponent_D6_T8_imp',\n",
       " 'lyap1_A0_Fp2',\n",
       " 'dfa_D1_C3_imp',\n",
       " 'power_D2_O2',\n",
       " 'lyap1_D2_Fp2',\n",
       " 'lyap1_D1_O1',\n",
       " 'hurst_exponent_A0_O2_imp',\n",
       " 'dfa_D5_Fp1',\n",
       " 'lyap2_D7_Fp1_imp',\n",
       " 'hurst_exponent_A0_T7',\n",
       " 'lyap0_D6_T8',\n",
       " 'lyap1_A7_Fp1_imp',\n",
       " 'power_D6_Fp2',\n",
       " 'hurst_exponent_A7_Fp2',\n",
       " 'dfa_D2_Fp1',\n",
       " 'lyap1_D5_Fp1',\n",
       " 'lyap2_D4_Fp1',\n",
       " 'lyap0_A7_T7_imp',\n",
       " 'lyap1_D7_Fp1_imp',\n",
       " 'lyap1_D4_Fp1',\n",
       " 'power_D3_C4',\n",
       " 'power_A0_O2',\n",
       " 'lyap0_D1_T7',\n",
       " 'sample_entropy_A7_T8',\n",
       " 'dfa_D3_C3_imp',\n",
       " 'lyap0_A0_C4',\n",
       " 'power_A7_Fp2',\n",
       " 'power_D2_T8',\n",
       " 'lyap0_D3_Fp2',\n",
       " 'dfa_D7_Fp1',\n",
       " 'hurst_exponent_D5_T7',\n",
       " 'hurst_exponent_D4_T7',\n",
       " 'hurst_exponent_D6_O1_imp',\n",
       " 'power_A7_T8',\n",
       " 'hurst_exponent_D2_O2_imp',\n",
       " 'lyap0_D3_O2',\n",
       " 'hurst_exponent_D3_O1_imp',\n",
       " 'lyap2_D7_T7_imp',\n",
       " 'lyap2_D3_Fp1',\n",
       " 'dfa_D6_Fp2',\n",
       " 'file_duration',\n",
       " 'lyap0_A0_O1',\n",
       " 'lyap0_D1_O1',\n",
       " 'lyap0_D2_O1',\n",
       " 'lyap0_D3_O1',\n",
       " 'lyap0_D4_O1',\n",
       " 'lyap0_D5_O1',\n",
       " 'lyap0_D6_O1',\n",
       " 'lyap1_A0_O1',\n",
       " 'lyap1_D2_O1',\n",
       " 'lyap1_D3_O1',\n",
       " 'lyap1_D4_O1',\n",
       " 'lyap1_D5_O1',\n",
       " 'lyap1_D6_O1',\n",
       " 'lyap2_A0_O1',\n",
       " 'lyap2_D1_O1',\n",
       " 'lyap2_D2_O1',\n",
       " 'lyap2_D3_O1',\n",
       " 'lyap2_D4_O1',\n",
       " 'lyap2_D5_O1',\n",
       " 'lyap2_D6_O1',\n",
       " 'power_A0_O1',\n",
       " 'power_A7_O1',\n",
       " 'power_D1_O1',\n",
       " 'power_D2_O1',\n",
       " 'power_D3_O1',\n",
       " 'power_D4_O1',\n",
       " 'power_D5_O1',\n",
       " 'power_D6_O1',\n",
       " 'power_D7_O1',\n",
       " 'sample_entropy_A0_O1',\n",
       " 'sample_entropy_D1_O1',\n",
       " 'sample_entropy_D2_O1',\n",
       " 'sample_entropy_D3_O1',\n",
       " 'sample_entropy_D4_O1',\n",
       " 'sample_entropy_D6_O1',\n",
       " 'sample_entropy_D7_O1',\n",
       " 'lyap0_A0_C3',\n",
       " 'lyap0_D1_C3',\n",
       " 'lyap0_D2_C3',\n",
       " 'lyap0_D3_C3',\n",
       " 'lyap0_D4_C3',\n",
       " 'lyap0_D6_C3',\n",
       " 'lyap1_A0_C3',\n",
       " 'lyap1_D1_C3',\n",
       " 'lyap1_D3_C3',\n",
       " 'lyap1_D4_C3',\n",
       " 'lyap1_D5_C3',\n",
       " 'lyap1_D6_C3',\n",
       " 'lyap2_A0_C3',\n",
       " 'lyap2_D1_C3',\n",
       " 'lyap2_D2_C3',\n",
       " 'lyap2_D3_C3',\n",
       " 'lyap2_D5_C3',\n",
       " 'power_A7_C3',\n",
       " 'power_D1_C3',\n",
       " 'power_D2_C3',\n",
       " 'power_D3_C3',\n",
       " 'power_D4_C3',\n",
       " 'power_D5_C3',\n",
       " 'power_D6_C3',\n",
       " 'power_D7_C3',\n",
       " 'sample_entropy_A0_C3',\n",
       " 'sample_entropy_A7_C3',\n",
       " 'sample_entropy_D1_C3',\n",
       " 'sample_entropy_D2_C3',\n",
       " 'sample_entropy_D3_C3',\n",
       " 'sample_entropy_D4_C3',\n",
       " 'sample_entropy_D5_C3',\n",
       " 'sample_entropy_D6_C3',\n",
       " 'lyap0_D2_C4',\n",
       " 'lyap0_D3_C4',\n",
       " 'lyap0_D4_C4',\n",
       " 'lyap0_D5_C4',\n",
       " 'lyap0_D6_C4',\n",
       " 'lyap1_A0_C4',\n",
       " 'lyap1_D1_C4',\n",
       " 'lyap1_D2_C4',\n",
       " 'lyap1_D3_C4',\n",
       " 'lyap1_D4_C4',\n",
       " 'lyap1_D5_C4',\n",
       " 'lyap1_D6_C4',\n",
       " 'lyap2_A0_C4',\n",
       " 'lyap2_D1_C4',\n",
       " 'lyap2_D2_C4',\n",
       " 'lyap2_D3_C4',\n",
       " 'lyap2_D4_C4',\n",
       " 'lyap2_D5_C4',\n",
       " 'lyap2_D6_C4',\n",
       " 'power_A0_C4',\n",
       " 'power_A7_C4',\n",
       " 'power_D1_C4',\n",
       " 'power_D2_C4',\n",
       " 'power_D4_C4',\n",
       " 'power_D5_C4',\n",
       " 'power_D6_C4',\n",
       " 'power_D7_C4',\n",
       " 'sample_entropy_A0_C4',\n",
       " 'sample_entropy_A7_C4',\n",
       " 'sample_entropy_D1_C4',\n",
       " 'sample_entropy_D2_C4',\n",
       " 'sample_entropy_D3_C4',\n",
       " 'sample_entropy_D4_C4',\n",
       " 'sample_entropy_D5_C4',\n",
       " 'sample_entropy_D6_C4',\n",
       " 'sample_entropy_D7_C4',\n",
       " 'dfa_A0_T7',\n",
       " 'dfa_A7_T7',\n",
       " 'dfa_D1_T7',\n",
       " 'dfa_D2_T7',\n",
       " 'dfa_D3_T7',\n",
       " 'dfa_D4_T7',\n",
       " 'dfa_D5_T7',\n",
       " 'dfa_D6_T7',\n",
       " 'dfa_D7_T7',\n",
       " 'hurst_exponent_A7_T7',\n",
       " 'hurst_exponent_D1_T7',\n",
       " 'hurst_exponent_D2_T7',\n",
       " 'hurst_exponent_D3_T7',\n",
       " 'hurst_exponent_D6_T7',\n",
       " 'hurst_exponent_D7_T7',\n",
       " 'lyap0_A0_T7',\n",
       " 'lyap0_D2_T7',\n",
       " 'lyap0_D3_T7',\n",
       " 'lyap0_D4_T7',\n",
       " 'lyap0_D5_T7',\n",
       " 'lyap0_D6_T7',\n",
       " 'lyap1_A0_T7',\n",
       " 'lyap1_D1_T7',\n",
       " 'lyap1_D2_T7',\n",
       " 'lyap1_D3_T7',\n",
       " 'lyap1_D4_T7',\n",
       " 'lyap1_D5_T7',\n",
       " 'lyap1_D6_T7',\n",
       " 'lyap2_A0_T7',\n",
       " 'lyap2_D1_T7',\n",
       " 'lyap2_D2_T7',\n",
       " 'lyap2_D4_T7',\n",
       " 'lyap2_D5_T7',\n",
       " 'lyap2_D6_T7',\n",
       " 'power_A0_T7',\n",
       " 'power_A7_T7',\n",
       " 'power_D2_T7',\n",
       " 'power_D3_T7',\n",
       " 'power_D4_T7',\n",
       " 'power_D5_T7',\n",
       " 'power_D7_T7',\n",
       " 'sample_entropy_A0_T7',\n",
       " 'sample_entropy_A7_T7',\n",
       " 'sample_entropy_D1_T7',\n",
       " 'sample_entropy_D2_T7',\n",
       " 'sample_entropy_D3_T7',\n",
       " 'sample_entropy_D4_T7',\n",
       " 'sample_entropy_D5_T7',\n",
       " 'sample_entropy_D6_T7',\n",
       " 'sample_entropy_D7_T7',\n",
       " 'dfa_A0_Fp1',\n",
       " 'dfa_A7_Fp1',\n",
       " 'dfa_D1_Fp1',\n",
       " 'dfa_D3_Fp1',\n",
       " 'dfa_D4_Fp1',\n",
       " 'dfa_D6_Fp1',\n",
       " 'hurst_exponent_A0_Fp1',\n",
       " 'hurst_exponent_A7_Fp1',\n",
       " 'hurst_exponent_D1_Fp1',\n",
       " 'hurst_exponent_D2_Fp1',\n",
       " 'hurst_exponent_D3_Fp1',\n",
       " 'hurst_exponent_D4_Fp1',\n",
       " 'hurst_exponent_D5_Fp1',\n",
       " 'hurst_exponent_D6_Fp1',\n",
       " 'hurst_exponent_D7_Fp1',\n",
       " 'lyap0_A0_Fp1',\n",
       " 'lyap0_D1_Fp1',\n",
       " 'lyap0_D2_Fp1',\n",
       " 'lyap0_D3_Fp1',\n",
       " 'lyap0_D4_Fp1',\n",
       " 'lyap0_D5_Fp1',\n",
       " 'lyap0_D6_Fp1',\n",
       " 'lyap1_D2_Fp1',\n",
       " 'lyap1_D3_Fp1',\n",
       " 'lyap1_D6_Fp1',\n",
       " 'lyap2_A0_Fp1',\n",
       " 'lyap2_D1_Fp1',\n",
       " 'lyap2_D2_Fp1',\n",
       " 'lyap2_D5_Fp1',\n",
       " 'lyap2_D6_Fp1',\n",
       " 'power_A0_Fp1',\n",
       " 'power_A7_Fp1',\n",
       " 'power_D1_Fp1',\n",
       " 'power_D2_Fp1',\n",
       " 'power_D3_Fp1',\n",
       " 'power_D5_Fp1',\n",
       " 'power_D6_Fp1',\n",
       " 'power_D7_Fp1',\n",
       " 'sample_entropy_A0_Fp1',\n",
       " 'sample_entropy_A7_Fp1',\n",
       " 'sample_entropy_D1_Fp1',\n",
       " 'sample_entropy_D2_Fp1',\n",
       " 'sample_entropy_D3_Fp1',\n",
       " 'sample_entropy_D4_Fp1',\n",
       " 'sample_entropy_D5_Fp1',\n",
       " 'sample_entropy_D6_Fp1',\n",
       " 'sample_entropy_D7_Fp1',\n",
       " 'lyap0_A0_O2',\n",
       " 'lyap0_D1_O2',\n",
       " 'lyap0_D2_O2',\n",
       " 'lyap0_D4_O2',\n",
       " 'lyap0_D5_O2',\n",
       " 'lyap0_D6_O2',\n",
       " 'lyap1_D2_O2',\n",
       " 'lyap1_D3_O2',\n",
       " 'lyap1_D4_O2',\n",
       " 'lyap1_D5_O2',\n",
       " 'lyap1_D6_O2',\n",
       " 'lyap2_A0_O2',\n",
       " 'lyap2_D1_O2',\n",
       " 'lyap2_D2_O2',\n",
       " 'lyap2_D3_O2',\n",
       " 'lyap2_D4_O2',\n",
       " 'lyap2_D5_O2',\n",
       " 'lyap2_D6_O2',\n",
       " 'power_A7_O2',\n",
       " 'power_D1_O2',\n",
       " 'power_D3_O2',\n",
       " 'power_D4_O2',\n",
       " 'power_D5_O2',\n",
       " 'power_D6_O2',\n",
       " 'power_D7_O2',\n",
       " 'sample_entropy_A0_O2',\n",
       " 'sample_entropy_D1_O2',\n",
       " 'sample_entropy_D2_O2',\n",
       " 'sample_entropy_D3_O2',\n",
       " 'sample_entropy_D4_O2',\n",
       " 'sample_entropy_D5_O2',\n",
       " 'sample_entropy_D6_O2',\n",
       " 'sample_entropy_D7_O2',\n",
       " 'lyap0_A0_T8',\n",
       " 'lyap0_D1_T8',\n",
       " 'lyap0_D2_T8',\n",
       " 'lyap0_D3_T8',\n",
       " 'lyap0_D4_T8',\n",
       " 'lyap0_D5_T8',\n",
       " 'lyap1_A0_T8',\n",
       " 'lyap1_D1_T8',\n",
       " 'lyap1_D2_T8',\n",
       " 'lyap1_D3_T8',\n",
       " 'lyap1_D4_T8',\n",
       " 'lyap1_D5_T8',\n",
       " 'lyap1_D6_T8',\n",
       " 'lyap2_A0_T8',\n",
       " 'lyap2_D1_T8',\n",
       " 'lyap2_D2_T8',\n",
       " 'lyap2_D3_T8',\n",
       " 'lyap2_D5_T8',\n",
       " 'lyap2_D6_T8',\n",
       " 'power_A0_T8',\n",
       " 'power_D1_T8',\n",
       " 'power_D3_T8',\n",
       " 'power_D4_T8',\n",
       " 'power_D5_T8',\n",
       " 'power_D7_T8',\n",
       " 'sample_entropy_A0_T8',\n",
       " 'sample_entropy_D1_T8',\n",
       " 'sample_entropy_D2_T8',\n",
       " 'sample_entropy_D3_T8',\n",
       " 'sample_entropy_D4_T8',\n",
       " 'sample_entropy_D5_T8',\n",
       " 'sample_entropy_D6_T8',\n",
       " 'sample_entropy_D7_T8',\n",
       " 'dfa_A0_Fp2',\n",
       " 'dfa_A7_Fp2',\n",
       " 'dfa_D1_Fp2',\n",
       " 'dfa_D2_Fp2',\n",
       " 'dfa_D3_Fp2',\n",
       " 'dfa_D4_Fp2',\n",
       " 'dfa_D5_Fp2',\n",
       " 'dfa_D7_Fp2',\n",
       " 'hurst_exponent_A0_Fp2',\n",
       " 'hurst_exponent_D1_Fp2',\n",
       " 'hurst_exponent_D2_Fp2',\n",
       " 'hurst_exponent_D3_Fp2',\n",
       " 'hurst_exponent_D4_Fp2',\n",
       " 'hurst_exponent_D5_Fp2',\n",
       " 'hurst_exponent_D6_Fp2',\n",
       " 'hurst_exponent_D7_Fp2',\n",
       " 'lyap0_A0_Fp2',\n",
       " 'lyap0_D1_Fp2',\n",
       " 'lyap0_D2_Fp2',\n",
       " 'lyap0_D4_Fp2',\n",
       " 'lyap0_D5_Fp2',\n",
       " 'lyap0_D6_Fp2',\n",
       " 'lyap1_D1_Fp2',\n",
       " 'lyap1_D3_Fp2',\n",
       " 'lyap1_D4_Fp2',\n",
       " 'lyap1_D5_Fp2',\n",
       " 'lyap1_D6_Fp2',\n",
       " 'lyap2_A0_Fp2',\n",
       " 'lyap2_D1_Fp2',\n",
       " 'lyap2_D2_Fp2',\n",
       " 'lyap2_D4_Fp2',\n",
       " 'lyap2_D5_Fp2',\n",
       " 'lyap2_D6_Fp2',\n",
       " 'power_A0_Fp2',\n",
       " 'power_D1_Fp2',\n",
       " 'power_D2_Fp2',\n",
       " 'power_D3_Fp2',\n",
       " 'power_D4_Fp2',\n",
       " 'power_D5_Fp2',\n",
       " 'power_D7_Fp2',\n",
       " 'sample_entropy_A0_Fp2',\n",
       " 'sample_entropy_A7_Fp2',\n",
       " 'sample_entropy_D1_Fp2',\n",
       " 'sample_entropy_D2_Fp2',\n",
       " 'sample_entropy_D3_Fp2',\n",
       " 'sample_entropy_D4_Fp2',\n",
       " 'sample_entropy_D5_Fp2',\n",
       " 'sample_entropy_D6_Fp2',\n",
       " 'sample_entropy_D7_Fp2',\n",
       " 'recurrence_rate_A0_O1',\n",
       " 'recurrence_rate_D1_O1',\n",
       " 'recurrence_rate_D2_O1',\n",
       " 'recurrence_rate_D3_O1',\n",
       " 'recurrence_rate_D4_O1',\n",
       " 'recurrence_rate_D5_O1',\n",
       " 'recurrence_rate_D6_O1',\n",
       " 'recurrence_rate_A0_C3',\n",
       " 'recurrence_rate_D1_C3',\n",
       " 'recurrence_rate_D2_C3',\n",
       " 'recurrence_rate_D3_C3',\n",
       " 'recurrence_rate_D4_C3',\n",
       " 'recurrence_rate_D5_C3',\n",
       " 'recurrence_rate_D6_C3',\n",
       " 'recurrence_rate_A0_C4',\n",
       " 'recurrence_rate_D1_C4',\n",
       " 'recurrence_rate_D2_C4',\n",
       " 'recurrence_rate_D3_C4',\n",
       " 'recurrence_rate_D4_C4',\n",
       " 'recurrence_rate_D5_C4',\n",
       " 'recurrence_rate_D6_C4',\n",
       " 'recurrence_rate_A0_T7',\n",
       " 'recurrence_rate_D1_T7',\n",
       " 'recurrence_rate_D2_T7',\n",
       " 'recurrence_rate_D3_T7',\n",
       " 'recurrence_rate_D4_T7',\n",
       " 'recurrence_rate_D5_T7',\n",
       " 'recurrence_rate_D6_T7',\n",
       " 'recurrence_rate_A0_Fp1',\n",
       " 'recurrence_rate_D1_Fp1',\n",
       " 'recurrence_rate_D2_Fp1',\n",
       " 'recurrence_rate_D3_Fp1',\n",
       " 'recurrence_rate_D4_Fp1',\n",
       " 'recurrence_rate_D5_Fp1',\n",
       " 'recurrence_rate_D6_Fp1',\n",
       " 'recurrence_rate_A0_O2',\n",
       " 'recurrence_rate_D1_O2',\n",
       " 'recurrence_rate_D2_O2',\n",
       " 'recurrence_rate_D3_O2',\n",
       " 'recurrence_rate_D4_O2',\n",
       " 'recurrence_rate_D5_O2',\n",
       " 'recurrence_rate_D6_O2',\n",
       " 'recurrence_rate_A0_T8',\n",
       " 'recurrence_rate_D1_T8',\n",
       " 'recurrence_rate_D2_T8',\n",
       " 'recurrence_rate_D3_T8',\n",
       " 'recurrence_rate_D4_T8',\n",
       " 'recurrence_rate_D5_T8',\n",
       " 'recurrence_rate_D6_T8',\n",
       " 'recurrence_rate_A0_Fp2',\n",
       " 'recurrence_rate_D1_Fp2',\n",
       " 'recurrence_rate_D2_Fp2',\n",
       " 'recurrence_rate_D3_Fp2',\n",
       " 'recurrence_rate_D4_Fp2',\n",
       " 'recurrence_rate_D5_Fp2',\n",
       " 'recurrence_rate_D6_Fp2',\n",
       " 'rank_start_dt',\n",
       " 'hurst_exponent_D2_T8_imp',\n",
       " 'hurst_exponent_D3_C3_imp',\n",
       " 'laminarity_A7_T7_imp',\n",
       " 'recurrence_rate_A7_C3_imp',\n",
       " 'lyap1_D7_O2_imp',\n",
       " 'dfa_D6_C4_imp',\n",
       " 'lyap2_D7_T8_imp',\n",
       " 'laminarity_D7_T8_imp',\n",
       " 'lyap0_A7_O1_imp',\n",
       " 'dfa_D5_O2_imp',\n",
       " 'hurst_exponent_D4_O2_imp',\n",
       " 'lyap0_D7_O1_imp',\n",
       " 'lyap0_A7_C3_imp',\n",
       " 'laminarity_D7_O1_imp',\n",
       " 'hurst_exponent_D5_O1_imp',\n",
       " 'recurrence_rate_A7_C4_imp',\n",
       " 'laminarity_D7_C4_imp',\n",
       " 'hurst_exponent_A7_O1_imp',\n",
       " 'dfa_D2_O1_imp',\n",
       " 'hurst_exponent_D4_C3_imp',\n",
       " 'hurst_exponent_A7_O2_imp',\n",
       " 'hurst_exponent_D3_O2_imp',\n",
       " 'hurst_exponent_A0_T8_imp',\n",
       " 'recurrence_rate_A7_T8_imp',\n",
       " 'lyap2_A7_O1_imp',\n",
       " 'recurrence_rate_A7_Fp2_imp',\n",
       " 'laminarity_A7_O2_imp',\n",
       " 'recurrence_rate_D7_Fp2_imp',\n",
       " 'hurst_exponent_D2_O1_imp',\n",
       " 'dfa_A7_O2_imp',\n",
       " 'hurst_exponent_D1_O2_imp',\n",
       " 'laminarity_A7_Fp2_imp',\n",
       " 'lyap0_A7_C4_imp',\n",
       " 'dfa_D6_C3_imp',\n",
       " 'dfa_A0_C3_imp',\n",
       " 'recurrence_rate_D7_T8_imp',\n",
       " 'recurrence_rate_D7_C3_imp',\n",
       " 'hurst_exponent_D6_C3_imp',\n",
       " 'lyap2_A7_C3_imp',\n",
       " 'laminarity_A7_C4_imp',\n",
       " 'dfa_D7_O1_imp',\n",
       " 'lyap1_D7_C3_imp',\n",
       " 'lyap0_D7_Fp2_imp',\n",
       " 'lyap0_D7_T8_imp',\n",
       " 'hurst_exponent_D1_O1_imp',\n",
       " 'lyap1_A7_C4_imp',\n",
       " 'recurrence_rate_A7_T7_imp',\n",
       " 'recurrence_rate_D7_O2_imp',\n",
       " 'dfa_D3_O2_imp',\n",
       " 'dfa_D3_O1_imp',\n",
       " 'hurst_exponent_A0_O1_imp',\n",
       " 'hurst_exponent_A7_C4_imp',\n",
       " 'lyap2_A7_Fp1_imp',\n",
       " 'laminarity_D7_Fp1_imp',\n",
       " 'hurst_exponent_D4_O1_imp',\n",
       " 'dfa_D1_O1_imp',\n",
       " 'lyap1_A7_T8_imp',\n",
       " 'recurrence_rate_A7_O1_imp',\n",
       " 'dfa_D4_O1_imp',\n",
       " 'dfa_A7_O1_imp',\n",
       " 'dfa_A0_O2_imp',\n",
       " 'lyap1_D7_T7_imp',\n",
       " 'dfa_D4_T8_imp',\n",
       " 'recurrence_rate_D7_T7_imp',\n",
       " 'hurst_exponent_D7_T8_imp',\n",
       " 'lyap0_A7_Fp2_imp',\n",
       " 'hurst_exponent_D6_C4_imp',\n",
       " 'hurst_exponent_D5_C3_imp',\n",
       " 'lyap1_A7_Fp2_imp',\n",
       " 'dfa_D3_T8_imp',\n",
       " 'laminarity_D7_Fp2_imp',\n",
       " 'hurst_exponent_D7_O1_imp',\n",
       " 'lyap2_D7_Fp2_imp',\n",
       " 'dfa_D3_C4_imp',\n",
       " 'lyap1_A7_T7_imp',\n",
       " 'lyap1_A7_O2_imp',\n",
       " 'dfa_D7_C3_imp',\n",
       " 'laminarity_A7_Fp1_imp',\n",
       " 'hurst_exponent_A0_C4_imp',\n",
       " 'dfa_D4_O2_imp',\n",
       " 'hurst_exponent_D3_T8_imp',\n",
       " 'dfa_D1_O2_imp',\n",
       " 'lyap0_D7_Fp1_imp',\n",
       " 'laminarity_D7_O2_imp',\n",
       " 'dfa_D2_C4_imp',\n",
       " 'dfa_D5_T8_imp',\n",
       " 'recurrence_rate_D7_C4_imp',\n",
       " 'lyap0_D7_O2_imp',\n",
       " 'hurst_exponent_D7_O2_imp',\n",
       " 'lyap0_D7_C4_imp',\n",
       " 'recurrence_rate_A7_O2_imp',\n",
       " 'hurst_exponent_D4_T8_imp',\n",
       " 'lyap1_D7_Fp2_imp',\n",
       " 'dfa_D1_C4_imp',\n",
       " 'laminarity_D7_C3_imp',\n",
       " 'hurst_exponent_D7_C4_imp',\n",
       " 'dfa_A7_C3_imp',\n",
       " 'dfa_A7_T8_imp',\n",
       " 'lyap1_D7_T8_imp',\n",
       " 'laminarity_A7_T8_imp',\n",
       " 'hurst_exponent_A7_C3_imp',\n",
       " 'dfa_D6_T8_imp',\n",
       " 'recurrence_rate_D7_O1_imp',\n",
       " 'dfa_D1_T8_imp',\n",
       " 'dfa_D7_T8_imp',\n",
       " 'lyap2_D7_O2_imp',\n",
       " 'lyap2_D7_C4_imp',\n",
       " 'dfa_D4_C4_imp',\n",
       " 'lyap0_A7_T8_imp',\n",
       " 'laminarity_D7_T7_imp',\n",
       " 'lyap2_D7_C3_imp',\n",
       " 'lyap0_A7_Fp1_imp',\n",
       " 'lyap2_A7_C4_imp',\n",
       " 'dfa_D2_C3_imp',\n",
       " 'dfa_D5_C4_imp',\n",
       " 'lyap1_A7_O1_imp',\n",
       " 'dfa_D7_C4_imp',\n",
       " 'laminarity_A7_O1_imp',\n",
       " 'hurst_exponent_A0_C3_imp',\n",
       " 'dfa_D2_O2_imp',\n",
       " 'hurst_exponent_D4_C4_imp',\n",
       " 'hurst_exponent_D7_C3_imp',\n",
       " 'dfa_A0_T8_imp',\n",
       " 'dfa_D5_C3_imp',\n",
       " 'dfa_A0_C4_imp',\n",
       " 'hurst_exponent_A7_T8_imp',\n",
       " 'lyap1_D7_C4_imp',\n",
       " 'dfa_D7_O2_imp',\n",
       " 'hurst_exponent_D5_T8_imp',\n",
       " 'hurst_exponent_D1_C4_imp',\n",
       " 'hurst_exponent_D5_C4_imp',\n",
       " 'lyap0_D7_C3_imp',\n",
       " 'dfa_A7_C4_imp',\n",
       " 'hurst_exponent_D2_C3_imp',\n",
       " 'lyap1_A7_C3_imp',\n",
       " 'hurst_exponent_D6_O2_imp',\n",
       " 'recurrence_rate_D7_Fp1_imp',\n",
       " 'lyap2_A7_Fp2_imp',\n",
       " 'dfa_A0_O1_imp',\n",
       " 'lyap1_D7_O1_imp',\n",
       " 'lyap0_A7_O2_imp',\n",
       " 'hurst_exponent_D3_C4_imp',\n",
       " 'laminarity_A7_C3_imp',\n",
       " 'dfa_D2_T8_imp',\n",
       " 'lyap2_D7_O1_imp',\n",
       " 'hurst_exponent_D1_C3_imp',\n",
       " 'dfa_D5_O1_imp',\n",
       " 'recurrence_rate_A7_Fp1_imp',\n",
       " 'hurst_exponent_D5_O2_imp',\n",
       " 'hurst_exponent_D1_T8_imp',\n",
       " 'dfa_D6_O1_imp']"
      ]
     },
     "execution_count": 112,
     "metadata": {},
     "output_type": "execute_result"
    }
   ],
   "source": [
    "[f[0] for f in sorted_by_value]"
   ]
  },
  {
   "cell_type": "markdown",
   "metadata": {
    "ExecuteTime": {
     "end_time": "2019-01-28T02:52:09.657478Z",
     "start_time": "2019-01-28T02:52:09.653326Z"
    }
   },
   "source": [
    "#### Per-class performace"
   ]
  },
  {
   "cell_type": "code",
   "execution_count": 108,
   "metadata": {
    "ExecuteTime": {
     "end_time": "2019-01-28T02:52:53.537898Z",
     "start_time": "2019-01-28T02:52:40.094572Z"
    }
   },
   "outputs": [
    {
     "name": "stdout",
     "output_type": "stream",
     "text": [
      "Summary Stats\n",
      "Precision = 0.6666666666666666\n",
      "Recall = 0.6666666666666666\n",
      "F1 Score = 0.6666666666666666\n",
      "Class 0.0 precision = 0.6666666666666666\n",
      "Class 0.0 recall = 1.0\n",
      "Class 0.0 F1 Measure = 0.8\n",
      "Class 2.0 precision = 0.0\n",
      "Class 2.0 recall = 0.0\n",
      "Class 2.0 F1 Measure = 0.0\n",
      "Weighted recall = 0.6666666666666666\n",
      "Weighted precision = 0.4444444444444444\n",
      "Weighted F(1) Score = 0.5333333333333333\n",
      "Weighted F(0.5) Score = 0.4761904761904761\n",
      "Weighted false positive rate = 0.6666666666666666\n"
     ]
    }
   ],
   "source": [
    "from pyspark.mllib.util import MLUtils\n",
    "from pyspark.mllib.evaluation import MulticlassMetrics\n",
    "# Compute raw scores on the test set\n",
    "predictionAndLabels = rfpredicts.select('prediction', 'label').rdd.map(lambda row: [str(c) for c in row]).map(lambda x: (float(x[0]), float(x[1])))\n",
    "\n",
    "# Instantiate metrics object\n",
    "metrics = MulticlassMetrics(predictionAndLabels)\n",
    "\n",
    "# Overall statistics\n",
    "precision = metrics.precision()\n",
    "recall = metrics.recall()\n",
    "f1Score = metrics.fMeasure()\n",
    "print(\"Summary Stats\")\n",
    "print(\"Precision = %s\" % precision)\n",
    "print(\"Recall = %s\" % recall)\n",
    "print(\"F1 Score = %s\" % f1Score)\n",
    "\n",
    "# Statistics by class\n",
    "labels = train.rdd.map(lambda lp: lp.label).distinct().collect()\n",
    "for label in sorted(labels):\n",
    "    try:\n",
    "        print(\"Class %s precision = %s\" % (label, metrics.precision(label)))\n",
    "        print(\"Class %s recall = %s\" % (label, metrics.recall(label)))\n",
    "        print(\"Class %s F1 Measure = %s\" % (label, metrics.fMeasure(label, beta=1.0)))\n",
    "\n",
    "    except:\n",
    "        continue\n",
    "# Weighted stats\n",
    "print(\"Weighted recall = %s\" % metrics.weightedRecall)\n",
    "print(\"Weighted precision = %s\" % metrics.weightedPrecision)\n",
    "print(\"Weighted F(1) Score = %s\" % metrics.weightedFMeasure())\n",
    "print(\"Weighted F(0.5) Score = %s\" % metrics.weightedFMeasure(beta=0.5))\n",
    "print(\"Weighted false positive rate = %s\" % metrics.weightedFalsePositiveRate)"
   ]
  },
  {
   "cell_type": "markdown",
   "metadata": {},
   "source": [
    "### Decision Tree"
   ]
  },
  {
   "cell_type": "code",
   "execution_count": 109,
   "metadata": {
    "ExecuteTime": {
     "end_time": "2019-01-28T02:53:55.181320Z",
     "start_time": "2019-01-28T02:53:44.415194Z"
    }
   },
   "outputs": [
    {
     "name": "stdout",
     "output_type": "stream",
     "text": [
      "Time taken to fit and evaluate model 10.762 seconds\n"
     ]
    }
   ],
   "source": [
    "# TRAIN\n",
    "from pyspark.ml.classification import DecisionTreeClassifier\n",
    "dt_init_time = time.time()\n",
    "dt = DecisionTreeClassifier(maxDepth=20, maxBins= 32, minInstancesPerNode=1, minInfoGain = 0)\n",
    "dt_fit_time = time.time()\n",
    "dtmodel = dt.fit(train)\n",
    "dt_trans_time = time.time()\n",
    "dtpredicts = dtmodel.transform(test)\n",
    "dt_finish_time = time.time()\n",
    "dt_elapsed_time = dt_finish_time - dt_init_time\n",
    "print('Time taken to fit and evaluate model %.3f seconds' % dt_elapsed_time)"
   ]
  },
  {
   "cell_type": "code",
   "execution_count": 110,
   "metadata": {
    "ExecuteTime": {
     "end_time": "2019-01-28T02:55:33.701622Z",
     "start_time": "2019-01-28T02:53:55.183821Z"
    }
   },
   "outputs": [
    {
     "name": "stdout",
     "output_type": "stream",
     "text": [
      "Accuracy = 0.5000\n",
      "Time taken evaluate model 98.514 seconds\n"
     ]
    }
   ],
   "source": [
    "# EVALUATE\n",
    "from pyspark.ml.evaluation import MulticlassClassificationEvaluator\n",
    "dt_eval_start = time.time()\n",
    "evaluator = MulticlassClassificationEvaluator(labelCol=\"label\", predictionCol=\"prediction\", metricName=\"accuracy\")\n",
    "accuracy = evaluator.evaluate(dtpredicts)\n",
    "dt_eval_end = time.time()\n",
    "print(\"Accuracy = %0.4f\" % (accuracy))\n",
    "dt_eval_elapse = dt_eval_end - dt_eval_start\n",
    "print('Time taken evaluate model %.3f seconds' % dt_eval_elapse )"
   ]
  },
  {
   "cell_type": "markdown",
   "metadata": {
    "ExecuteTime": {
     "end_time": "2019-01-28T07:06:46.525175Z",
     "start_time": "2019-01-28T07:06:46.522394Z"
    }
   },
   "source": [
    "#### Per-class performace"
   ]
  },
  {
   "cell_type": "code",
   "execution_count": 111,
   "metadata": {
    "ExecuteTime": {
     "end_time": "2019-01-28T02:55:46.027317Z",
     "start_time": "2019-01-28T02:55:33.703576Z"
    },
    "run_control": {
     "marked": true
    }
   },
   "outputs": [
    {
     "name": "stdout",
     "output_type": "stream",
     "text": [
      "Summary Stats\n",
      "Precision = 0.5\n",
      "Recall = 0.5\n",
      "F1 Score = 0.5\n",
      "Class 0.0 precision = 0.4\n",
      "Class 0.0 recall = 1.0\n",
      "Class 0.0 F1 Measure = 0.5714285714285715\n",
      "Class 1.0 precision = 1.0\n",
      "Class 1.0 recall = 0.3333333333333333\n",
      "Class 1.0 F1 Measure = 0.5\n",
      "Class 2.0 precision = 0.0\n",
      "Class 2.0 recall = 0.0\n",
      "Class 2.0 F1 Measure = 0.0\n",
      "Weighted recall = 0.5\n",
      "Weighted precision = 0.6333333333333333\n",
      "Weighted F(1) Score = 0.44047619047619047\n",
      "Weighted F(0.5) Score = 0.5086580086580087\n",
      "Weighted false positive rate = 0.25\n"
     ]
    }
   ],
   "source": [
    "from pyspark.mllib.util import MLUtils\n",
    "from pyspark.mllib.evaluation import MulticlassMetrics\n",
    "# Compute raw scores on the test set\n",
    "predictionAndLabels = dtpredicts.select('prediction', 'label').rdd.map(lambda row: [str(c) for c in row]).map(lambda x: (float(x[0]), float(x[1])))\n",
    "\n",
    "# Instantiate metrics object\n",
    "metrics = MulticlassMetrics(predictionAndLabels)\n",
    "\n",
    "# Overall statistics\n",
    "precision = metrics.precision()\n",
    "recall = metrics.recall()\n",
    "f1Score = metrics.fMeasure()\n",
    "print(\"Summary Stats\")\n",
    "print(\"Precision = %s\" % precision)\n",
    "print(\"Recall = %s\" % recall)\n",
    "print(\"F1 Score = %s\" % f1Score)\n",
    "\n",
    "# Statistics by class\n",
    "labels = train.rdd.map(lambda lp: lp.label).distinct().collect()\n",
    "for label in sorted(labels):\n",
    "    try:\n",
    "        print(\"Class %s precision = %s\" % (label, metrics.precision(label)))\n",
    "        print(\"Class %s recall = %s\" % (label, metrics.recall(label)))\n",
    "        print(\"Class %s F1 Measure = %s\" % (label, metrics.fMeasure(label, beta=1.0)))\n",
    "    except:\n",
    "        continue\n",
    "\n",
    "# Weighted stats\n",
    "print(\"Weighted recall = %s\" % metrics.weightedRecall)\n",
    "print(\"Weighted precision = %s\" % metrics.weightedPrecision)\n",
    "print(\"Weighted F(1) Score = %s\" % metrics.weightedFMeasure())\n",
    "print(\"Weighted F(0.5) Score = %s\" % metrics.weightedFMeasure(beta=0.5))\n",
    "print(\"Weighted false positive rate = %s\" % metrics.weightedFalsePositiveRate)"
   ]
  },
  {
   "cell_type": "markdown",
   "metadata": {},
   "source": [
    "### One vs All logistic regression"
   ]
  },
  {
   "cell_type": "code",
   "execution_count": 115,
   "metadata": {
    "ExecuteTime": {
     "end_time": "2019-01-28T03:41:17.033551Z",
     "start_time": "2019-01-28T03:33:58.910307Z"
    }
   },
   "outputs": [
    {
     "name": "stdout",
     "output_type": "stream",
     "text": [
      "Time taken to fit and evaluate model 438.119 seconds\n"
     ]
    }
   ],
   "source": [
    "# TRAIN\n",
    "from pyspark.ml.classification import LogisticRegression, OneVsRest\n",
    "\n",
    "dt_init_time = time.time()\n",
    "# instantiate the base classifier.\n",
    "lr = LogisticRegression(maxIter=10, tol=1E-6, fitIntercept=True)\n",
    "# instantiate the One Vs Rest Classifier.\n",
    "dt = OneVsRest(classifier=lr)\n",
    "dt_fit_time = time.time()\n",
    "dtmodel = dt.fit(train)\n",
    "dt_trans_time = time.time()\n",
    "dtpredicts = dtmodel.transform(test)\n",
    "dt_finish_time = time.time()\n",
    "dt_elapsed_time = dt_finish_time - dt_init_time\n",
    "print('Time taken to fit and evaluate model %.3f seconds' % dt_elapsed_time)"
   ]
  },
  {
   "cell_type": "code",
   "execution_count": 116,
   "metadata": {
    "ExecuteTime": {
     "end_time": "2019-01-28T03:41:54.291512Z",
     "start_time": "2019-01-28T03:41:43.538624Z"
    }
   },
   "outputs": [
    {
     "name": "stdout",
     "output_type": "stream",
     "text": [
      "Accuracy = 0.3333\n",
      "Time taken evaluate model 10.750 seconds\n"
     ]
    }
   ],
   "source": [
    "# EVALUATE\n",
    "from pyspark.ml.evaluation import MulticlassClassificationEvaluator\n",
    "dt_eval_start = time.time()\n",
    "evaluator = MulticlassClassificationEvaluator(labelCol=\"label\", predictionCol=\"prediction\", metricName=\"accuracy\")\n",
    "accuracy = evaluator.evaluate(dtpredicts)\n",
    "dt_eval_end = time.time()\n",
    "print(\"Accuracy = %0.4f\" % (accuracy))\n",
    "dt_eval_elapse = dt_eval_end - dt_eval_start\n",
    "print('Time taken evaluate model %.3f seconds' % dt_eval_elapse )"
   ]
  },
  {
   "cell_type": "code",
   "execution_count": null,
   "metadata": {},
   "outputs": [],
   "source": [
    "# eval_start = time.time()\n",
    "# evaluator = MulticlassClassificationEvaluator(labelCol=\"label\", predictionCol=\"prediction\", metricName=\"accuracy\")\n",
    "# accuracy = evaluator.evaluate(rfpredicts)\n",
    "# eval_end = time.time()\n",
    "# print(\"Accuracy = %0.4f\" % (accuracy))\n",
    "# eval_elapse = eval_end - eval_start\n",
    "# print('Time taken evaluate model %.3f seconds' % eval_elapse )"
   ]
  },
  {
   "cell_type": "code",
   "execution_count": null,
   "metadata": {},
   "outputs": [],
   "source": [
    "# from pyspark.ml.feature import PCA\n",
    "# from pyspark.ml import Pipeline\n",
    "\n",
    "\n",
    "# pca = PCA(k=100, inputCol=\"features\", outputCol=\"pca\")\n",
    "# init_time = time.time()\n",
    "# rf = RandomForestClassifier(maxDepth=30)\n",
    "# pipeline = Pipeline (stages=[va, pca, rf])\n",
    "# fit_time = time.time()\n",
    "# rfmodel = pipeline.fit(train)\n",
    "# trans_time = time.time()\n",
    "# rfpredicts = rfmodel.transform(test)\n",
    "# finish_time = time.time()\n",
    "# elapsed_time = finish_time - init_time\n",
    "# print('Time taken to fit and evaluate model %.3f seconds' % elapsed_time)"
   ]
  },
  {
   "cell_type": "code",
   "execution_count": 59,
   "metadata": {
    "ExecuteTime": {
     "end_time": "2019-01-28T07:07:49.915618Z",
     "start_time": "2019-01-28T07:07:49.082924Z"
    }
   },
   "outputs": [],
   "source": [
    "sc.stop()"
   ]
  }
 ],
 "metadata": {
  "kernelspec": {
   "display_name": "Python 3",
   "language": "python",
   "name": "python3"
  },
  "language_info": {
   "codemirror_mode": {
    "name": "ipython",
    "version": 3
   },
   "file_extension": ".py",
   "mimetype": "text/x-python",
   "name": "python",
   "nbconvert_exporter": "python",
   "pygments_lexer": "ipython3",
   "version": "3.7.1"
  },
  "toc": {
   "base_numbering": 1,
   "nav_menu": {},
   "number_sections": true,
   "sideBar": true,
   "skip_h1_title": false,
   "title_cell": "Table of Contents",
   "title_sidebar": "Contents",
   "toc_cell": false,
   "toc_position": {},
   "toc_section_display": true,
   "toc_window_display": true
  }
 },
 "nbformat": 4,
 "nbformat_minor": 2
}
