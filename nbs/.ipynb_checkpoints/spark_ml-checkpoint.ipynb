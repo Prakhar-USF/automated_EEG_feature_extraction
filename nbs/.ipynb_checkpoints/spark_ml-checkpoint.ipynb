{
 "cells": [
  {
   "cell_type": "code",
   "execution_count": 1,
   "metadata": {
    "ExecuteTime": {
     "end_time": "2019-01-28T00:57:13.635852Z",
     "start_time": "2019-01-28T00:57:13.420193Z"
    }
   },
   "outputs": [],
   "source": [
    "from pyspark.sql import SparkSession, SQLContext\n",
    "import pyspark.sql.functions as F\n",
    "from pyspark.sql.functions import isnan, when, count, col\n",
    "from pyspark.ml.feature import Imputer\n",
    "from pyspark.sql import DataFrameReader\n",
    "from pyspark.sql.types import *\n",
    "from pyspark.ml.feature import VectorAssembler,StringIndexer\n",
    "from pyspark.sql.window import Window"
   ]
  },
  {
   "cell_type": "code",
   "execution_count": 2,
   "metadata": {
    "ExecuteTime": {
     "end_time": "2019-01-28T00:57:17.756943Z",
     "start_time": "2019-01-28T00:57:17.753855Z"
    }
   },
   "outputs": [],
   "source": [
    "import os\n",
    "pyspark_submit_args = '--packages org.mongodb.spark:mongo-spark-connector_2.11:2.4.0 pyspark-shell'\n",
    "os.environ[\"PYSPARK_SUBMIT_ARGS\"] = pyspark_submit_args"
   ]
  },
  {
   "cell_type": "code",
   "execution_count": 3,
   "metadata": {
    "ExecuteTime": {
     "end_time": "2019-01-28T00:58:06.213674Z",
     "start_time": "2019-01-28T00:58:00.373428Z"
    }
   },
   "outputs": [],
   "source": [
    "sc = SparkSession\\\n",
    "    .builder\\\n",
    "    .appName(\"myEEGSession\")\\\n",
    "    .config(\"spark.mongodb.input.uri\", \"mongodb://54.188.74.0/test_hx\") \\\n",
    "    .config('spark.jars.packages','org.mongodb.spark:mongo-spark-connector_2.11:2.4.0')\\\n",
    "    .getOrCreate()"
   ]
  },
  {
   "cell_type": "code",
   "execution_count": 4,
   "metadata": {
    "ExecuteTime": {
     "end_time": "2019-01-28T00:58:10.556044Z",
     "start_time": "2019-01-28T00:58:10.549104Z"
    }
   },
   "outputs": [],
   "source": [
    "ss = SparkSession.builder.getOrCreate()"
   ]
  },
  {
   "cell_type": "code",
   "execution_count": 5,
   "metadata": {
    "ExecuteTime": {
     "end_time": "2019-01-28T00:58:12.219630Z",
     "start_time": "2019-01-28T00:58:12.211637Z"
    }
   },
   "outputs": [],
   "source": [
    "logger = sc._jvm.org.apache.log4j\n",
    "logger.LogManager.getRootLogger().setLevel(logger.Level.FATAL)"
   ]
  },
  {
   "cell_type": "markdown",
   "metadata": {},
   "source": [
    "### Load the Data"
   ]
  },
  {
   "cell_type": "code",
   "execution_count": 6,
   "metadata": {
    "ExecuteTime": {
     "end_time": "2019-01-28T00:58:48.618845Z",
     "start_time": "2019-01-28T00:58:44.524938Z"
    }
   },
   "outputs": [],
   "source": [
    "df = sc.read.format(\"com.mongodb.spark.sql.DefaultSource\").option(\"uri\", \"mongodb://54.188.74.0/test_hx.eeg_features\").load()"
   ]
  },
  {
   "cell_type": "code",
   "execution_count": 7,
   "metadata": {
    "ExecuteTime": {
     "end_time": "2019-01-28T00:58:53.949431Z",
     "start_time": "2019-01-28T00:58:52.139993Z"
    }
   },
   "outputs": [
    {
     "data": {
      "text/plain": [
       "392"
      ]
     },
     "execution_count": 7,
     "metadata": {},
     "output_type": "execute_result"
    }
   ],
   "source": [
    "df.count()"
   ]
  },
  {
   "cell_type": "code",
   "execution_count": 8,
   "metadata": {
    "ExecuteTime": {
     "end_time": "2019-01-28T00:58:59.597935Z",
     "start_time": "2019-01-28T00:58:59.594406Z"
    }
   },
   "outputs": [
    {
     "name": "stdout",
     "output_type": "stream",
     "text": [
      "['_id', 'dfa_A0', 'dfa_A7', 'dfa_D1', 'dfa_D2', 'dfa_D3', 'dfa_D4', 'dfa_D5', 'dfa_D6', 'dfa_D7', 'error_nonrqa_feat', 'f_labels', 'file_duration', 'hurst_exponent_A0', 'hurst_exponent_A7', 'hurst_exponent_D1', 'hurst_exponent_D2', 'hurst_exponent_D3', 'hurst_exponent_D4', 'hurst_exponent_D5', 'hurst_exponent_D6', 'hurst_exponent_D7', 'label', 'lyap0_A0', 'lyap0_A7', 'lyap0_D1', 'lyap0_D2', 'lyap0_D3', 'lyap0_D4', 'lyap0_D5', 'lyap0_D6', 'lyap0_D7', 'lyap1_A0', 'lyap1_A7', 'lyap1_D1', 'lyap1_D2', 'lyap1_D3', 'lyap1_D4', 'lyap1_D5', 'lyap1_D6', 'lyap1_D7', 'lyap2_A0', 'lyap2_A7', 'lyap2_D1', 'lyap2_D2', 'lyap2_D3', 'lyap2_D4', 'lyap2_D5', 'lyap2_D6', 'lyap2_D7', 'participant_group', 'participant_id', 'power_A0', 'power_A7', 'power_D1', 'power_D2', 'power_D3', 'power_D4', 'power_D5', 'power_D6', 'power_D7', 'sample_entropy_A0', 'sample_entropy_A7', 'sample_entropy_D1', 'sample_entropy_D2', 'sample_entropy_D3', 'sample_entropy_D4', 'sample_entropy_D5', 'sample_entropy_D6', 'sample_entropy_D7', 'sample_rate', 'signals_in_file', 'startdate', 'unique_id']\n"
     ]
    }
   ],
   "source": [
    "print(df.columns)"
   ]
  },
  {
   "cell_type": "markdown",
   "metadata": {},
   "source": [
    "## Joining Tables"
   ]
  },
  {
   "cell_type": "code",
   "execution_count": 167,
   "metadata": {
    "ExecuteTime": {
     "end_time": "2019-01-18T22:19:43.630825Z",
     "start_time": "2019-01-18T22:19:42.632311Z"
    }
   },
   "outputs": [],
   "source": [
    "labels = df.select('label').distinct().rdd.keys().collect()"
   ]
  },
  {
   "cell_type": "code",
   "execution_count": 168,
   "metadata": {
    "ExecuteTime": {
     "end_time": "2019-01-18T22:19:43.636062Z",
     "start_time": "2019-01-18T22:19:43.632890Z"
    }
   },
   "outputs": [],
   "source": [
    "master_channel_list = [\"Fp1\",\"Fp2\",\"F7\",\"F3\",\"Fz\",\"F4\",\"F8\",\"T7\",\"C3\",\"Cz\",\n",
    "                       \"C4\",\"T8\",\"P7\",\"P3\",\"Pz\",\"P4\",\"P8\",\"O1\",\"O2\"]"
   ]
  },
  {
   "cell_type": "code",
   "execution_count": 169,
   "metadata": {
    "ExecuteTime": {
     "end_time": "2019-01-18T22:19:43.770810Z",
     "start_time": "2019-01-18T22:19:43.638445Z"
    }
   },
   "outputs": [],
   "source": [
    "df_list = [df.filter(col(\"label\")== l) for l in labels]"
   ]
  },
  {
   "cell_type": "code",
   "execution_count": 170,
   "metadata": {
    "ExecuteTime": {
     "end_time": "2019-01-18T22:19:44.114819Z",
     "start_time": "2019-01-18T22:19:43.773091Z"
    }
   },
   "outputs": [
    {
     "data": {
      "text/plain": [
       "248"
      ]
     },
     "execution_count": 170,
     "metadata": {},
     "output_type": "execute_result"
    }
   ],
   "source": [
    "df.count()"
   ]
  },
  {
   "cell_type": "code",
   "execution_count": 171,
   "metadata": {
    "ExecuteTime": {
     "end_time": "2019-01-18T22:19:44.147476Z",
     "start_time": "2019-01-18T22:19:44.143650Z"
    }
   },
   "outputs": [],
   "source": [
    "columns_all = df.columns"
   ]
  },
  {
   "cell_type": "code",
   "execution_count": 172,
   "metadata": {
    "ExecuteTime": {
     "end_time": "2019-01-18T22:19:44.736359Z",
     "start_time": "2019-01-18T22:19:44.729619Z"
    }
   },
   "outputs": [],
   "source": [
    "columns_except = ['_id','participant_group','participant_id','f_labels',\n",
    "                  'file_duration', 'label',  'sample_rate','signals_in_file','startdate','unique_id']"
   ]
  },
  {
   "cell_type": "code",
   "execution_count": 173,
   "metadata": {
    "ExecuteTime": {
     "end_time": "2019-01-18T22:19:47.937137Z",
     "start_time": "2019-01-18T22:19:47.933696Z"
    }
   },
   "outputs": [],
   "source": [
    "columns_rename = [c for c in columns_all if c not in columns_except]"
   ]
  },
  {
   "cell_type": "code",
   "execution_count": 174,
   "metadata": {
    "ExecuteTime": {
     "end_time": "2019-01-18T22:19:48.619510Z",
     "start_time": "2019-01-18T22:19:48.614234Z"
    }
   },
   "outputs": [
    {
     "data": {
      "text/plain": [
       "['O1', 'C3', 'C4', 'Fp1', 'T7', 'O2', 'T8', 'Fp2']"
      ]
     },
     "execution_count": 174,
     "metadata": {},
     "output_type": "execute_result"
    }
   ],
   "source": [
    "labels"
   ]
  },
  {
   "cell_type": "code",
   "execution_count": 175,
   "metadata": {
    "ExecuteTime": {
     "end_time": "2019-01-18T22:19:49.578955Z",
     "start_time": "2019-01-18T22:19:49.573746Z"
    }
   },
   "outputs": [
    {
     "data": {
      "text/plain": [
       "['dfa_A0',\n",
       " 'dfa_A7',\n",
       " 'dfa_D1',\n",
       " 'dfa_D2',\n",
       " 'dfa_D3',\n",
       " 'dfa_D4',\n",
       " 'dfa_D5',\n",
       " 'dfa_D6',\n",
       " 'dfa_D7',\n",
       " 'hurst_exponent_A0',\n",
       " 'hurst_exponent_A7',\n",
       " 'hurst_exponent_D1',\n",
       " 'hurst_exponent_D2',\n",
       " 'hurst_exponent_D3',\n",
       " 'hurst_exponent_D4',\n",
       " 'hurst_exponent_D5',\n",
       " 'hurst_exponent_D6',\n",
       " 'hurst_exponent_D7',\n",
       " 'lyap0_A0',\n",
       " 'lyap0_A7',\n",
       " 'lyap0_D1',\n",
       " 'lyap0_D2',\n",
       " 'lyap0_D3',\n",
       " 'lyap0_D4',\n",
       " 'lyap0_D5',\n",
       " 'lyap0_D6',\n",
       " 'lyap0_D7',\n",
       " 'lyap1_A0',\n",
       " 'lyap1_A7',\n",
       " 'lyap1_D1',\n",
       " 'lyap1_D2',\n",
       " 'lyap1_D3',\n",
       " 'lyap1_D4',\n",
       " 'lyap1_D5',\n",
       " 'lyap1_D6',\n",
       " 'lyap1_D7',\n",
       " 'lyap2_A0',\n",
       " 'lyap2_A7',\n",
       " 'lyap2_D1',\n",
       " 'lyap2_D2',\n",
       " 'lyap2_D3',\n",
       " 'lyap2_D4',\n",
       " 'lyap2_D5',\n",
       " 'lyap2_D6',\n",
       " 'lyap2_D7',\n",
       " 'power_A0',\n",
       " 'power_A7',\n",
       " 'power_D1',\n",
       " 'power_D2',\n",
       " 'power_D3',\n",
       " 'power_D4',\n",
       " 'power_D5',\n",
       " 'power_D6',\n",
       " 'power_D7',\n",
       " 'sample_entropy_A0',\n",
       " 'sample_entropy_A7',\n",
       " 'sample_entropy_D1',\n",
       " 'sample_entropy_D2',\n",
       " 'sample_entropy_D3',\n",
       " 'sample_entropy_D4',\n",
       " 'sample_entropy_D5',\n",
       " 'sample_entropy_D6',\n",
       " 'sample_entropy_D7']"
      ]
     },
     "execution_count": 175,
     "metadata": {},
     "output_type": "execute_result"
    }
   ],
   "source": [
    "columns_rename"
   ]
  },
  {
   "cell_type": "code",
   "execution_count": 176,
   "metadata": {
    "ExecuteTime": {
     "end_time": "2019-01-18T22:19:54.380612Z",
     "start_time": "2019-01-18T22:19:52.968689Z"
    }
   },
   "outputs": [],
   "source": [
    "for i in range(len(labels)):\n",
    "    for c in df_list[i].columns:\n",
    "        if c in columns_rename:\n",
    "            df_list[i] = df_list[i].withColumnRenamed(c, c+\"_\"+labels[i])"
   ]
  },
  {
   "cell_type": "code",
   "execution_count": 177,
   "metadata": {
    "ExecuteTime": {
     "end_time": "2019-01-18T22:19:54.400821Z",
     "start_time": "2019-01-18T22:19:54.382538Z"
    }
   },
   "outputs": [
    {
     "name": "stdout",
     "output_type": "stream",
     "text": [
      "['_id', 'dfa_A0_O1', 'dfa_A7_O1', 'dfa_D1_O1', 'dfa_D2_O1', 'dfa_D3_O1', 'dfa_D4_O1', 'dfa_D5_O1', 'dfa_D6_O1', 'dfa_D7_O1', 'f_labels', 'file_duration', 'hurst_exponent_A0_O1', 'hurst_exponent_A7_O1', 'hurst_exponent_D1_O1', 'hurst_exponent_D2_O1', 'hurst_exponent_D3_O1', 'hurst_exponent_D4_O1', 'hurst_exponent_D5_O1', 'hurst_exponent_D6_O1', 'hurst_exponent_D7_O1', 'label', 'lyap0_A0_O1', 'lyap0_A7_O1', 'lyap0_D1_O1', 'lyap0_D2_O1', 'lyap0_D3_O1', 'lyap0_D4_O1', 'lyap0_D5_O1', 'lyap0_D6_O1', 'lyap0_D7_O1', 'lyap1_A0_O1', 'lyap1_A7_O1', 'lyap1_D1_O1', 'lyap1_D2_O1', 'lyap1_D3_O1', 'lyap1_D4_O1', 'lyap1_D5_O1', 'lyap1_D6_O1', 'lyap1_D7_O1', 'lyap2_A0_O1', 'lyap2_A7_O1', 'lyap2_D1_O1', 'lyap2_D2_O1', 'lyap2_D3_O1', 'lyap2_D4_O1', 'lyap2_D5_O1', 'lyap2_D6_O1', 'lyap2_D7_O1', 'participant_group', 'participant_id', 'power_A0_O1', 'power_A7_O1', 'power_D1_O1', 'power_D2_O1', 'power_D3_O1', 'power_D4_O1', 'power_D5_O1', 'power_D6_O1', 'power_D7_O1', 'sample_entropy_A0_O1', 'sample_entropy_A7_O1', 'sample_entropy_D1_O1', 'sample_entropy_D2_O1', 'sample_entropy_D3_O1', 'sample_entropy_D4_O1', 'sample_entropy_D5_O1', 'sample_entropy_D6_O1', 'sample_entropy_D7_O1', 'sample_rate', 'signals_in_file', 'startdate', 'unique_id']\n",
      "\n",
      "\n",
      "['_id', 'dfa_A0_C3', 'dfa_A7_C3', 'dfa_D1_C3', 'dfa_D2_C3', 'dfa_D3_C3', 'dfa_D4_C3', 'dfa_D5_C3', 'dfa_D6_C3', 'dfa_D7_C3', 'f_labels', 'file_duration', 'hurst_exponent_A0_C3', 'hurst_exponent_A7_C3', 'hurst_exponent_D1_C3', 'hurst_exponent_D2_C3', 'hurst_exponent_D3_C3', 'hurst_exponent_D4_C3', 'hurst_exponent_D5_C3', 'hurst_exponent_D6_C3', 'hurst_exponent_D7_C3', 'label', 'lyap0_A0_C3', 'lyap0_A7_C3', 'lyap0_D1_C3', 'lyap0_D2_C3', 'lyap0_D3_C3', 'lyap0_D4_C3', 'lyap0_D5_C3', 'lyap0_D6_C3', 'lyap0_D7_C3', 'lyap1_A0_C3', 'lyap1_A7_C3', 'lyap1_D1_C3', 'lyap1_D2_C3', 'lyap1_D3_C3', 'lyap1_D4_C3', 'lyap1_D5_C3', 'lyap1_D6_C3', 'lyap1_D7_C3', 'lyap2_A0_C3', 'lyap2_A7_C3', 'lyap2_D1_C3', 'lyap2_D2_C3', 'lyap2_D3_C3', 'lyap2_D4_C3', 'lyap2_D5_C3', 'lyap2_D6_C3', 'lyap2_D7_C3', 'participant_group', 'participant_id', 'power_A0_C3', 'power_A7_C3', 'power_D1_C3', 'power_D2_C3', 'power_D3_C3', 'power_D4_C3', 'power_D5_C3', 'power_D6_C3', 'power_D7_C3', 'sample_entropy_A0_C3', 'sample_entropy_A7_C3', 'sample_entropy_D1_C3', 'sample_entropy_D2_C3', 'sample_entropy_D3_C3', 'sample_entropy_D4_C3', 'sample_entropy_D5_C3', 'sample_entropy_D6_C3', 'sample_entropy_D7_C3', 'sample_rate', 'signals_in_file', 'startdate', 'unique_id']\n",
      "\n",
      "\n",
      "['_id', 'dfa_A0_C4', 'dfa_A7_C4', 'dfa_D1_C4', 'dfa_D2_C4', 'dfa_D3_C4', 'dfa_D4_C4', 'dfa_D5_C4', 'dfa_D6_C4', 'dfa_D7_C4', 'f_labels', 'file_duration', 'hurst_exponent_A0_C4', 'hurst_exponent_A7_C4', 'hurst_exponent_D1_C4', 'hurst_exponent_D2_C4', 'hurst_exponent_D3_C4', 'hurst_exponent_D4_C4', 'hurst_exponent_D5_C4', 'hurst_exponent_D6_C4', 'hurst_exponent_D7_C4', 'label', 'lyap0_A0_C4', 'lyap0_A7_C4', 'lyap0_D1_C4', 'lyap0_D2_C4', 'lyap0_D3_C4', 'lyap0_D4_C4', 'lyap0_D5_C4', 'lyap0_D6_C4', 'lyap0_D7_C4', 'lyap1_A0_C4', 'lyap1_A7_C4', 'lyap1_D1_C4', 'lyap1_D2_C4', 'lyap1_D3_C4', 'lyap1_D4_C4', 'lyap1_D5_C4', 'lyap1_D6_C4', 'lyap1_D7_C4', 'lyap2_A0_C4', 'lyap2_A7_C4', 'lyap2_D1_C4', 'lyap2_D2_C4', 'lyap2_D3_C4', 'lyap2_D4_C4', 'lyap2_D5_C4', 'lyap2_D6_C4', 'lyap2_D7_C4', 'participant_group', 'participant_id', 'power_A0_C4', 'power_A7_C4', 'power_D1_C4', 'power_D2_C4', 'power_D3_C4', 'power_D4_C4', 'power_D5_C4', 'power_D6_C4', 'power_D7_C4', 'sample_entropy_A0_C4', 'sample_entropy_A7_C4', 'sample_entropy_D1_C4', 'sample_entropy_D2_C4', 'sample_entropy_D3_C4', 'sample_entropy_D4_C4', 'sample_entropy_D5_C4', 'sample_entropy_D6_C4', 'sample_entropy_D7_C4', 'sample_rate', 'signals_in_file', 'startdate', 'unique_id']\n",
      "\n",
      "\n",
      "['_id', 'dfa_A0_Fp1', 'dfa_A7_Fp1', 'dfa_D1_Fp1', 'dfa_D2_Fp1', 'dfa_D3_Fp1', 'dfa_D4_Fp1', 'dfa_D5_Fp1', 'dfa_D6_Fp1', 'dfa_D7_Fp1', 'f_labels', 'file_duration', 'hurst_exponent_A0_Fp1', 'hurst_exponent_A7_Fp1', 'hurst_exponent_D1_Fp1', 'hurst_exponent_D2_Fp1', 'hurst_exponent_D3_Fp1', 'hurst_exponent_D4_Fp1', 'hurst_exponent_D5_Fp1', 'hurst_exponent_D6_Fp1', 'hurst_exponent_D7_Fp1', 'label', 'lyap0_A0_Fp1', 'lyap0_A7_Fp1', 'lyap0_D1_Fp1', 'lyap0_D2_Fp1', 'lyap0_D3_Fp1', 'lyap0_D4_Fp1', 'lyap0_D5_Fp1', 'lyap0_D6_Fp1', 'lyap0_D7_Fp1', 'lyap1_A0_Fp1', 'lyap1_A7_Fp1', 'lyap1_D1_Fp1', 'lyap1_D2_Fp1', 'lyap1_D3_Fp1', 'lyap1_D4_Fp1', 'lyap1_D5_Fp1', 'lyap1_D6_Fp1', 'lyap1_D7_Fp1', 'lyap2_A0_Fp1', 'lyap2_A7_Fp1', 'lyap2_D1_Fp1', 'lyap2_D2_Fp1', 'lyap2_D3_Fp1', 'lyap2_D4_Fp1', 'lyap2_D5_Fp1', 'lyap2_D6_Fp1', 'lyap2_D7_Fp1', 'participant_group', 'participant_id', 'power_A0_Fp1', 'power_A7_Fp1', 'power_D1_Fp1', 'power_D2_Fp1', 'power_D3_Fp1', 'power_D4_Fp1', 'power_D5_Fp1', 'power_D6_Fp1', 'power_D7_Fp1', 'sample_entropy_A0_Fp1', 'sample_entropy_A7_Fp1', 'sample_entropy_D1_Fp1', 'sample_entropy_D2_Fp1', 'sample_entropy_D3_Fp1', 'sample_entropy_D4_Fp1', 'sample_entropy_D5_Fp1', 'sample_entropy_D6_Fp1', 'sample_entropy_D7_Fp1', 'sample_rate', 'signals_in_file', 'startdate', 'unique_id']\n",
      "\n",
      "\n",
      "['_id', 'dfa_A0_T7', 'dfa_A7_T7', 'dfa_D1_T7', 'dfa_D2_T7', 'dfa_D3_T7', 'dfa_D4_T7', 'dfa_D5_T7', 'dfa_D6_T7', 'dfa_D7_T7', 'f_labels', 'file_duration', 'hurst_exponent_A0_T7', 'hurst_exponent_A7_T7', 'hurst_exponent_D1_T7', 'hurst_exponent_D2_T7', 'hurst_exponent_D3_T7', 'hurst_exponent_D4_T7', 'hurst_exponent_D5_T7', 'hurst_exponent_D6_T7', 'hurst_exponent_D7_T7', 'label', 'lyap0_A0_T7', 'lyap0_A7_T7', 'lyap0_D1_T7', 'lyap0_D2_T7', 'lyap0_D3_T7', 'lyap0_D4_T7', 'lyap0_D5_T7', 'lyap0_D6_T7', 'lyap0_D7_T7', 'lyap1_A0_T7', 'lyap1_A7_T7', 'lyap1_D1_T7', 'lyap1_D2_T7', 'lyap1_D3_T7', 'lyap1_D4_T7', 'lyap1_D5_T7', 'lyap1_D6_T7', 'lyap1_D7_T7', 'lyap2_A0_T7', 'lyap2_A7_T7', 'lyap2_D1_T7', 'lyap2_D2_T7', 'lyap2_D3_T7', 'lyap2_D4_T7', 'lyap2_D5_T7', 'lyap2_D6_T7', 'lyap2_D7_T7', 'participant_group', 'participant_id', 'power_A0_T7', 'power_A7_T7', 'power_D1_T7', 'power_D2_T7', 'power_D3_T7', 'power_D4_T7', 'power_D5_T7', 'power_D6_T7', 'power_D7_T7', 'sample_entropy_A0_T7', 'sample_entropy_A7_T7', 'sample_entropy_D1_T7', 'sample_entropy_D2_T7', 'sample_entropy_D3_T7', 'sample_entropy_D4_T7', 'sample_entropy_D5_T7', 'sample_entropy_D6_T7', 'sample_entropy_D7_T7', 'sample_rate', 'signals_in_file', 'startdate', 'unique_id']\n",
      "\n",
      "\n",
      "['_id', 'dfa_A0_O2', 'dfa_A7_O2', 'dfa_D1_O2', 'dfa_D2_O2', 'dfa_D3_O2', 'dfa_D4_O2', 'dfa_D5_O2', 'dfa_D6_O2', 'dfa_D7_O2', 'f_labels', 'file_duration', 'hurst_exponent_A0_O2', 'hurst_exponent_A7_O2', 'hurst_exponent_D1_O2', 'hurst_exponent_D2_O2', 'hurst_exponent_D3_O2', 'hurst_exponent_D4_O2', 'hurst_exponent_D5_O2', 'hurst_exponent_D6_O2', 'hurst_exponent_D7_O2', 'label', 'lyap0_A0_O2', 'lyap0_A7_O2', 'lyap0_D1_O2', 'lyap0_D2_O2', 'lyap0_D3_O2', 'lyap0_D4_O2', 'lyap0_D5_O2', 'lyap0_D6_O2', 'lyap0_D7_O2', 'lyap1_A0_O2', 'lyap1_A7_O2', 'lyap1_D1_O2', 'lyap1_D2_O2', 'lyap1_D3_O2', 'lyap1_D4_O2', 'lyap1_D5_O2', 'lyap1_D6_O2', 'lyap1_D7_O2', 'lyap2_A0_O2', 'lyap2_A7_O2', 'lyap2_D1_O2', 'lyap2_D2_O2', 'lyap2_D3_O2', 'lyap2_D4_O2', 'lyap2_D5_O2', 'lyap2_D6_O2', 'lyap2_D7_O2', 'participant_group', 'participant_id', 'power_A0_O2', 'power_A7_O2', 'power_D1_O2', 'power_D2_O2', 'power_D3_O2', 'power_D4_O2', 'power_D5_O2', 'power_D6_O2', 'power_D7_O2', 'sample_entropy_A0_O2', 'sample_entropy_A7_O2', 'sample_entropy_D1_O2', 'sample_entropy_D2_O2', 'sample_entropy_D3_O2', 'sample_entropy_D4_O2', 'sample_entropy_D5_O2', 'sample_entropy_D6_O2', 'sample_entropy_D7_O2', 'sample_rate', 'signals_in_file', 'startdate', 'unique_id']\n",
      "\n",
      "\n",
      "['_id', 'dfa_A0_T8', 'dfa_A7_T8', 'dfa_D1_T8', 'dfa_D2_T8', 'dfa_D3_T8', 'dfa_D4_T8', 'dfa_D5_T8', 'dfa_D6_T8', 'dfa_D7_T8', 'f_labels', 'file_duration', 'hurst_exponent_A0_T8', 'hurst_exponent_A7_T8', 'hurst_exponent_D1_T8', 'hurst_exponent_D2_T8', 'hurst_exponent_D3_T8', 'hurst_exponent_D4_T8', 'hurst_exponent_D5_T8', 'hurst_exponent_D6_T8', 'hurst_exponent_D7_T8', 'label', 'lyap0_A0_T8', 'lyap0_A7_T8', 'lyap0_D1_T8', 'lyap0_D2_T8', 'lyap0_D3_T8', 'lyap0_D4_T8', 'lyap0_D5_T8', 'lyap0_D6_T8', 'lyap0_D7_T8', 'lyap1_A0_T8', 'lyap1_A7_T8', 'lyap1_D1_T8', 'lyap1_D2_T8', 'lyap1_D3_T8', 'lyap1_D4_T8', 'lyap1_D5_T8', 'lyap1_D6_T8', 'lyap1_D7_T8', 'lyap2_A0_T8', 'lyap2_A7_T8', 'lyap2_D1_T8', 'lyap2_D2_T8', 'lyap2_D3_T8', 'lyap2_D4_T8', 'lyap2_D5_T8', 'lyap2_D6_T8', 'lyap2_D7_T8', 'participant_group', 'participant_id', 'power_A0_T8', 'power_A7_T8', 'power_D1_T8', 'power_D2_T8', 'power_D3_T8', 'power_D4_T8', 'power_D5_T8', 'power_D6_T8', 'power_D7_T8', 'sample_entropy_A0_T8', 'sample_entropy_A7_T8', 'sample_entropy_D1_T8', 'sample_entropy_D2_T8', 'sample_entropy_D3_T8', 'sample_entropy_D4_T8', 'sample_entropy_D5_T8', 'sample_entropy_D6_T8', 'sample_entropy_D7_T8', 'sample_rate', 'signals_in_file', 'startdate', 'unique_id']\n",
      "\n",
      "\n",
      "['_id', 'dfa_A0_Fp2', 'dfa_A7_Fp2', 'dfa_D1_Fp2', 'dfa_D2_Fp2', 'dfa_D3_Fp2', 'dfa_D4_Fp2', 'dfa_D5_Fp2', 'dfa_D6_Fp2', 'dfa_D7_Fp2', 'f_labels', 'file_duration', 'hurst_exponent_A0_Fp2', 'hurst_exponent_A7_Fp2', 'hurst_exponent_D1_Fp2', 'hurst_exponent_D2_Fp2', 'hurst_exponent_D3_Fp2', 'hurst_exponent_D4_Fp2', 'hurst_exponent_D5_Fp2', 'hurst_exponent_D6_Fp2', 'hurst_exponent_D7_Fp2', 'label', 'lyap0_A0_Fp2', 'lyap0_A7_Fp2', 'lyap0_D1_Fp2', 'lyap0_D2_Fp2', 'lyap0_D3_Fp2', 'lyap0_D4_Fp2', 'lyap0_D5_Fp2', 'lyap0_D6_Fp2', 'lyap0_D7_Fp2', 'lyap1_A0_Fp2', 'lyap1_A7_Fp2', 'lyap1_D1_Fp2', 'lyap1_D2_Fp2', 'lyap1_D3_Fp2', 'lyap1_D4_Fp2', 'lyap1_D5_Fp2', 'lyap1_D6_Fp2', 'lyap1_D7_Fp2', 'lyap2_A0_Fp2', 'lyap2_A7_Fp2', 'lyap2_D1_Fp2', 'lyap2_D2_Fp2', 'lyap2_D3_Fp2', 'lyap2_D4_Fp2', 'lyap2_D5_Fp2', 'lyap2_D6_Fp2', 'lyap2_D7_Fp2', 'participant_group', 'participant_id', 'power_A0_Fp2', 'power_A7_Fp2', 'power_D1_Fp2', 'power_D2_Fp2', 'power_D3_Fp2', 'power_D4_Fp2', 'power_D5_Fp2', 'power_D6_Fp2', 'power_D7_Fp2', 'sample_entropy_A0_Fp2', 'sample_entropy_A7_Fp2', 'sample_entropy_D1_Fp2', 'sample_entropy_D2_Fp2', 'sample_entropy_D3_Fp2', 'sample_entropy_D4_Fp2', 'sample_entropy_D5_Fp2', 'sample_entropy_D6_Fp2', 'sample_entropy_D7_Fp2', 'sample_rate', 'signals_in_file', 'startdate', 'unique_id']\n",
      "\n",
      "\n"
     ]
    }
   ],
   "source": [
    "for i in range(len(labels)):\n",
    "    print(df_list[i].columns)\n",
    "    print('\\n')"
   ]
  },
  {
   "cell_type": "code",
   "execution_count": 178,
   "metadata": {
    "ExecuteTime": {
     "end_time": "2019-01-18T22:20:00.835384Z",
     "start_time": "2019-01-18T22:20:00.819631Z"
    }
   },
   "outputs": [],
   "source": [
    "temp = df.select(*['participant_group','participant_id', 'startdate','file_duration']).distinct()"
   ]
  },
  {
   "cell_type": "code",
   "execution_count": 179,
   "metadata": {
    "ExecuteTime": {
     "end_time": "2019-01-18T22:20:10.671001Z",
     "start_time": "2019-01-18T22:20:10.032383Z"
    }
   },
   "outputs": [
    {
     "name": "stdout",
     "output_type": "stream",
     "text": [
      "+-----------------+--------------+-------------------+-------------+\n",
      "|participant_group|participant_id|          startdate|file_duration|\n",
      "+-----------------+--------------+-------------------+-------------+\n",
      "|     12_month_EEG|        B1-2-3|2016-12-09 12:12:26|          598|\n",
      "|     12_month_EEG|       B20-1-1|2016-09-09 11:09:49|          599|\n",
      "|     12_month_EEG|       A14-1-1|2017-04-28 16:16:14|          598|\n",
      "|     12_month_EEG|       B22-1-1|2017-06-23 14:43:19|          599|\n",
      "|     06_month_EEG|        A8-1-3|2017-06-09 16:51:00|          599|\n",
      "|     12_month_EEG|        B1-2-3|2016-12-09 12:23:07|          179|\n",
      "|     12_month_EEG|        B8-1-1|2016-08-12 16:36:47|          598|\n",
      "|     12_month_EEG|       B24-2-2|2017-03-10 14:09:35|          598|\n",
      "|     12_month_EEG|       B25-1-1|2017-01-20 16:21:38|          599|\n",
      "|     12_month_EEG|        B9-1-2|2017-03-10 12:59:32|          611|\n",
      "|     12_month_EEG|       B24-1-2|2017-03-10 14:30:52|          598|\n",
      "|     24_month_EEG|        B9-1-2|2018-04-22 09:11:42|            9|\n",
      "|     12_month_EEG|       B23-1-1|2017-02-24 15:10:58|          598|\n",
      "|     12_month_EEG|        B1-3-3|2016-12-09 11:53:32|          599|\n",
      "|     12_month_EEG|        B3-1-1|2016-07-15 12:11:34|          598|\n",
      "|     12_month_EEG|        B4-1-1|2016-06-17 12:05:36|            4|\n",
      "|     24_month_EEG|        B9-1-2|2018-04-22 09:12:07|          609|\n",
      "|     12_month_EEG|        B4-1-1|2016-06-17 12:06:33|          852|\n",
      "|     12_month_EEG|       B17-1-1|2017-02-24 11:52:59|          598|\n",
      "|     12_month_EEG|        B7-2-2|2017-06-16 12:35:48|          598|\n",
      "+-----------------+--------------+-------------------+-------------+\n",
      "only showing top 20 rows\n",
      "\n"
     ]
    }
   ],
   "source": [
    "temp.show()"
   ]
  },
  {
   "cell_type": "code",
   "execution_count": 180,
   "metadata": {
    "ExecuteTime": {
     "end_time": "2019-01-18T22:20:32.679518Z",
     "start_time": "2019-01-18T22:20:32.632641Z"
    }
   },
   "outputs": [],
   "source": [
    "for i in range(len(df_list)):\n",
    "    df_list[i] = df_list[i].drop(*['_id','f_labels','label','sample_rate','signals_in_file','unique_id','file_duration'])\n",
    "\n"
   ]
  },
  {
   "cell_type": "code",
   "execution_count": 181,
   "metadata": {
    "ExecuteTime": {
     "end_time": "2019-01-18T22:20:43.339185Z",
     "start_time": "2019-01-18T22:20:39.909489Z"
    }
   },
   "outputs": [],
   "source": [
    "for i in range(len(df_list)):\n",
    "    temp= temp.join(df_list[i],['participant_group','participant_id', 'startdate'])"
   ]
  },
  {
   "cell_type": "code",
   "execution_count": 182,
   "metadata": {
    "ExecuteTime": {
     "end_time": "2019-01-18T22:20:43.345027Z",
     "start_time": "2019-01-18T22:20:43.341114Z"
    }
   },
   "outputs": [],
   "source": [
    "df = temp\n",
    "del temp"
   ]
  },
  {
   "cell_type": "code",
   "execution_count": 183,
   "metadata": {
    "ExecuteTime": {
     "end_time": "2019-01-18T22:20:48.091858Z",
     "start_time": "2019-01-18T22:20:48.072090Z"
    }
   },
   "outputs": [
    {
     "data": {
      "text/plain": [
       "['participant_group',\n",
       " 'participant_id',\n",
       " 'startdate',\n",
       " 'file_duration',\n",
       " 'dfa_A0_O1',\n",
       " 'dfa_A7_O1',\n",
       " 'dfa_D1_O1',\n",
       " 'dfa_D2_O1',\n",
       " 'dfa_D3_O1',\n",
       " 'dfa_D4_O1',\n",
       " 'dfa_D5_O1',\n",
       " 'dfa_D6_O1',\n",
       " 'dfa_D7_O1',\n",
       " 'hurst_exponent_A0_O1',\n",
       " 'hurst_exponent_A7_O1',\n",
       " 'hurst_exponent_D1_O1',\n",
       " 'hurst_exponent_D2_O1',\n",
       " 'hurst_exponent_D3_O1',\n",
       " 'hurst_exponent_D4_O1',\n",
       " 'hurst_exponent_D5_O1',\n",
       " 'hurst_exponent_D6_O1',\n",
       " 'hurst_exponent_D7_O1',\n",
       " 'lyap0_A0_O1',\n",
       " 'lyap0_A7_O1',\n",
       " 'lyap0_D1_O1',\n",
       " 'lyap0_D2_O1',\n",
       " 'lyap0_D3_O1',\n",
       " 'lyap0_D4_O1',\n",
       " 'lyap0_D5_O1',\n",
       " 'lyap0_D6_O1',\n",
       " 'lyap0_D7_O1',\n",
       " 'lyap1_A0_O1',\n",
       " 'lyap1_A7_O1',\n",
       " 'lyap1_D1_O1',\n",
       " 'lyap1_D2_O1',\n",
       " 'lyap1_D3_O1',\n",
       " 'lyap1_D4_O1',\n",
       " 'lyap1_D5_O1',\n",
       " 'lyap1_D6_O1',\n",
       " 'lyap1_D7_O1',\n",
       " 'lyap2_A0_O1',\n",
       " 'lyap2_A7_O1',\n",
       " 'lyap2_D1_O1',\n",
       " 'lyap2_D2_O1',\n",
       " 'lyap2_D3_O1',\n",
       " 'lyap2_D4_O1',\n",
       " 'lyap2_D5_O1',\n",
       " 'lyap2_D6_O1',\n",
       " 'lyap2_D7_O1',\n",
       " 'power_A0_O1',\n",
       " 'power_A7_O1',\n",
       " 'power_D1_O1',\n",
       " 'power_D2_O1',\n",
       " 'power_D3_O1',\n",
       " 'power_D4_O1',\n",
       " 'power_D5_O1',\n",
       " 'power_D6_O1',\n",
       " 'power_D7_O1',\n",
       " 'sample_entropy_A0_O1',\n",
       " 'sample_entropy_A7_O1',\n",
       " 'sample_entropy_D1_O1',\n",
       " 'sample_entropy_D2_O1',\n",
       " 'sample_entropy_D3_O1',\n",
       " 'sample_entropy_D4_O1',\n",
       " 'sample_entropy_D5_O1',\n",
       " 'sample_entropy_D6_O1',\n",
       " 'sample_entropy_D7_O1',\n",
       " 'dfa_A0_C3',\n",
       " 'dfa_A7_C3',\n",
       " 'dfa_D1_C3',\n",
       " 'dfa_D2_C3',\n",
       " 'dfa_D3_C3',\n",
       " 'dfa_D4_C3',\n",
       " 'dfa_D5_C3',\n",
       " 'dfa_D6_C3',\n",
       " 'dfa_D7_C3',\n",
       " 'hurst_exponent_A0_C3',\n",
       " 'hurst_exponent_A7_C3',\n",
       " 'hurst_exponent_D1_C3',\n",
       " 'hurst_exponent_D2_C3',\n",
       " 'hurst_exponent_D3_C3',\n",
       " 'hurst_exponent_D4_C3',\n",
       " 'hurst_exponent_D5_C3',\n",
       " 'hurst_exponent_D6_C3',\n",
       " 'hurst_exponent_D7_C3',\n",
       " 'lyap0_A0_C3',\n",
       " 'lyap0_A7_C3',\n",
       " 'lyap0_D1_C3',\n",
       " 'lyap0_D2_C3',\n",
       " 'lyap0_D3_C3',\n",
       " 'lyap0_D4_C3',\n",
       " 'lyap0_D5_C3',\n",
       " 'lyap0_D6_C3',\n",
       " 'lyap0_D7_C3',\n",
       " 'lyap1_A0_C3',\n",
       " 'lyap1_A7_C3',\n",
       " 'lyap1_D1_C3',\n",
       " 'lyap1_D2_C3',\n",
       " 'lyap1_D3_C3',\n",
       " 'lyap1_D4_C3',\n",
       " 'lyap1_D5_C3',\n",
       " 'lyap1_D6_C3',\n",
       " 'lyap1_D7_C3',\n",
       " 'lyap2_A0_C3',\n",
       " 'lyap2_A7_C3',\n",
       " 'lyap2_D1_C3',\n",
       " 'lyap2_D2_C3',\n",
       " 'lyap2_D3_C3',\n",
       " 'lyap2_D4_C3',\n",
       " 'lyap2_D5_C3',\n",
       " 'lyap2_D6_C3',\n",
       " 'lyap2_D7_C3',\n",
       " 'power_A0_C3',\n",
       " 'power_A7_C3',\n",
       " 'power_D1_C3',\n",
       " 'power_D2_C3',\n",
       " 'power_D3_C3',\n",
       " 'power_D4_C3',\n",
       " 'power_D5_C3',\n",
       " 'power_D6_C3',\n",
       " 'power_D7_C3',\n",
       " 'sample_entropy_A0_C3',\n",
       " 'sample_entropy_A7_C3',\n",
       " 'sample_entropy_D1_C3',\n",
       " 'sample_entropy_D2_C3',\n",
       " 'sample_entropy_D3_C3',\n",
       " 'sample_entropy_D4_C3',\n",
       " 'sample_entropy_D5_C3',\n",
       " 'sample_entropy_D6_C3',\n",
       " 'sample_entropy_D7_C3',\n",
       " 'dfa_A0_C4',\n",
       " 'dfa_A7_C4',\n",
       " 'dfa_D1_C4',\n",
       " 'dfa_D2_C4',\n",
       " 'dfa_D3_C4',\n",
       " 'dfa_D4_C4',\n",
       " 'dfa_D5_C4',\n",
       " 'dfa_D6_C4',\n",
       " 'dfa_D7_C4',\n",
       " 'hurst_exponent_A0_C4',\n",
       " 'hurst_exponent_A7_C4',\n",
       " 'hurst_exponent_D1_C4',\n",
       " 'hurst_exponent_D2_C4',\n",
       " 'hurst_exponent_D3_C4',\n",
       " 'hurst_exponent_D4_C4',\n",
       " 'hurst_exponent_D5_C4',\n",
       " 'hurst_exponent_D6_C4',\n",
       " 'hurst_exponent_D7_C4',\n",
       " 'lyap0_A0_C4',\n",
       " 'lyap0_A7_C4',\n",
       " 'lyap0_D1_C4',\n",
       " 'lyap0_D2_C4',\n",
       " 'lyap0_D3_C4',\n",
       " 'lyap0_D4_C4',\n",
       " 'lyap0_D5_C4',\n",
       " 'lyap0_D6_C4',\n",
       " 'lyap0_D7_C4',\n",
       " 'lyap1_A0_C4',\n",
       " 'lyap1_A7_C4',\n",
       " 'lyap1_D1_C4',\n",
       " 'lyap1_D2_C4',\n",
       " 'lyap1_D3_C4',\n",
       " 'lyap1_D4_C4',\n",
       " 'lyap1_D5_C4',\n",
       " 'lyap1_D6_C4',\n",
       " 'lyap1_D7_C4',\n",
       " 'lyap2_A0_C4',\n",
       " 'lyap2_A7_C4',\n",
       " 'lyap2_D1_C4',\n",
       " 'lyap2_D2_C4',\n",
       " 'lyap2_D3_C4',\n",
       " 'lyap2_D4_C4',\n",
       " 'lyap2_D5_C4',\n",
       " 'lyap2_D6_C4',\n",
       " 'lyap2_D7_C4',\n",
       " 'power_A0_C4',\n",
       " 'power_A7_C4',\n",
       " 'power_D1_C4',\n",
       " 'power_D2_C4',\n",
       " 'power_D3_C4',\n",
       " 'power_D4_C4',\n",
       " 'power_D5_C4',\n",
       " 'power_D6_C4',\n",
       " 'power_D7_C4',\n",
       " 'sample_entropy_A0_C4',\n",
       " 'sample_entropy_A7_C4',\n",
       " 'sample_entropy_D1_C4',\n",
       " 'sample_entropy_D2_C4',\n",
       " 'sample_entropy_D3_C4',\n",
       " 'sample_entropy_D4_C4',\n",
       " 'sample_entropy_D5_C4',\n",
       " 'sample_entropy_D6_C4',\n",
       " 'sample_entropy_D7_C4',\n",
       " 'dfa_A0_Fp1',\n",
       " 'dfa_A7_Fp1',\n",
       " 'dfa_D1_Fp1',\n",
       " 'dfa_D2_Fp1',\n",
       " 'dfa_D3_Fp1',\n",
       " 'dfa_D4_Fp1',\n",
       " 'dfa_D5_Fp1',\n",
       " 'dfa_D6_Fp1',\n",
       " 'dfa_D7_Fp1',\n",
       " 'hurst_exponent_A0_Fp1',\n",
       " 'hurst_exponent_A7_Fp1',\n",
       " 'hurst_exponent_D1_Fp1',\n",
       " 'hurst_exponent_D2_Fp1',\n",
       " 'hurst_exponent_D3_Fp1',\n",
       " 'hurst_exponent_D4_Fp1',\n",
       " 'hurst_exponent_D5_Fp1',\n",
       " 'hurst_exponent_D6_Fp1',\n",
       " 'hurst_exponent_D7_Fp1',\n",
       " 'lyap0_A0_Fp1',\n",
       " 'lyap0_A7_Fp1',\n",
       " 'lyap0_D1_Fp1',\n",
       " 'lyap0_D2_Fp1',\n",
       " 'lyap0_D3_Fp1',\n",
       " 'lyap0_D4_Fp1',\n",
       " 'lyap0_D5_Fp1',\n",
       " 'lyap0_D6_Fp1',\n",
       " 'lyap0_D7_Fp1',\n",
       " 'lyap1_A0_Fp1',\n",
       " 'lyap1_A7_Fp1',\n",
       " 'lyap1_D1_Fp1',\n",
       " 'lyap1_D2_Fp1',\n",
       " 'lyap1_D3_Fp1',\n",
       " 'lyap1_D4_Fp1',\n",
       " 'lyap1_D5_Fp1',\n",
       " 'lyap1_D6_Fp1',\n",
       " 'lyap1_D7_Fp1',\n",
       " 'lyap2_A0_Fp1',\n",
       " 'lyap2_A7_Fp1',\n",
       " 'lyap2_D1_Fp1',\n",
       " 'lyap2_D2_Fp1',\n",
       " 'lyap2_D3_Fp1',\n",
       " 'lyap2_D4_Fp1',\n",
       " 'lyap2_D5_Fp1',\n",
       " 'lyap2_D6_Fp1',\n",
       " 'lyap2_D7_Fp1',\n",
       " 'power_A0_Fp1',\n",
       " 'power_A7_Fp1',\n",
       " 'power_D1_Fp1',\n",
       " 'power_D2_Fp1',\n",
       " 'power_D3_Fp1',\n",
       " 'power_D4_Fp1',\n",
       " 'power_D5_Fp1',\n",
       " 'power_D6_Fp1',\n",
       " 'power_D7_Fp1',\n",
       " 'sample_entropy_A0_Fp1',\n",
       " 'sample_entropy_A7_Fp1',\n",
       " 'sample_entropy_D1_Fp1',\n",
       " 'sample_entropy_D2_Fp1',\n",
       " 'sample_entropy_D3_Fp1',\n",
       " 'sample_entropy_D4_Fp1',\n",
       " 'sample_entropy_D5_Fp1',\n",
       " 'sample_entropy_D6_Fp1',\n",
       " 'sample_entropy_D7_Fp1',\n",
       " 'dfa_A0_T7',\n",
       " 'dfa_A7_T7',\n",
       " 'dfa_D1_T7',\n",
       " 'dfa_D2_T7',\n",
       " 'dfa_D3_T7',\n",
       " 'dfa_D4_T7',\n",
       " 'dfa_D5_T7',\n",
       " 'dfa_D6_T7',\n",
       " 'dfa_D7_T7',\n",
       " 'hurst_exponent_A0_T7',\n",
       " 'hurst_exponent_A7_T7',\n",
       " 'hurst_exponent_D1_T7',\n",
       " 'hurst_exponent_D2_T7',\n",
       " 'hurst_exponent_D3_T7',\n",
       " 'hurst_exponent_D4_T7',\n",
       " 'hurst_exponent_D5_T7',\n",
       " 'hurst_exponent_D6_T7',\n",
       " 'hurst_exponent_D7_T7',\n",
       " 'lyap0_A0_T7',\n",
       " 'lyap0_A7_T7',\n",
       " 'lyap0_D1_T7',\n",
       " 'lyap0_D2_T7',\n",
       " 'lyap0_D3_T7',\n",
       " 'lyap0_D4_T7',\n",
       " 'lyap0_D5_T7',\n",
       " 'lyap0_D6_T7',\n",
       " 'lyap0_D7_T7',\n",
       " 'lyap1_A0_T7',\n",
       " 'lyap1_A7_T7',\n",
       " 'lyap1_D1_T7',\n",
       " 'lyap1_D2_T7',\n",
       " 'lyap1_D3_T7',\n",
       " 'lyap1_D4_T7',\n",
       " 'lyap1_D5_T7',\n",
       " 'lyap1_D6_T7',\n",
       " 'lyap1_D7_T7',\n",
       " 'lyap2_A0_T7',\n",
       " 'lyap2_A7_T7',\n",
       " 'lyap2_D1_T7',\n",
       " 'lyap2_D2_T7',\n",
       " 'lyap2_D3_T7',\n",
       " 'lyap2_D4_T7',\n",
       " 'lyap2_D5_T7',\n",
       " 'lyap2_D6_T7',\n",
       " 'lyap2_D7_T7',\n",
       " 'power_A0_T7',\n",
       " 'power_A7_T7',\n",
       " 'power_D1_T7',\n",
       " 'power_D2_T7',\n",
       " 'power_D3_T7',\n",
       " 'power_D4_T7',\n",
       " 'power_D5_T7',\n",
       " 'power_D6_T7',\n",
       " 'power_D7_T7',\n",
       " 'sample_entropy_A0_T7',\n",
       " 'sample_entropy_A7_T7',\n",
       " 'sample_entropy_D1_T7',\n",
       " 'sample_entropy_D2_T7',\n",
       " 'sample_entropy_D3_T7',\n",
       " 'sample_entropy_D4_T7',\n",
       " 'sample_entropy_D5_T7',\n",
       " 'sample_entropy_D6_T7',\n",
       " 'sample_entropy_D7_T7',\n",
       " 'dfa_A0_O2',\n",
       " 'dfa_A7_O2',\n",
       " 'dfa_D1_O2',\n",
       " 'dfa_D2_O2',\n",
       " 'dfa_D3_O2',\n",
       " 'dfa_D4_O2',\n",
       " 'dfa_D5_O2',\n",
       " 'dfa_D6_O2',\n",
       " 'dfa_D7_O2',\n",
       " 'hurst_exponent_A0_O2',\n",
       " 'hurst_exponent_A7_O2',\n",
       " 'hurst_exponent_D1_O2',\n",
       " 'hurst_exponent_D2_O2',\n",
       " 'hurst_exponent_D3_O2',\n",
       " 'hurst_exponent_D4_O2',\n",
       " 'hurst_exponent_D5_O2',\n",
       " 'hurst_exponent_D6_O2',\n",
       " 'hurst_exponent_D7_O2',\n",
       " 'lyap0_A0_O2',\n",
       " 'lyap0_A7_O2',\n",
       " 'lyap0_D1_O2',\n",
       " 'lyap0_D2_O2',\n",
       " 'lyap0_D3_O2',\n",
       " 'lyap0_D4_O2',\n",
       " 'lyap0_D5_O2',\n",
       " 'lyap0_D6_O2',\n",
       " 'lyap0_D7_O2',\n",
       " 'lyap1_A0_O2',\n",
       " 'lyap1_A7_O2',\n",
       " 'lyap1_D1_O2',\n",
       " 'lyap1_D2_O2',\n",
       " 'lyap1_D3_O2',\n",
       " 'lyap1_D4_O2',\n",
       " 'lyap1_D5_O2',\n",
       " 'lyap1_D6_O2',\n",
       " 'lyap1_D7_O2',\n",
       " 'lyap2_A0_O2',\n",
       " 'lyap2_A7_O2',\n",
       " 'lyap2_D1_O2',\n",
       " 'lyap2_D2_O2',\n",
       " 'lyap2_D3_O2',\n",
       " 'lyap2_D4_O2',\n",
       " 'lyap2_D5_O2',\n",
       " 'lyap2_D6_O2',\n",
       " 'lyap2_D7_O2',\n",
       " 'power_A0_O2',\n",
       " 'power_A7_O2',\n",
       " 'power_D1_O2',\n",
       " 'power_D2_O2',\n",
       " 'power_D3_O2',\n",
       " 'power_D4_O2',\n",
       " 'power_D5_O2',\n",
       " 'power_D6_O2',\n",
       " 'power_D7_O2',\n",
       " 'sample_entropy_A0_O2',\n",
       " 'sample_entropy_A7_O2',\n",
       " 'sample_entropy_D1_O2',\n",
       " 'sample_entropy_D2_O2',\n",
       " 'sample_entropy_D3_O2',\n",
       " 'sample_entropy_D4_O2',\n",
       " 'sample_entropy_D5_O2',\n",
       " 'sample_entropy_D6_O2',\n",
       " 'sample_entropy_D7_O2',\n",
       " 'dfa_A0_T8',\n",
       " 'dfa_A7_T8',\n",
       " 'dfa_D1_T8',\n",
       " 'dfa_D2_T8',\n",
       " 'dfa_D3_T8',\n",
       " 'dfa_D4_T8',\n",
       " 'dfa_D5_T8',\n",
       " 'dfa_D6_T8',\n",
       " 'dfa_D7_T8',\n",
       " 'hurst_exponent_A0_T8',\n",
       " 'hurst_exponent_A7_T8',\n",
       " 'hurst_exponent_D1_T8',\n",
       " 'hurst_exponent_D2_T8',\n",
       " 'hurst_exponent_D3_T8',\n",
       " 'hurst_exponent_D4_T8',\n",
       " 'hurst_exponent_D5_T8',\n",
       " 'hurst_exponent_D6_T8',\n",
       " 'hurst_exponent_D7_T8',\n",
       " 'lyap0_A0_T8',\n",
       " 'lyap0_A7_T8',\n",
       " 'lyap0_D1_T8',\n",
       " 'lyap0_D2_T8',\n",
       " 'lyap0_D3_T8',\n",
       " 'lyap0_D4_T8',\n",
       " 'lyap0_D5_T8',\n",
       " 'lyap0_D6_T8',\n",
       " 'lyap0_D7_T8',\n",
       " 'lyap1_A0_T8',\n",
       " 'lyap1_A7_T8',\n",
       " 'lyap1_D1_T8',\n",
       " 'lyap1_D2_T8',\n",
       " 'lyap1_D3_T8',\n",
       " 'lyap1_D4_T8',\n",
       " 'lyap1_D5_T8',\n",
       " 'lyap1_D6_T8',\n",
       " 'lyap1_D7_T8',\n",
       " 'lyap2_A0_T8',\n",
       " 'lyap2_A7_T8',\n",
       " 'lyap2_D1_T8',\n",
       " 'lyap2_D2_T8',\n",
       " 'lyap2_D3_T8',\n",
       " 'lyap2_D4_T8',\n",
       " 'lyap2_D5_T8',\n",
       " 'lyap2_D6_T8',\n",
       " 'lyap2_D7_T8',\n",
       " 'power_A0_T8',\n",
       " 'power_A7_T8',\n",
       " 'power_D1_T8',\n",
       " 'power_D2_T8',\n",
       " 'power_D3_T8',\n",
       " 'power_D4_T8',\n",
       " 'power_D5_T8',\n",
       " 'power_D6_T8',\n",
       " 'power_D7_T8',\n",
       " 'sample_entropy_A0_T8',\n",
       " 'sample_entropy_A7_T8',\n",
       " 'sample_entropy_D1_T8',\n",
       " 'sample_entropy_D2_T8',\n",
       " 'sample_entropy_D3_T8',\n",
       " 'sample_entropy_D4_T8',\n",
       " 'sample_entropy_D5_T8',\n",
       " 'sample_entropy_D6_T8',\n",
       " 'sample_entropy_D7_T8',\n",
       " 'dfa_A0_Fp2',\n",
       " 'dfa_A7_Fp2',\n",
       " 'dfa_D1_Fp2',\n",
       " 'dfa_D2_Fp2',\n",
       " 'dfa_D3_Fp2',\n",
       " 'dfa_D4_Fp2',\n",
       " 'dfa_D5_Fp2',\n",
       " 'dfa_D6_Fp2',\n",
       " 'dfa_D7_Fp2',\n",
       " 'hurst_exponent_A0_Fp2',\n",
       " 'hurst_exponent_A7_Fp2',\n",
       " 'hurst_exponent_D1_Fp2',\n",
       " 'hurst_exponent_D2_Fp2',\n",
       " 'hurst_exponent_D3_Fp2',\n",
       " 'hurst_exponent_D4_Fp2',\n",
       " 'hurst_exponent_D5_Fp2',\n",
       " 'hurst_exponent_D6_Fp2',\n",
       " 'hurst_exponent_D7_Fp2',\n",
       " 'lyap0_A0_Fp2',\n",
       " 'lyap0_A7_Fp2',\n",
       " 'lyap0_D1_Fp2',\n",
       " 'lyap0_D2_Fp2',\n",
       " 'lyap0_D3_Fp2',\n",
       " 'lyap0_D4_Fp2',\n",
       " 'lyap0_D5_Fp2',\n",
       " 'lyap0_D6_Fp2',\n",
       " 'lyap0_D7_Fp2',\n",
       " 'lyap1_A0_Fp2',\n",
       " 'lyap1_A7_Fp2',\n",
       " 'lyap1_D1_Fp2',\n",
       " 'lyap1_D2_Fp2',\n",
       " 'lyap1_D3_Fp2',\n",
       " 'lyap1_D4_Fp2',\n",
       " 'lyap1_D5_Fp2',\n",
       " 'lyap1_D6_Fp2',\n",
       " 'lyap1_D7_Fp2',\n",
       " 'lyap2_A0_Fp2',\n",
       " 'lyap2_A7_Fp2',\n",
       " 'lyap2_D1_Fp2',\n",
       " 'lyap2_D2_Fp2',\n",
       " 'lyap2_D3_Fp2',\n",
       " 'lyap2_D4_Fp2',\n",
       " 'lyap2_D5_Fp2',\n",
       " 'lyap2_D6_Fp2',\n",
       " 'lyap2_D7_Fp2',\n",
       " 'power_A0_Fp2',\n",
       " 'power_A7_Fp2',\n",
       " 'power_D1_Fp2',\n",
       " 'power_D2_Fp2',\n",
       " 'power_D3_Fp2',\n",
       " 'power_D4_Fp2',\n",
       " 'power_D5_Fp2',\n",
       " 'power_D6_Fp2',\n",
       " 'power_D7_Fp2',\n",
       " 'sample_entropy_A0_Fp2',\n",
       " 'sample_entropy_A7_Fp2',\n",
       " 'sample_entropy_D1_Fp2',\n",
       " 'sample_entropy_D2_Fp2',\n",
       " 'sample_entropy_D3_Fp2',\n",
       " 'sample_entropy_D4_Fp2',\n",
       " 'sample_entropy_D5_Fp2',\n",
       " 'sample_entropy_D6_Fp2',\n",
       " 'sample_entropy_D7_Fp2']"
      ]
     },
     "execution_count": 183,
     "metadata": {},
     "output_type": "execute_result"
    }
   ],
   "source": [
    "df.columns"
   ]
  },
  {
   "cell_type": "code",
   "execution_count": 186,
   "metadata": {
    "ExecuteTime": {
     "end_time": "2019-01-18T22:21:15.792636Z",
     "start_time": "2019-01-18T22:21:12.525291Z"
    }
   },
   "outputs": [
    {
     "name": "stdout",
     "output_type": "stream",
     "text": [
      "+-----------------+--------------+-------------------+-------------+\n",
      "|participant_group|participant_id|          startdate|file_duration|\n",
      "+-----------------+--------------+-------------------+-------------+\n",
      "|     06_month_EEG|       A10-1-1|2017-06-23 15:26:25|          598|\n",
      "|     12_month_EEG|       A14-1-1|2017-04-28 16:16:14|          598|\n",
      "|     06_month_EEG|        A4-1-1|2017-01-06 14:12:07|          598|\n",
      "|     06_month_EEG|        A8-1-3|2017-06-09 16:51:00|          599|\n",
      "|     06_month_EEG|        A8-2-3|2017-06-09 16:31:57|          599|\n",
      "|     12_month_EEG|        B1-2-3|2016-12-09 12:12:26|          598|\n",
      "|     12_month_EEG|        B1-2-3|2016-12-09 12:23:07|          179|\n",
      "|     12_month_EEG|        B1-3-3|2016-12-09 11:53:32|          599|\n",
      "|     12_month_EEG|       B12-1-1|2017-03-24 14:57:27|          598|\n",
      "|     12_month_EEG|       B13-1-1|2016-12-23 16:50:53|          599|\n",
      "|     12_month_EEG|       B17-1-1|2017-02-24 11:52:59|          598|\n",
      "|     12_month_EEG|       B20-1-1|2016-09-09 11:09:49|          599|\n",
      "|     12_month_EEG|       B21-1-1|2016-09-20 12:26:13|          123|\n",
      "|     12_month_EEG|       B21-1-1|2016-09-20 12:20:42|          310|\n",
      "|     12_month_EEG|       B21-1-1|2016-09-20 12:10:42|           28|\n",
      "|     12_month_EEG|       B22-1-1|2017-06-23 14:43:19|          599|\n",
      "|     12_month_EEG|       B23-1-1|2017-02-24 15:10:58|          598|\n",
      "|     12_month_EEG|       B24-1-2|2017-03-10 14:30:52|          598|\n",
      "|     12_month_EEG|       B24-2-2|2017-03-10 14:09:35|          598|\n",
      "|     12_month_EEG|       B25-1-1|2017-01-20 16:21:38|          599|\n",
      "+-----------------+--------------+-------------------+-------------+\n",
      "only showing top 20 rows\n",
      "\n"
     ]
    }
   ],
   "source": [
    "df.select(*['participant_group','participant_id', 'startdate','file_duration']).sort('participant_id').show()"
   ]
  },
  {
   "cell_type": "code",
   "execution_count": 193,
   "metadata": {
    "ExecuteTime": {
     "end_time": "2019-01-18T22:26:43.482038Z",
     "start_time": "2019-01-18T22:26:43.340268Z"
    }
   },
   "outputs": [],
   "source": [
    "window = Window.\\\n",
    "              partitionBy('participant_id','participant_group').\\\n",
    "              orderBy(df['startdate'].desc())\n",
    "df = df.withColumn(\"rank_start_dt\",F.dense_rank().over(window))"
   ]
  },
  {
   "cell_type": "code",
   "execution_count": 198,
   "metadata": {
    "ExecuteTime": {
     "end_time": "2019-01-18T22:28:37.714715Z",
     "start_time": "2019-01-18T22:28:37.664648Z"
    }
   },
   "outputs": [],
   "source": [
    "df = df.filter(\"rank_start_dt == 1\")"
   ]
  },
  {
   "cell_type": "code",
   "execution_count": 200,
   "metadata": {
    "ExecuteTime": {
     "end_time": "2019-01-18T22:29:23.721722Z",
     "start_time": "2019-01-18T22:29:23.277193Z"
    }
   },
   "outputs": [],
   "source": [
    "df_meta = sc.read.format(\"com.mongodb.spark.sql.DefaultSource\").option(\"uri\", \"mongodb://52.40.36.24/eeg.eeg_metadata\").load()\n",
    "df_meta = df_meta.drop(\"_id\",\"num_recording\")"
   ]
  },
  {
   "cell_type": "code",
   "execution_count": 201,
   "metadata": {
    "ExecuteTime": {
     "end_time": "2019-01-18T22:29:29.153143Z",
     "start_time": "2019-01-18T22:29:29.142757Z"
    }
   },
   "outputs": [
    {
     "data": {
      "text/plain": [
       "['Delivery_type',\n",
       " 'Gender',\n",
       " 'Gestational_Age',\n",
       " 'Maternal_age',\n",
       " 'Multiple_births',\n",
       " 'Prematurity_Level',\n",
       " 'Relative_size',\n",
       " 'Weight_gms',\n",
       " 'participant_group',\n",
       " 'participant_id']"
      ]
     },
     "execution_count": 201,
     "metadata": {},
     "output_type": "execute_result"
    }
   ],
   "source": [
    "df_meta.columns"
   ]
  },
  {
   "cell_type": "code",
   "execution_count": 208,
   "metadata": {
    "ExecuteTime": {
     "end_time": "2019-01-18T22:33:25.533976Z",
     "start_time": "2019-01-18T22:33:24.676436Z"
    }
   },
   "outputs": [],
   "source": [
    "features = df.join(df_meta, on = ['participant_group','participant_id'] , how='inner')\n",
    "features = features.drop('participant_group','participant_ID','startdate','file_duration','rank_start_dt')\n"
   ]
  },
  {
   "cell_type": "code",
   "execution_count": 210,
   "metadata": {
    "ExecuteTime": {
     "end_time": "2019-01-18T22:33:36.801683Z",
     "start_time": "2019-01-18T22:33:36.798733Z"
    }
   },
   "outputs": [],
   "source": [
    "del df\n",
    "del df_meta"
   ]
  },
  {
   "cell_type": "markdown",
   "metadata": {
    "ExecuteTime": {
     "end_time": "2019-01-18T23:40:47.144633Z",
     "start_time": "2019-01-18T23:40:47.142036Z"
    }
   },
   "source": [
    "## Feature Engineering"
   ]
  },
  {
   "cell_type": "code",
   "execution_count": 211,
   "metadata": {
    "ExecuteTime": {
     "end_time": "2019-01-18T22:33:46.057451Z",
     "start_time": "2019-01-18T22:33:46.051459Z"
    }
   },
   "outputs": [
    {
     "data": {
      "text/plain": [
       "Counter({'double': 509, 'string': 3})"
      ]
     },
     "execution_count": 211,
     "metadata": {},
     "output_type": "execute_result"
    }
   ],
   "source": [
    "from collections import Counter\n",
    "Counter([d[1] for d in features.dtypes])"
   ]
  },
  {
   "cell_type": "code",
   "execution_count": 212,
   "metadata": {
    "ExecuteTime": {
     "end_time": "2019-01-18T22:33:59.200262Z",
     "start_time": "2019-01-18T22:33:59.196003Z"
    }
   },
   "outputs": [],
   "source": [
    "feat_str = [d[0] for d in features.dtypes if d[1] == 'string']\n",
    "feat_dbl = [d[0] for d in features.dtypes if d[1] in ['double','int']]"
   ]
  },
  {
   "cell_type": "code",
   "execution_count": 233,
   "metadata": {
    "ExecuteTime": {
     "end_time": "2019-01-18T22:49:18.516615Z",
     "start_time": "2019-01-18T22:49:13.277699Z"
    }
   },
   "outputs": [],
   "source": [
    "nulls_df = features.select([((count(when(isnan(c)| col(c).isNull(), c)))*100.0/count(c)).alias(c)  for c in features.columns])"
   ]
  },
  {
   "cell_type": "code",
   "execution_count": 215,
   "metadata": {
    "ExecuteTime": {
     "end_time": "2019-01-18T22:39:56.597388Z",
     "start_time": "2019-01-18T22:38:54.743542Z"
    }
   },
   "outputs": [
    {
     "name": "stdout",
     "output_type": "stream",
     "text": [
      "+-----------------+------------------+------------------+------------------+------------------+-----------------+------------------+------------------+------------------+--------------------+--------------------+--------------------+--------------------+--------------------+--------------------+--------------------+--------------------+--------------------+-----------+-----------+-----------+-----------+-----------+-----------+-----------+-----------+-----------+-----------+-----------+-----------+-----------+-----------+-----------+-----------+-----------+-----------+-----------+-----------+-----------+-----------+-----------+-----------+-----------+-----------+-----------+-----------+-----------+-----------+-----------+-----------+-----------+-----------+-----------+-----------+--------------------+--------------------+--------------------+--------------------+--------------------+--------------------+--------------------+--------------------+--------------------+------------------+------------------+------------------+------------------+------------------+------------------+------------------+------------------+------------------+--------------------+--------------------+--------------------+--------------------+--------------------+--------------------+--------------------+--------------------+--------------------+-----------+-----------+-----------+-----------+-----------+-----------+-----------+-----------+-----------+-----------+-----------+-----------+-----------+-----------+-----------+-----------+-----------+-----------+-----------+-----------+-----------+-----------+-----------+-----------+-----------+-----------+-----------+-----------+-----------+-----------+-----------+-----------+-----------+-----------+-----------+-----------+--------------------+--------------------+--------------------+--------------------+--------------------+--------------------+--------------------+--------------------+--------------------+-----------------+------------------+------------------+------------------+------------------+-----------------+------------------+------------------+------------------+--------------------+--------------------+--------------------+--------------------+--------------------+--------------------+--------------------+--------------------+--------------------+-----------+-----------+-----------+-----------+-----------+-----------+-----------+-----------+-----------+-----------+-----------+-----------+-----------+-----------+-----------+-----------+-----------+-----------+-----------+-----------+-----------+-----------+-----------+-----------+-----------+-----------+-----------+-----------+-----------+-----------+-----------+-----------+-----------+-----------+-----------+-----------+--------------------+--------------------+--------------------+--------------------+--------------------+--------------------+--------------------+--------------------+--------------------+----------+----------+----------+----------+----------+----------+----------+----------+----------+---------------------+---------------------+---------------------+---------------------+---------------------+---------------------+---------------------+---------------------+---------------------+------------+------------+------------+------------+------------+------------+------------+------------+------------+------------+------------+------------+------------+------------+------------+------------+------------+------------+------------+------------+------------+------------+------------+------------+------------+------------+------------+------------+------------+------------+------------+------------+------------+------------+------------+------------+---------------------+---------------------+---------------------+---------------------+---------------------+---------------------+---------------------+---------------------+---------------------+---------+---------+---------+---------+---------+---------+---------+---------+---------+--------------------+--------------------+--------------------+--------------------+--------------------+--------------------+--------------------+--------------------+--------------------+-----------+-----------+-----------+-----------+-----------+-----------+-----------+-----------+-----------+-----------+-----------+-----------+-----------+-----------+-----------+-----------+-----------+-----------+-----------+-----------+-----------+-----------+-----------+-----------+-----------+-----------+-----------+-----------+-----------+-----------+-----------+-----------+-----------+-----------+-----------+-----------+--------------------+--------------------+--------------------+--------------------+--------------------+--------------------+--------------------+--------------------+--------------------+---------+---------+---------+---------+---------+---------+---------+---------+---------+--------------------+--------------------+--------------------+--------------------+--------------------+--------------------+--------------------+--------------------+--------------------+-----------+-----------+-----------+-----------+-----------+-----------+-----------+-----------+-----------+-----------+-----------+-----------+-----------+-----------+-----------+-----------+-----------+-----------+-----------+-----------+-----------+-----------+-----------+-----------+-----------+-----------+-----------+-----------+-----------+-----------+-----------+-----------+-----------+-----------+-----------+-----------+--------------------+--------------------+--------------------+--------------------+--------------------+--------------------+--------------------+--------------------+--------------------+------------------+------------------+------------------+------------------+------------------+------------------+------------------+------------------+------------------+--------------------+--------------------+--------------------+--------------------+--------------------+--------------------+--------------------+--------------------+--------------------+-----------+-----------+-----------+-----------+-----------+-----------+-----------+-----------+-----------+-----------+-----------+-----------+-----------+-----------+-----------+-----------+-----------+-----------+-----------+-----------+-----------+-----------+-----------+-----------+-----------+-----------+-----------+-----------+-----------+-----------+-----------+-----------+-----------+-----------+-----------+-----------+--------------------+--------------------+--------------------+--------------------+--------------------+--------------------+--------------------+--------------------+--------------------+----------+----------+----------+----------+----------+----------+----------+----------+----------+---------------------+---------------------+---------------------+---------------------+---------------------+---------------------+---------------------+---------------------+---------------------+------------+------------+------------+------------+------------+------------+------------+------------+------------+------------+------------+------------+------------+------------+------------+------------+------------+------------+------------+------------+------------+------------+------------+------------+------------+------------+------------+------------+------------+------------+------------+------------+------------+------------+------------+------------+---------------------+---------------------+---------------------+---------------------+---------------------+---------------------+---------------------+---------------------+---------------------+------------------+------+---------------+------------------+---------------+-----------------+-------------+----------+\n",
      "|        dfa_A0_O1|         dfa_A7_O1|         dfa_D1_O1|         dfa_D2_O1|         dfa_D3_O1|        dfa_D4_O1|         dfa_D5_O1|         dfa_D6_O1|         dfa_D7_O1|hurst_exponent_A0_O1|hurst_exponent_A7_O1|hurst_exponent_D1_O1|hurst_exponent_D2_O1|hurst_exponent_D3_O1|hurst_exponent_D4_O1|hurst_exponent_D5_O1|hurst_exponent_D6_O1|hurst_exponent_D7_O1|lyap0_A0_O1|lyap0_A7_O1|lyap0_D1_O1|lyap0_D2_O1|lyap0_D3_O1|lyap0_D4_O1|lyap0_D5_O1|lyap0_D6_O1|lyap0_D7_O1|lyap1_A0_O1|lyap1_A7_O1|lyap1_D1_O1|lyap1_D2_O1|lyap1_D3_O1|lyap1_D4_O1|lyap1_D5_O1|lyap1_D6_O1|lyap1_D7_O1|lyap2_A0_O1|lyap2_A7_O1|lyap2_D1_O1|lyap2_D2_O1|lyap2_D3_O1|lyap2_D4_O1|lyap2_D5_O1|lyap2_D6_O1|lyap2_D7_O1|power_A0_O1|power_A7_O1|power_D1_O1|power_D2_O1|power_D3_O1|power_D4_O1|power_D5_O1|power_D6_O1|power_D7_O1|sample_entropy_A0_O1|sample_entropy_A7_O1|sample_entropy_D1_O1|sample_entropy_D2_O1|sample_entropy_D3_O1|sample_entropy_D4_O1|sample_entropy_D5_O1|sample_entropy_D6_O1|sample_entropy_D7_O1|         dfa_A0_C3|         dfa_A7_C3|         dfa_D1_C3|         dfa_D2_C3|         dfa_D3_C3|         dfa_D4_C3|         dfa_D5_C3|         dfa_D6_C3|         dfa_D7_C3|hurst_exponent_A0_C3|hurst_exponent_A7_C3|hurst_exponent_D1_C3|hurst_exponent_D2_C3|hurst_exponent_D3_C3|hurst_exponent_D4_C3|hurst_exponent_D5_C3|hurst_exponent_D6_C3|hurst_exponent_D7_C3|lyap0_A0_C3|lyap0_A7_C3|lyap0_D1_C3|lyap0_D2_C3|lyap0_D3_C3|lyap0_D4_C3|lyap0_D5_C3|lyap0_D6_C3|lyap0_D7_C3|lyap1_A0_C3|lyap1_A7_C3|lyap1_D1_C3|lyap1_D2_C3|lyap1_D3_C3|lyap1_D4_C3|lyap1_D5_C3|lyap1_D6_C3|lyap1_D7_C3|lyap2_A0_C3|lyap2_A7_C3|lyap2_D1_C3|lyap2_D2_C3|lyap2_D3_C3|lyap2_D4_C3|lyap2_D5_C3|lyap2_D6_C3|lyap2_D7_C3|power_A0_C3|power_A7_C3|power_D1_C3|power_D2_C3|power_D3_C3|power_D4_C3|power_D5_C3|power_D6_C3|power_D7_C3|sample_entropy_A0_C3|sample_entropy_A7_C3|sample_entropy_D1_C3|sample_entropy_D2_C3|sample_entropy_D3_C3|sample_entropy_D4_C3|sample_entropy_D5_C3|sample_entropy_D6_C3|sample_entropy_D7_C3|        dfa_A0_C4|         dfa_A7_C4|         dfa_D1_C4|         dfa_D2_C4|         dfa_D3_C4|        dfa_D4_C4|         dfa_D5_C4|         dfa_D6_C4|         dfa_D7_C4|hurst_exponent_A0_C4|hurst_exponent_A7_C4|hurst_exponent_D1_C4|hurst_exponent_D2_C4|hurst_exponent_D3_C4|hurst_exponent_D4_C4|hurst_exponent_D5_C4|hurst_exponent_D6_C4|hurst_exponent_D7_C4|lyap0_A0_C4|lyap0_A7_C4|lyap0_D1_C4|lyap0_D2_C4|lyap0_D3_C4|lyap0_D4_C4|lyap0_D5_C4|lyap0_D6_C4|lyap0_D7_C4|lyap1_A0_C4|lyap1_A7_C4|lyap1_D1_C4|lyap1_D2_C4|lyap1_D3_C4|lyap1_D4_C4|lyap1_D5_C4|lyap1_D6_C4|lyap1_D7_C4|lyap2_A0_C4|lyap2_A7_C4|lyap2_D1_C4|lyap2_D2_C4|lyap2_D3_C4|lyap2_D4_C4|lyap2_D5_C4|lyap2_D6_C4|lyap2_D7_C4|power_A0_C4|power_A7_C4|power_D1_C4|power_D2_C4|power_D3_C4|power_D4_C4|power_D5_C4|power_D6_C4|power_D7_C4|sample_entropy_A0_C4|sample_entropy_A7_C4|sample_entropy_D1_C4|sample_entropy_D2_C4|sample_entropy_D3_C4|sample_entropy_D4_C4|sample_entropy_D5_C4|sample_entropy_D6_C4|sample_entropy_D7_C4|dfa_A0_Fp1|dfa_A7_Fp1|dfa_D1_Fp1|dfa_D2_Fp1|dfa_D3_Fp1|dfa_D4_Fp1|dfa_D5_Fp1|dfa_D6_Fp1|dfa_D7_Fp1|hurst_exponent_A0_Fp1|hurst_exponent_A7_Fp1|hurst_exponent_D1_Fp1|hurst_exponent_D2_Fp1|hurst_exponent_D3_Fp1|hurst_exponent_D4_Fp1|hurst_exponent_D5_Fp1|hurst_exponent_D6_Fp1|hurst_exponent_D7_Fp1|lyap0_A0_Fp1|lyap0_A7_Fp1|lyap0_D1_Fp1|lyap0_D2_Fp1|lyap0_D3_Fp1|lyap0_D4_Fp1|lyap0_D5_Fp1|lyap0_D6_Fp1|lyap0_D7_Fp1|lyap1_A0_Fp1|lyap1_A7_Fp1|lyap1_D1_Fp1|lyap1_D2_Fp1|lyap1_D3_Fp1|lyap1_D4_Fp1|lyap1_D5_Fp1|lyap1_D6_Fp1|lyap1_D7_Fp1|lyap2_A0_Fp1|lyap2_A7_Fp1|lyap2_D1_Fp1|lyap2_D2_Fp1|lyap2_D3_Fp1|lyap2_D4_Fp1|lyap2_D5_Fp1|lyap2_D6_Fp1|lyap2_D7_Fp1|power_A0_Fp1|power_A7_Fp1|power_D1_Fp1|power_D2_Fp1|power_D3_Fp1|power_D4_Fp1|power_D5_Fp1|power_D6_Fp1|power_D7_Fp1|sample_entropy_A0_Fp1|sample_entropy_A7_Fp1|sample_entropy_D1_Fp1|sample_entropy_D2_Fp1|sample_entropy_D3_Fp1|sample_entropy_D4_Fp1|sample_entropy_D5_Fp1|sample_entropy_D6_Fp1|sample_entropy_D7_Fp1|dfa_A0_T7|dfa_A7_T7|dfa_D1_T7|dfa_D2_T7|dfa_D3_T7|dfa_D4_T7|dfa_D5_T7|dfa_D6_T7|dfa_D7_T7|hurst_exponent_A0_T7|hurst_exponent_A7_T7|hurst_exponent_D1_T7|hurst_exponent_D2_T7|hurst_exponent_D3_T7|hurst_exponent_D4_T7|hurst_exponent_D5_T7|hurst_exponent_D6_T7|hurst_exponent_D7_T7|lyap0_A0_T7|lyap0_A7_T7|lyap0_D1_T7|lyap0_D2_T7|lyap0_D3_T7|lyap0_D4_T7|lyap0_D5_T7|lyap0_D6_T7|lyap0_D7_T7|lyap1_A0_T7|lyap1_A7_T7|lyap1_D1_T7|lyap1_D2_T7|lyap1_D3_T7|lyap1_D4_T7|lyap1_D5_T7|lyap1_D6_T7|lyap1_D7_T7|lyap2_A0_T7|lyap2_A7_T7|lyap2_D1_T7|lyap2_D2_T7|lyap2_D3_T7|lyap2_D4_T7|lyap2_D5_T7|lyap2_D6_T7|lyap2_D7_T7|power_A0_T7|power_A7_T7|power_D1_T7|power_D2_T7|power_D3_T7|power_D4_T7|power_D5_T7|power_D6_T7|power_D7_T7|sample_entropy_A0_T7|sample_entropy_A7_T7|sample_entropy_D1_T7|sample_entropy_D2_T7|sample_entropy_D3_T7|sample_entropy_D4_T7|sample_entropy_D5_T7|sample_entropy_D6_T7|sample_entropy_D7_T7|dfa_A0_O2|dfa_A7_O2|dfa_D1_O2|dfa_D2_O2|dfa_D3_O2|dfa_D4_O2|dfa_D5_O2|dfa_D6_O2|dfa_D7_O2|hurst_exponent_A0_O2|hurst_exponent_A7_O2|hurst_exponent_D1_O2|hurst_exponent_D2_O2|hurst_exponent_D3_O2|hurst_exponent_D4_O2|hurst_exponent_D5_O2|hurst_exponent_D6_O2|hurst_exponent_D7_O2|lyap0_A0_O2|lyap0_A7_O2|lyap0_D1_O2|lyap0_D2_O2|lyap0_D3_O2|lyap0_D4_O2|lyap0_D5_O2|lyap0_D6_O2|lyap0_D7_O2|lyap1_A0_O2|lyap1_A7_O2|lyap1_D1_O2|lyap1_D2_O2|lyap1_D3_O2|lyap1_D4_O2|lyap1_D5_O2|lyap1_D6_O2|lyap1_D7_O2|lyap2_A0_O2|lyap2_A7_O2|lyap2_D1_O2|lyap2_D2_O2|lyap2_D3_O2|lyap2_D4_O2|lyap2_D5_O2|lyap2_D6_O2|lyap2_D7_O2|power_A0_O2|power_A7_O2|power_D1_O2|power_D2_O2|power_D3_O2|power_D4_O2|power_D5_O2|power_D6_O2|power_D7_O2|sample_entropy_A0_O2|sample_entropy_A7_O2|sample_entropy_D1_O2|sample_entropy_D2_O2|sample_entropy_D3_O2|sample_entropy_D4_O2|sample_entropy_D5_O2|sample_entropy_D6_O2|sample_entropy_D7_O2|         dfa_A0_T8|         dfa_A7_T8|         dfa_D1_T8|         dfa_D2_T8|         dfa_D3_T8|         dfa_D4_T8|         dfa_D5_T8|         dfa_D6_T8|         dfa_D7_T8|hurst_exponent_A0_T8|hurst_exponent_A7_T8|hurst_exponent_D1_T8|hurst_exponent_D2_T8|hurst_exponent_D3_T8|hurst_exponent_D4_T8|hurst_exponent_D5_T8|hurst_exponent_D6_T8|hurst_exponent_D7_T8|lyap0_A0_T8|lyap0_A7_T8|lyap0_D1_T8|lyap0_D2_T8|lyap0_D3_T8|lyap0_D4_T8|lyap0_D5_T8|lyap0_D6_T8|lyap0_D7_T8|lyap1_A0_T8|lyap1_A7_T8|lyap1_D1_T8|lyap1_D2_T8|lyap1_D3_T8|lyap1_D4_T8|lyap1_D5_T8|lyap1_D6_T8|lyap1_D7_T8|lyap2_A0_T8|lyap2_A7_T8|lyap2_D1_T8|lyap2_D2_T8|lyap2_D3_T8|lyap2_D4_T8|lyap2_D5_T8|lyap2_D6_T8|lyap2_D7_T8|power_A0_T8|power_A7_T8|power_D1_T8|power_D2_T8|power_D3_T8|power_D4_T8|power_D5_T8|power_D6_T8|power_D7_T8|sample_entropy_A0_T8|sample_entropy_A7_T8|sample_entropy_D1_T8|sample_entropy_D2_T8|sample_entropy_D3_T8|sample_entropy_D4_T8|sample_entropy_D5_T8|sample_entropy_D6_T8|sample_entropy_D7_T8|dfa_A0_Fp2|dfa_A7_Fp2|dfa_D1_Fp2|dfa_D2_Fp2|dfa_D3_Fp2|dfa_D4_Fp2|dfa_D5_Fp2|dfa_D6_Fp2|dfa_D7_Fp2|hurst_exponent_A0_Fp2|hurst_exponent_A7_Fp2|hurst_exponent_D1_Fp2|hurst_exponent_D2_Fp2|hurst_exponent_D3_Fp2|hurst_exponent_D4_Fp2|hurst_exponent_D5_Fp2|hurst_exponent_D6_Fp2|hurst_exponent_D7_Fp2|lyap0_A0_Fp2|lyap0_A7_Fp2|lyap0_D1_Fp2|lyap0_D2_Fp2|lyap0_D3_Fp2|lyap0_D4_Fp2|lyap0_D5_Fp2|lyap0_D6_Fp2|lyap0_D7_Fp2|lyap1_A0_Fp2|lyap1_A7_Fp2|lyap1_D1_Fp2|lyap1_D2_Fp2|lyap1_D3_Fp2|lyap1_D4_Fp2|lyap1_D5_Fp2|lyap1_D6_Fp2|lyap1_D7_Fp2|lyap2_A0_Fp2|lyap2_A7_Fp2|lyap2_D1_Fp2|lyap2_D2_Fp2|lyap2_D3_Fp2|lyap2_D4_Fp2|lyap2_D5_Fp2|lyap2_D6_Fp2|lyap2_D7_Fp2|power_A0_Fp2|power_A7_Fp2|power_D1_Fp2|power_D2_Fp2|power_D3_Fp2|power_D4_Fp2|power_D5_Fp2|power_D6_Fp2|power_D7_Fp2|sample_entropy_A0_Fp2|sample_entropy_A7_Fp2|sample_entropy_D1_Fp2|sample_entropy_D2_Fp2|sample_entropy_D3_Fp2|sample_entropy_D4_Fp2|sample_entropy_D5_Fp2|sample_entropy_D6_Fp2|sample_entropy_D7_Fp2|     Delivery_type|Gender|Gestational_Age|      Maternal_age|Multiple_births|Prematurity_Level|Relative_size|Weight_gms|\n",
      "+-----------------+------------------+------------------+------------------+------------------+-----------------+------------------+------------------+------------------+--------------------+--------------------+--------------------+--------------------+--------------------+--------------------+--------------------+--------------------+--------------------+-----------+-----------+-----------+-----------+-----------+-----------+-----------+-----------+-----------+-----------+-----------+-----------+-----------+-----------+-----------+-----------+-----------+-----------+-----------+-----------+-----------+-----------+-----------+-----------+-----------+-----------+-----------+-----------+-----------+-----------+-----------+-----------+-----------+-----------+-----------+-----------+--------------------+--------------------+--------------------+--------------------+--------------------+--------------------+--------------------+--------------------+--------------------+------------------+------------------+------------------+------------------+------------------+------------------+------------------+------------------+------------------+--------------------+--------------------+--------------------+--------------------+--------------------+--------------------+--------------------+--------------------+--------------------+-----------+-----------+-----------+-----------+-----------+-----------+-----------+-----------+-----------+-----------+-----------+-----------+-----------+-----------+-----------+-----------+-----------+-----------+-----------+-----------+-----------+-----------+-----------+-----------+-----------+-----------+-----------+-----------+-----------+-----------+-----------+-----------+-----------+-----------+-----------+-----------+--------------------+--------------------+--------------------+--------------------+--------------------+--------------------+--------------------+--------------------+--------------------+-----------------+------------------+------------------+------------------+------------------+-----------------+------------------+------------------+------------------+--------------------+--------------------+--------------------+--------------------+--------------------+--------------------+--------------------+--------------------+--------------------+-----------+-----------+-----------+-----------+-----------+-----------+-----------+-----------+-----------+-----------+-----------+-----------+-----------+-----------+-----------+-----------+-----------+-----------+-----------+-----------+-----------+-----------+-----------+-----------+-----------+-----------+-----------+-----------+-----------+-----------+-----------+-----------+-----------+-----------+-----------+-----------+--------------------+--------------------+--------------------+--------------------+--------------------+--------------------+--------------------+--------------------+--------------------+----------+----------+----------+----------+----------+----------+----------+----------+----------+---------------------+---------------------+---------------------+---------------------+---------------------+---------------------+---------------------+---------------------+---------------------+------------+------------+------------+------------+------------+------------+------------+------------+------------+------------+------------+------------+------------+------------+------------+------------+------------+------------+------------+------------+------------+------------+------------+------------+------------+------------+------------+------------+------------+------------+------------+------------+------------+------------+------------+------------+---------------------+---------------------+---------------------+---------------------+---------------------+---------------------+---------------------+---------------------+---------------------+---------+---------+---------+---------+---------+---------+---------+---------+---------+--------------------+--------------------+--------------------+--------------------+--------------------+--------------------+--------------------+--------------------+--------------------+-----------+-----------+-----------+-----------+-----------+-----------+-----------+-----------+-----------+-----------+-----------+-----------+-----------+-----------+-----------+-----------+-----------+-----------+-----------+-----------+-----------+-----------+-----------+-----------+-----------+-----------+-----------+-----------+-----------+-----------+-----------+-----------+-----------+-----------+-----------+-----------+--------------------+--------------------+--------------------+--------------------+--------------------+--------------------+--------------------+--------------------+--------------------+---------+---------+---------+---------+---------+---------+---------+---------+---------+--------------------+--------------------+--------------------+--------------------+--------------------+--------------------+--------------------+--------------------+--------------------+-----------+-----------+-----------+-----------+-----------+-----------+-----------+-----------+-----------+-----------+-----------+-----------+-----------+-----------+-----------+-----------+-----------+-----------+-----------+-----------+-----------+-----------+-----------+-----------+-----------+-----------+-----------+-----------+-----------+-----------+-----------+-----------+-----------+-----------+-----------+-----------+--------------------+--------------------+--------------------+--------------------+--------------------+--------------------+--------------------+--------------------+--------------------+------------------+------------------+------------------+------------------+------------------+------------------+------------------+------------------+------------------+--------------------+--------------------+--------------------+--------------------+--------------------+--------------------+--------------------+--------------------+--------------------+-----------+-----------+-----------+-----------+-----------+-----------+-----------+-----------+-----------+-----------+-----------+-----------+-----------+-----------+-----------+-----------+-----------+-----------+-----------+-----------+-----------+-----------+-----------+-----------+-----------+-----------+-----------+-----------+-----------+-----------+-----------+-----------+-----------+-----------+-----------+-----------+--------------------+--------------------+--------------------+--------------------+--------------------+--------------------+--------------------+--------------------+--------------------+----------+----------+----------+----------+----------+----------+----------+----------+----------+---------------------+---------------------+---------------------+---------------------+---------------------+---------------------+---------------------+---------------------+---------------------+------------+------------+------------+------------+------------+------------+------------+------------+------------+------------+------------+------------+------------+------------+------------+------------+------------+------------+------------+------------+------------+------------+------------+------------+------------+------------+------------+------------+------------+------------+------------+------------+------------+------------+------------+------------+---------------------+---------------------+---------------------+---------------------+---------------------+---------------------+---------------------+---------------------+---------------------+------------------+------+---------------+------------------+---------------+-----------------+-------------+----------+\n",
      "|6.896551724137931|3.4482758620689653|3.4482758620689653|3.4482758620689653|3.4482758620689653|6.896551724137931|3.4482758620689653|3.4482758620689653|3.4482758620689653|   6.896551724137931|  3.4482758620689653|  3.4482758620689653|  3.4482758620689653|  3.4482758620689653|   6.896551724137931|  3.4482758620689653|  3.4482758620689653|  3.4482758620689653|        0.0|        0.0|        0.0|        0.0|        0.0|        0.0|        0.0|        0.0|        0.0|        0.0|        0.0|        0.0|        0.0|        0.0|        0.0|        0.0|        0.0|        0.0|        0.0|        0.0|        0.0|        0.0|        0.0|        0.0|        0.0|        0.0|        0.0|        0.0|        0.0|        0.0|        0.0|        0.0|        0.0|        0.0|        0.0|        0.0|                 0.0|                 0.0|                 0.0|                 0.0|                 0.0|                 0.0|                 0.0|                 0.0|                 0.0|3.4482758620689653|3.4482758620689653|3.4482758620689653|3.4482758620689653|3.4482758620689653|3.4482758620689653|3.4482758620689653|3.4482758620689653|3.4482758620689653|  3.4482758620689653|  3.4482758620689653|  3.4482758620689653|  3.4482758620689653|  3.4482758620689653|  3.4482758620689653|  3.4482758620689653|  3.4482758620689653|  3.4482758620689653|        0.0|        0.0|        0.0|        0.0|        0.0|        0.0|        0.0|        0.0|        0.0|        0.0|        0.0|        0.0|        0.0|        0.0|        0.0|        0.0|        0.0|        0.0|        0.0|        0.0|        0.0|        0.0|        0.0|        0.0|        0.0|        0.0|        0.0|        0.0|        0.0|        0.0|        0.0|        0.0|        0.0|        0.0|        0.0|        0.0|                 0.0|                 0.0|                 0.0|                 0.0|                 0.0|                 0.0|                 0.0|                 0.0|                 0.0|6.896551724137931|3.4482758620689653|3.4482758620689653|3.4482758620689653|3.4482758620689653|6.896551724137931|3.4482758620689653|3.4482758620689653|3.4482758620689653|   6.896551724137931|  3.4482758620689653|  3.4482758620689653|  3.4482758620689653|  3.4482758620689653|   6.896551724137931|  3.4482758620689653|  3.4482758620689653|  3.4482758620689653|        0.0|        0.0|        0.0|        0.0|        0.0|        0.0|        0.0|        0.0|        0.0|        0.0|        0.0|        0.0|        0.0|        0.0|        0.0|        0.0|        0.0|        0.0|        0.0|        0.0|        0.0|        0.0|        0.0|        0.0|        0.0|        0.0|        0.0|        0.0|        0.0|        0.0|        0.0|        0.0|        0.0|        0.0|        0.0|        0.0|                 0.0|                 0.0|                 0.0|                 0.0|                 0.0|                 0.0|                 0.0|                 0.0|                 0.0|       0.0|       0.0|       0.0|       0.0|       0.0|       0.0|       0.0|       0.0|       0.0|                  0.0|                  0.0|                  0.0|                  0.0|                  0.0|                  0.0|                  0.0|                  0.0|                  0.0|         0.0|         0.0|         0.0|         0.0|         0.0|         0.0|         0.0|         0.0|         0.0|         0.0|         0.0|         0.0|         0.0|         0.0|         0.0|         0.0|         0.0|         0.0|         0.0|         0.0|         0.0|         0.0|         0.0|         0.0|         0.0|         0.0|         0.0|         0.0|         0.0|         0.0|         0.0|         0.0|         0.0|         0.0|         0.0|         0.0|                  0.0|                  0.0|                  0.0|                  0.0|                  0.0|                  0.0|                  0.0|                  0.0|                  0.0|      0.0|      0.0|      0.0|      0.0|      0.0|      0.0|      0.0|      0.0|      0.0|                 0.0|                 0.0|                 0.0|                 0.0|                 0.0|                 0.0|                 0.0|                 0.0|                 0.0|        0.0|        0.0|        0.0|        0.0|        0.0|        0.0|        0.0|        0.0|        0.0|        0.0|        0.0|        0.0|        0.0|        0.0|        0.0|        0.0|        0.0|        0.0|        0.0|        0.0|        0.0|        0.0|        0.0|        0.0|        0.0|        0.0|        0.0|        0.0|        0.0|        0.0|        0.0|        0.0|        0.0|        0.0|        0.0|        0.0|                 0.0|                 0.0|                 0.0|                 0.0|                 0.0|                 0.0|                 0.0|                 0.0|                 0.0|      0.0|      0.0|      0.0|      0.0|      0.0|      0.0|      0.0|      0.0|      0.0|                 0.0|                 0.0|                 0.0|                 0.0|                 0.0|                 0.0|                 0.0|                 0.0|                 0.0|        0.0|        0.0|        0.0|        0.0|        0.0|        0.0|        0.0|        0.0|        0.0|        0.0|        0.0|        0.0|        0.0|        0.0|        0.0|        0.0|        0.0|        0.0|        0.0|        0.0|        0.0|        0.0|        0.0|        0.0|        0.0|        0.0|        0.0|        0.0|        0.0|        0.0|        0.0|        0.0|        0.0|        0.0|        0.0|        0.0|                 0.0|                 0.0|                 0.0|                 0.0|                 0.0|                 0.0|                 0.0|                 0.0|                 0.0|3.4482758620689653|3.4482758620689653|3.4482758620689653|3.4482758620689653|3.4482758620689653|3.4482758620689653|3.4482758620689653|3.4482758620689653|3.4482758620689653|  3.4482758620689653|  3.4482758620689653|  3.4482758620689653|  3.4482758620689653|  3.4482758620689653|  3.4482758620689653|  3.4482758620689653|  3.4482758620689653|  3.4482758620689653|        0.0|        0.0|        0.0|        0.0|        0.0|        0.0|        0.0|        0.0|        0.0|        0.0|        0.0|        0.0|        0.0|        0.0|        0.0|        0.0|        0.0|        0.0|        0.0|        0.0|        0.0|        0.0|        0.0|        0.0|        0.0|        0.0|        0.0|        0.0|        0.0|        0.0|        0.0|        0.0|        0.0|        0.0|        0.0|        0.0|                 0.0|                 0.0|                 0.0|                 0.0|                 0.0|                 0.0|                 0.0|                 0.0|                 0.0|       0.0|       0.0|       0.0|       0.0|       0.0|       0.0|       0.0|       0.0|       0.0|                  0.0|                  0.0|                  0.0|                  0.0|                  0.0|                  0.0|                  0.0|                  0.0|                  0.0|         0.0|         0.0|         0.0|         0.0|         0.0|         0.0|         0.0|         0.0|         0.0|         0.0|         0.0|         0.0|         0.0|         0.0|         0.0|         0.0|         0.0|         0.0|         0.0|         0.0|         0.0|         0.0|         0.0|         0.0|         0.0|         0.0|         0.0|         0.0|         0.0|         0.0|         0.0|         0.0|         0.0|         0.0|         0.0|         0.0|                  0.0|                  0.0|                  0.0|                  0.0|                  0.0|                  0.0|                  0.0|                  0.0|                  0.0|3.5714285714285716|   0.0|            0.0|3.5714285714285716|            0.0|              0.0|          0.0|       0.0|\n",
      "+-----------------+------------------+------------------+------------------+------------------+-----------------+------------------+------------------+------------------+--------------------+--------------------+--------------------+--------------------+--------------------+--------------------+--------------------+--------------------+--------------------+-----------+-----------+-----------+-----------+-----------+-----------+-----------+-----------+-----------+-----------+-----------+-----------+-----------+-----------+-----------+-----------+-----------+-----------+-----------+-----------+-----------+-----------+-----------+-----------+-----------+-----------+-----------+-----------+-----------+-----------+-----------+-----------+-----------+-----------+-----------+-----------+--------------------+--------------------+--------------------+--------------------+--------------------+--------------------+--------------------+--------------------+--------------------+------------------+------------------+------------------+------------------+------------------+------------------+------------------+------------------+------------------+--------------------+--------------------+--------------------+--------------------+--------------------+--------------------+--------------------+--------------------+--------------------+-----------+-----------+-----------+-----------+-----------+-----------+-----------+-----------+-----------+-----------+-----------+-----------+-----------+-----------+-----------+-----------+-----------+-----------+-----------+-----------+-----------+-----------+-----------+-----------+-----------+-----------+-----------+-----------+-----------+-----------+-----------+-----------+-----------+-----------+-----------+-----------+--------------------+--------------------+--------------------+--------------------+--------------------+--------------------+--------------------+--------------------+--------------------+-----------------+------------------+------------------+------------------+------------------+-----------------+------------------+------------------+------------------+--------------------+--------------------+--------------------+--------------------+--------------------+--------------------+--------------------+--------------------+--------------------+-----------+-----------+-----------+-----------+-----------+-----------+-----------+-----------+-----------+-----------+-----------+-----------+-----------+-----------+-----------+-----------+-----------+-----------+-----------+-----------+-----------+-----------+-----------+-----------+-----------+-----------+-----------+-----------+-----------+-----------+-----------+-----------+-----------+-----------+-----------+-----------+--------------------+--------------------+--------------------+--------------------+--------------------+--------------------+--------------------+--------------------+--------------------+----------+----------+----------+----------+----------+----------+----------+----------+----------+---------------------+---------------------+---------------------+---------------------+---------------------+---------------------+---------------------+---------------------+---------------------+------------+------------+------------+------------+------------+------------+------------+------------+------------+------------+------------+------------+------------+------------+------------+------------+------------+------------+------------+------------+------------+------------+------------+------------+------------+------------+------------+------------+------------+------------+------------+------------+------------+------------+------------+------------+---------------------+---------------------+---------------------+---------------------+---------------------+---------------------+---------------------+---------------------+---------------------+---------+---------+---------+---------+---------+---------+---------+---------+---------+--------------------+--------------------+--------------------+--------------------+--------------------+--------------------+--------------------+--------------------+--------------------+-----------+-----------+-----------+-----------+-----------+-----------+-----------+-----------+-----------+-----------+-----------+-----------+-----------+-----------+-----------+-----------+-----------+-----------+-----------+-----------+-----------+-----------+-----------+-----------+-----------+-----------+-----------+-----------+-----------+-----------+-----------+-----------+-----------+-----------+-----------+-----------+--------------------+--------------------+--------------------+--------------------+--------------------+--------------------+--------------------+--------------------+--------------------+---------+---------+---------+---------+---------+---------+---------+---------+---------+--------------------+--------------------+--------------------+--------------------+--------------------+--------------------+--------------------+--------------------+--------------------+-----------+-----------+-----------+-----------+-----------+-----------+-----------+-----------+-----------+-----------+-----------+-----------+-----------+-----------+-----------+-----------+-----------+-----------+-----------+-----------+-----------+-----------+-----------+-----------+-----------+-----------+-----------+-----------+-----------+-----------+-----------+-----------+-----------+-----------+-----------+-----------+--------------------+--------------------+--------------------+--------------------+--------------------+--------------------+--------------------+--------------------+--------------------+------------------+------------------+------------------+------------------+------------------+------------------+------------------+------------------+------------------+--------------------+--------------------+--------------------+--------------------+--------------------+--------------------+--------------------+--------------------+--------------------+-----------+-----------+-----------+-----------+-----------+-----------+-----------+-----------+-----------+-----------+-----------+-----------+-----------+-----------+-----------+-----------+-----------+-----------+-----------+-----------+-----------+-----------+-----------+-----------+-----------+-----------+-----------+-----------+-----------+-----------+-----------+-----------+-----------+-----------+-----------+-----------+--------------------+--------------------+--------------------+--------------------+--------------------+--------------------+--------------------+--------------------+--------------------+----------+----------+----------+----------+----------+----------+----------+----------+----------+---------------------+---------------------+---------------------+---------------------+---------------------+---------------------+---------------------+---------------------+---------------------+------------+------------+------------+------------+------------+------------+------------+------------+------------+------------+------------+------------+------------+------------+------------+------------+------------+------------+------------+------------+------------+------------+------------+------------+------------+------------+------------+------------+------------+------------+------------+------------+------------+------------+------------+------------+---------------------+---------------------+---------------------+---------------------+---------------------+---------------------+---------------------+---------------------+---------------------+------------------+------+---------------+------------------+---------------+-----------------+-------------+----------+\n",
      "\n"
     ]
    }
   ],
   "source": [
    "nulls_df.show()"
   ]
  },
  {
   "cell_type": "code",
   "execution_count": 217,
   "metadata": {
    "ExecuteTime": {
     "end_time": "2019-01-18T22:40:13.441163Z",
     "start_time": "2019-01-18T22:40:13.438020Z"
    }
   },
   "outputs": [],
   "source": [
    "null_threshold = 5.0\n",
    "def multicontd(x):\n",
    "    if x < null_threshold and x != 0:\n",
    "        return True"
   ]
  },
  {
   "cell_type": "code",
   "execution_count": 241,
   "metadata": {
    "ExecuteTime": {
     "end_time": "2019-01-18T22:52:54.281029Z",
     "start_time": "2019-01-18T22:51:51.164599Z"
    }
   },
   "outputs": [],
   "source": [
    "null_cols = nulls_df.columns\n",
    "null_counts = list(nulls_df.rdd.map(tuple).collect()[0])\n",
    "null_cols_imp = [null_cols[i] for i,n in enumerate(null_counts) if multicontd(n)]"
   ]
  },
  {
   "cell_type": "code",
   "execution_count": 242,
   "metadata": {
    "ExecuteTime": {
     "end_time": "2019-01-18T22:52:54.302377Z",
     "start_time": "2019-01-18T22:52:54.282976Z"
    }
   },
   "outputs": [],
   "source": [
    "null_cols_drop = [null_cols[i] for i,n in enumerate(null_counts) if n >= null_threshold]\n",
    "features = features.drop(*null_cols_drop)"
   ]
  },
  {
   "cell_type": "code",
   "execution_count": 220,
   "metadata": {
    "ExecuteTime": {
     "end_time": "2019-01-18T22:41:59.980861Z",
     "start_time": "2019-01-18T22:41:59.978204Z"
    }
   },
   "outputs": [],
   "source": [
    "del nulls_df"
   ]
  },
  {
   "cell_type": "code",
   "execution_count": 243,
   "metadata": {
    "ExecuteTime": {
     "end_time": "2019-01-18T22:52:58.293122Z",
     "start_time": "2019-01-18T22:52:58.290347Z"
    }
   },
   "outputs": [],
   "source": [
    "null_cols_imp_db = [f for f in null_cols_imp if f in feat_dbl]\n",
    "null_cols_impNew = [col+'_imp' for col in null_cols_imp_db]"
   ]
  },
  {
   "cell_type": "code",
   "execution_count": 244,
   "metadata": {
    "ExecuteTime": {
     "end_time": "2019-01-18T22:53:07.014697Z",
     "start_time": "2019-01-18T22:53:03.129313Z"
    }
   },
   "outputs": [],
   "source": [
    "imputer = Imputer(inputCols= null_cols_imp_db , outputCols=null_cols_impNew,strategy='median')\n",
    "features = imputer.fit(features).transform(features).drop(*null_cols_imp_db)"
   ]
  },
  {
   "cell_type": "code",
   "execution_count": 245,
   "metadata": {
    "ExecuteTime": {
     "end_time": "2019-01-18T22:53:17.825229Z",
     "start_time": "2019-01-18T22:53:17.819491Z"
    }
   },
   "outputs": [],
   "source": [
    "null_cols_imp = [f for f in null_cols_imp if f in feat_str]\n",
    "null_cols_impNew = [col+'_imp' for col in null_cols_imp]"
   ]
  },
  {
   "cell_type": "code",
   "execution_count": 284,
   "metadata": {
    "ExecuteTime": {
     "end_time": "2019-01-18T23:18:36.864115Z",
     "start_time": "2019-01-18T23:18:36.839732Z"
    }
   },
   "outputs": [],
   "source": [
    "features = features.drop('Delivery_type')"
   ]
  },
  {
   "cell_type": "code",
   "execution_count": 289,
   "metadata": {
    "ExecuteTime": {
     "end_time": "2019-01-18T23:20:38.237540Z",
     "start_time": "2019-01-18T23:20:38.233427Z"
    }
   },
   "outputs": [
    {
     "data": {
      "text/plain": [
       "['Gender', 'Relative_size']"
      ]
     },
     "execution_count": 289,
     "metadata": {},
     "output_type": "execute_result"
    }
   ],
   "source": [
    "feat_str.remove('Delivery_type')\n",
    "feat_str"
   ]
  },
  {
   "cell_type": "code",
   "execution_count": 290,
   "metadata": {
    "ExecuteTime": {
     "end_time": "2019-01-18T23:20:48.525215Z",
     "start_time": "2019-01-18T23:20:40.147815Z"
    }
   },
   "outputs": [],
   "source": [
    "def indexStringColumns(df, cols):\n",
    "    #variable newdf will be updated several times\n",
    "    newdf = df\n",
    "    \n",
    "    for c in cols:\n",
    "        si = StringIndexer(inputCol=c, outputCol=c+\"-num\")\n",
    "        sm = si.fit(newdf)\n",
    "        newdf = sm.transform(newdf).drop(c)\n",
    "        newdf = newdf.withColumnRenamed(c+\"-num\", c)\n",
    "    return newdf\n",
    "\n",
    "dfnumeric = indexStringColumns(features, feat_str)"
   ]
  },
  {
   "cell_type": "code",
   "execution_count": 294,
   "metadata": {
    "ExecuteTime": {
     "end_time": "2019-01-18T23:22:54.887795Z",
     "start_time": "2019-01-18T23:22:54.879860Z"
    }
   },
   "outputs": [
    {
     "data": {
      "text/plain": [
       "['lyap0_A0_O1',\n",
       " 'lyap0_A7_O1',\n",
       " 'lyap0_D1_O1',\n",
       " 'lyap0_D2_O1',\n",
       " 'lyap0_D3_O1',\n",
       " 'lyap0_D4_O1',\n",
       " 'lyap0_D5_O1',\n",
       " 'lyap0_D6_O1',\n",
       " 'lyap0_D7_O1',\n",
       " 'lyap1_A0_O1',\n",
       " 'lyap1_A7_O1',\n",
       " 'lyap1_D1_O1',\n",
       " 'lyap1_D2_O1',\n",
       " 'lyap1_D3_O1',\n",
       " 'lyap1_D4_O1',\n",
       " 'lyap1_D5_O1',\n",
       " 'lyap1_D6_O1',\n",
       " 'lyap1_D7_O1',\n",
       " 'lyap2_A0_O1',\n",
       " 'lyap2_A7_O1',\n",
       " 'lyap2_D1_O1',\n",
       " 'lyap2_D2_O1',\n",
       " 'lyap2_D3_O1',\n",
       " 'lyap2_D4_O1',\n",
       " 'lyap2_D5_O1',\n",
       " 'lyap2_D6_O1',\n",
       " 'lyap2_D7_O1',\n",
       " 'power_A0_O1',\n",
       " 'power_A7_O1',\n",
       " 'power_D1_O1',\n",
       " 'power_D2_O1',\n",
       " 'power_D3_O1',\n",
       " 'power_D4_O1',\n",
       " 'power_D5_O1',\n",
       " 'power_D6_O1',\n",
       " 'power_D7_O1',\n",
       " 'sample_entropy_A0_O1',\n",
       " 'sample_entropy_A7_O1',\n",
       " 'sample_entropy_D1_O1',\n",
       " 'sample_entropy_D2_O1',\n",
       " 'sample_entropy_D3_O1',\n",
       " 'sample_entropy_D4_O1',\n",
       " 'sample_entropy_D5_O1',\n",
       " 'sample_entropy_D6_O1',\n",
       " 'sample_entropy_D7_O1',\n",
       " 'lyap0_A0_C3',\n",
       " 'lyap0_A7_C3',\n",
       " 'lyap0_D1_C3',\n",
       " 'lyap0_D2_C3',\n",
       " 'lyap0_D3_C3',\n",
       " 'lyap0_D4_C3',\n",
       " 'lyap0_D5_C3',\n",
       " 'lyap0_D6_C3',\n",
       " 'lyap0_D7_C3',\n",
       " 'lyap1_A0_C3',\n",
       " 'lyap1_A7_C3',\n",
       " 'lyap1_D1_C3',\n",
       " 'lyap1_D2_C3',\n",
       " 'lyap1_D3_C3',\n",
       " 'lyap1_D4_C3',\n",
       " 'lyap1_D5_C3',\n",
       " 'lyap1_D6_C3',\n",
       " 'lyap1_D7_C3',\n",
       " 'lyap2_A0_C3',\n",
       " 'lyap2_A7_C3',\n",
       " 'lyap2_D1_C3',\n",
       " 'lyap2_D2_C3',\n",
       " 'lyap2_D3_C3',\n",
       " 'lyap2_D4_C3',\n",
       " 'lyap2_D5_C3',\n",
       " 'lyap2_D6_C3',\n",
       " 'lyap2_D7_C3',\n",
       " 'power_A0_C3',\n",
       " 'power_A7_C3',\n",
       " 'power_D1_C3',\n",
       " 'power_D2_C3',\n",
       " 'power_D3_C3',\n",
       " 'power_D4_C3',\n",
       " 'power_D5_C3',\n",
       " 'power_D6_C3',\n",
       " 'power_D7_C3',\n",
       " 'sample_entropy_A0_C3',\n",
       " 'sample_entropy_A7_C3',\n",
       " 'sample_entropy_D1_C3',\n",
       " 'sample_entropy_D2_C3',\n",
       " 'sample_entropy_D3_C3',\n",
       " 'sample_entropy_D4_C3',\n",
       " 'sample_entropy_D5_C3',\n",
       " 'sample_entropy_D6_C3',\n",
       " 'sample_entropy_D7_C3',\n",
       " 'lyap0_A0_C4',\n",
       " 'lyap0_A7_C4',\n",
       " 'lyap0_D1_C4',\n",
       " 'lyap0_D2_C4',\n",
       " 'lyap0_D3_C4',\n",
       " 'lyap0_D4_C4',\n",
       " 'lyap0_D5_C4',\n",
       " 'lyap0_D6_C4',\n",
       " 'lyap0_D7_C4',\n",
       " 'lyap1_A0_C4',\n",
       " 'lyap1_A7_C4',\n",
       " 'lyap1_D1_C4',\n",
       " 'lyap1_D2_C4',\n",
       " 'lyap1_D3_C4',\n",
       " 'lyap1_D4_C4',\n",
       " 'lyap1_D5_C4',\n",
       " 'lyap1_D6_C4',\n",
       " 'lyap1_D7_C4',\n",
       " 'lyap2_A0_C4',\n",
       " 'lyap2_A7_C4',\n",
       " 'lyap2_D1_C4',\n",
       " 'lyap2_D2_C4',\n",
       " 'lyap2_D3_C4',\n",
       " 'lyap2_D4_C4',\n",
       " 'lyap2_D5_C4',\n",
       " 'lyap2_D6_C4',\n",
       " 'lyap2_D7_C4',\n",
       " 'power_A0_C4',\n",
       " 'power_A7_C4',\n",
       " 'power_D1_C4',\n",
       " 'power_D2_C4',\n",
       " 'power_D3_C4',\n",
       " 'power_D4_C4',\n",
       " 'power_D5_C4',\n",
       " 'power_D6_C4',\n",
       " 'power_D7_C4',\n",
       " 'sample_entropy_A0_C4',\n",
       " 'sample_entropy_A7_C4',\n",
       " 'sample_entropy_D1_C4',\n",
       " 'sample_entropy_D2_C4',\n",
       " 'sample_entropy_D3_C4',\n",
       " 'sample_entropy_D4_C4',\n",
       " 'sample_entropy_D5_C4',\n",
       " 'sample_entropy_D6_C4',\n",
       " 'sample_entropy_D7_C4',\n",
       " 'dfa_A0_Fp1',\n",
       " 'dfa_A7_Fp1',\n",
       " 'dfa_D1_Fp1',\n",
       " 'dfa_D2_Fp1',\n",
       " 'dfa_D3_Fp1',\n",
       " 'dfa_D4_Fp1',\n",
       " 'dfa_D5_Fp1',\n",
       " 'dfa_D6_Fp1',\n",
       " 'dfa_D7_Fp1',\n",
       " 'hurst_exponent_A0_Fp1',\n",
       " 'hurst_exponent_A7_Fp1',\n",
       " 'hurst_exponent_D1_Fp1',\n",
       " 'hurst_exponent_D2_Fp1',\n",
       " 'hurst_exponent_D3_Fp1',\n",
       " 'hurst_exponent_D4_Fp1',\n",
       " 'hurst_exponent_D5_Fp1',\n",
       " 'hurst_exponent_D6_Fp1',\n",
       " 'hurst_exponent_D7_Fp1',\n",
       " 'lyap0_A0_Fp1',\n",
       " 'lyap0_A7_Fp1',\n",
       " 'lyap0_D1_Fp1',\n",
       " 'lyap0_D2_Fp1',\n",
       " 'lyap0_D3_Fp1',\n",
       " 'lyap0_D4_Fp1',\n",
       " 'lyap0_D5_Fp1',\n",
       " 'lyap0_D6_Fp1',\n",
       " 'lyap0_D7_Fp1',\n",
       " 'lyap1_A0_Fp1',\n",
       " 'lyap1_A7_Fp1',\n",
       " 'lyap1_D1_Fp1',\n",
       " 'lyap1_D2_Fp1',\n",
       " 'lyap1_D3_Fp1',\n",
       " 'lyap1_D4_Fp1',\n",
       " 'lyap1_D5_Fp1',\n",
       " 'lyap1_D6_Fp1',\n",
       " 'lyap1_D7_Fp1',\n",
       " 'lyap2_A0_Fp1',\n",
       " 'lyap2_A7_Fp1',\n",
       " 'lyap2_D1_Fp1',\n",
       " 'lyap2_D2_Fp1',\n",
       " 'lyap2_D3_Fp1',\n",
       " 'lyap2_D4_Fp1',\n",
       " 'lyap2_D5_Fp1',\n",
       " 'lyap2_D6_Fp1',\n",
       " 'lyap2_D7_Fp1',\n",
       " 'power_A0_Fp1',\n",
       " 'power_A7_Fp1',\n",
       " 'power_D1_Fp1',\n",
       " 'power_D2_Fp1',\n",
       " 'power_D3_Fp1',\n",
       " 'power_D4_Fp1',\n",
       " 'power_D5_Fp1',\n",
       " 'power_D6_Fp1',\n",
       " 'power_D7_Fp1',\n",
       " 'sample_entropy_A0_Fp1',\n",
       " 'sample_entropy_A7_Fp1',\n",
       " 'sample_entropy_D1_Fp1',\n",
       " 'sample_entropy_D2_Fp1',\n",
       " 'sample_entropy_D3_Fp1',\n",
       " 'sample_entropy_D4_Fp1',\n",
       " 'sample_entropy_D5_Fp1',\n",
       " 'sample_entropy_D6_Fp1',\n",
       " 'sample_entropy_D7_Fp1',\n",
       " 'dfa_A0_T7',\n",
       " 'dfa_A7_T7',\n",
       " 'dfa_D1_T7',\n",
       " 'dfa_D2_T7',\n",
       " 'dfa_D3_T7',\n",
       " 'dfa_D4_T7',\n",
       " 'dfa_D5_T7',\n",
       " 'dfa_D6_T7',\n",
       " 'dfa_D7_T7',\n",
       " 'hurst_exponent_A0_T7',\n",
       " 'hurst_exponent_A7_T7',\n",
       " 'hurst_exponent_D1_T7',\n",
       " 'hurst_exponent_D2_T7',\n",
       " 'hurst_exponent_D3_T7',\n",
       " 'hurst_exponent_D4_T7',\n",
       " 'hurst_exponent_D5_T7',\n",
       " 'hurst_exponent_D6_T7',\n",
       " 'hurst_exponent_D7_T7',\n",
       " 'lyap0_A0_T7',\n",
       " 'lyap0_A7_T7',\n",
       " 'lyap0_D1_T7',\n",
       " 'lyap0_D2_T7',\n",
       " 'lyap0_D3_T7',\n",
       " 'lyap0_D4_T7',\n",
       " 'lyap0_D5_T7',\n",
       " 'lyap0_D6_T7',\n",
       " 'lyap0_D7_T7',\n",
       " 'lyap1_A0_T7',\n",
       " 'lyap1_A7_T7',\n",
       " 'lyap1_D1_T7',\n",
       " 'lyap1_D2_T7',\n",
       " 'lyap1_D3_T7',\n",
       " 'lyap1_D4_T7',\n",
       " 'lyap1_D5_T7',\n",
       " 'lyap1_D6_T7',\n",
       " 'lyap1_D7_T7',\n",
       " 'lyap2_A0_T7',\n",
       " 'lyap2_A7_T7',\n",
       " 'lyap2_D1_T7',\n",
       " 'lyap2_D2_T7',\n",
       " 'lyap2_D3_T7',\n",
       " 'lyap2_D4_T7',\n",
       " 'lyap2_D5_T7',\n",
       " 'lyap2_D6_T7',\n",
       " 'lyap2_D7_T7',\n",
       " 'power_A0_T7',\n",
       " 'power_A7_T7',\n",
       " 'power_D1_T7',\n",
       " 'power_D2_T7',\n",
       " 'power_D3_T7',\n",
       " 'power_D4_T7',\n",
       " 'power_D5_T7',\n",
       " 'power_D6_T7',\n",
       " 'power_D7_T7',\n",
       " 'sample_entropy_A0_T7',\n",
       " 'sample_entropy_A7_T7',\n",
       " 'sample_entropy_D1_T7',\n",
       " 'sample_entropy_D2_T7',\n",
       " 'sample_entropy_D3_T7',\n",
       " 'sample_entropy_D4_T7',\n",
       " 'sample_entropy_D5_T7',\n",
       " 'sample_entropy_D6_T7',\n",
       " 'sample_entropy_D7_T7',\n",
       " 'dfa_A0_O2',\n",
       " 'dfa_A7_O2',\n",
       " 'dfa_D1_O2',\n",
       " 'dfa_D2_O2',\n",
       " 'dfa_D3_O2',\n",
       " 'dfa_D4_O2',\n",
       " 'dfa_D5_O2',\n",
       " 'dfa_D6_O2',\n",
       " 'dfa_D7_O2',\n",
       " 'hurst_exponent_A0_O2',\n",
       " 'hurst_exponent_A7_O2',\n",
       " 'hurst_exponent_D1_O2',\n",
       " 'hurst_exponent_D2_O2',\n",
       " 'hurst_exponent_D3_O2',\n",
       " 'hurst_exponent_D4_O2',\n",
       " 'hurst_exponent_D5_O2',\n",
       " 'hurst_exponent_D6_O2',\n",
       " 'hurst_exponent_D7_O2',\n",
       " 'lyap0_A0_O2',\n",
       " 'lyap0_A7_O2',\n",
       " 'lyap0_D1_O2',\n",
       " 'lyap0_D2_O2',\n",
       " 'lyap0_D3_O2',\n",
       " 'lyap0_D4_O2',\n",
       " 'lyap0_D5_O2',\n",
       " 'lyap0_D6_O2',\n",
       " 'lyap0_D7_O2',\n",
       " 'lyap1_A0_O2',\n",
       " 'lyap1_A7_O2',\n",
       " 'lyap1_D1_O2',\n",
       " 'lyap1_D2_O2',\n",
       " 'lyap1_D3_O2',\n",
       " 'lyap1_D4_O2',\n",
       " 'lyap1_D5_O2',\n",
       " 'lyap1_D6_O2',\n",
       " 'lyap1_D7_O2',\n",
       " 'lyap2_A0_O2',\n",
       " 'lyap2_A7_O2',\n",
       " 'lyap2_D1_O2',\n",
       " 'lyap2_D2_O2',\n",
       " 'lyap2_D3_O2',\n",
       " 'lyap2_D4_O2',\n",
       " 'lyap2_D5_O2',\n",
       " 'lyap2_D6_O2',\n",
       " 'lyap2_D7_O2',\n",
       " 'power_A0_O2',\n",
       " 'power_A7_O2',\n",
       " 'power_D1_O2',\n",
       " 'power_D2_O2',\n",
       " 'power_D3_O2',\n",
       " 'power_D4_O2',\n",
       " 'power_D5_O2',\n",
       " 'power_D6_O2',\n",
       " 'power_D7_O2',\n",
       " 'sample_entropy_A0_O2',\n",
       " 'sample_entropy_A7_O2',\n",
       " 'sample_entropy_D1_O2',\n",
       " 'sample_entropy_D2_O2',\n",
       " 'sample_entropy_D3_O2',\n",
       " 'sample_entropy_D4_O2',\n",
       " 'sample_entropy_D5_O2',\n",
       " 'sample_entropy_D6_O2',\n",
       " 'sample_entropy_D7_O2',\n",
       " 'lyap0_A0_T8',\n",
       " 'lyap0_A7_T8',\n",
       " 'lyap0_D1_T8',\n",
       " 'lyap0_D2_T8',\n",
       " 'lyap0_D3_T8',\n",
       " 'lyap0_D4_T8',\n",
       " 'lyap0_D5_T8',\n",
       " 'lyap0_D6_T8',\n",
       " 'lyap0_D7_T8',\n",
       " 'lyap1_A0_T8',\n",
       " 'lyap1_A7_T8',\n",
       " 'lyap1_D1_T8',\n",
       " 'lyap1_D2_T8',\n",
       " 'lyap1_D3_T8',\n",
       " 'lyap1_D4_T8',\n",
       " 'lyap1_D5_T8',\n",
       " 'lyap1_D6_T8',\n",
       " 'lyap1_D7_T8',\n",
       " 'lyap2_A0_T8',\n",
       " 'lyap2_A7_T8',\n",
       " 'lyap2_D1_T8',\n",
       " 'lyap2_D2_T8',\n",
       " 'lyap2_D3_T8',\n",
       " 'lyap2_D4_T8',\n",
       " 'lyap2_D5_T8',\n",
       " 'lyap2_D6_T8',\n",
       " 'lyap2_D7_T8',\n",
       " 'power_A0_T8',\n",
       " 'power_A7_T8',\n",
       " 'power_D1_T8',\n",
       " 'power_D2_T8',\n",
       " 'power_D3_T8',\n",
       " 'power_D4_T8',\n",
       " 'power_D5_T8',\n",
       " 'power_D6_T8',\n",
       " 'power_D7_T8',\n",
       " 'sample_entropy_A0_T8',\n",
       " 'sample_entropy_A7_T8',\n",
       " 'sample_entropy_D1_T8',\n",
       " 'sample_entropy_D2_T8',\n",
       " 'sample_entropy_D3_T8',\n",
       " 'sample_entropy_D4_T8',\n",
       " 'sample_entropy_D5_T8',\n",
       " 'sample_entropy_D6_T8',\n",
       " 'sample_entropy_D7_T8',\n",
       " 'dfa_A0_Fp2',\n",
       " 'dfa_A7_Fp2',\n",
       " 'dfa_D1_Fp2',\n",
       " 'dfa_D2_Fp2',\n",
       " 'dfa_D3_Fp2',\n",
       " 'dfa_D4_Fp2',\n",
       " 'dfa_D5_Fp2',\n",
       " 'dfa_D6_Fp2',\n",
       " 'dfa_D7_Fp2',\n",
       " 'hurst_exponent_A0_Fp2',\n",
       " 'hurst_exponent_A7_Fp2',\n",
       " 'hurst_exponent_D1_Fp2',\n",
       " 'hurst_exponent_D2_Fp2',\n",
       " 'hurst_exponent_D3_Fp2',\n",
       " 'hurst_exponent_D4_Fp2',\n",
       " 'hurst_exponent_D5_Fp2',\n",
       " 'hurst_exponent_D6_Fp2',\n",
       " 'hurst_exponent_D7_Fp2',\n",
       " 'lyap0_A0_Fp2',\n",
       " 'lyap0_A7_Fp2',\n",
       " 'lyap0_D1_Fp2',\n",
       " 'lyap0_D2_Fp2',\n",
       " 'lyap0_D3_Fp2',\n",
       " 'lyap0_D4_Fp2',\n",
       " 'lyap0_D5_Fp2',\n",
       " 'lyap0_D6_Fp2',\n",
       " 'lyap0_D7_Fp2',\n",
       " 'lyap1_A0_Fp2',\n",
       " 'lyap1_A7_Fp2',\n",
       " 'lyap1_D1_Fp2',\n",
       " 'lyap1_D2_Fp2',\n",
       " 'lyap1_D3_Fp2',\n",
       " 'lyap1_D4_Fp2',\n",
       " 'lyap1_D5_Fp2',\n",
       " 'lyap1_D6_Fp2',\n",
       " 'lyap1_D7_Fp2',\n",
       " 'lyap2_A0_Fp2',\n",
       " 'lyap2_A7_Fp2',\n",
       " 'lyap2_D1_Fp2',\n",
       " 'lyap2_D2_Fp2',\n",
       " 'lyap2_D3_Fp2',\n",
       " 'lyap2_D4_Fp2',\n",
       " 'lyap2_D5_Fp2',\n",
       " 'lyap2_D6_Fp2',\n",
       " 'lyap2_D7_Fp2',\n",
       " 'power_A0_Fp2',\n",
       " 'power_A7_Fp2',\n",
       " 'power_D1_Fp2',\n",
       " 'power_D2_Fp2',\n",
       " 'power_D3_Fp2',\n",
       " 'power_D4_Fp2',\n",
       " 'power_D5_Fp2',\n",
       " 'power_D6_Fp2',\n",
       " 'power_D7_Fp2',\n",
       " 'sample_entropy_A0_Fp2',\n",
       " 'sample_entropy_A7_Fp2',\n",
       " 'sample_entropy_D1_Fp2',\n",
       " 'sample_entropy_D2_Fp2',\n",
       " 'sample_entropy_D3_Fp2',\n",
       " 'sample_entropy_D4_Fp2',\n",
       " 'sample_entropy_D5_Fp2',\n",
       " 'sample_entropy_D6_Fp2',\n",
       " 'sample_entropy_D7_Fp2',\n",
       " 'Gestational_Age',\n",
       " 'Multiple_births',\n",
       " 'Weight_gms',\n",
       " 'hurst_exponent_D2_T8_imp',\n",
       " 'hurst_exponent_D3_C3_imp',\n",
       " 'dfa_D6_C4_imp',\n",
       " 'hurst_exponent_D5_O1_imp',\n",
       " 'hurst_exponent_A7_O1_imp',\n",
       " 'dfa_D2_O1_imp',\n",
       " 'hurst_exponent_D4_C3_imp',\n",
       " 'hurst_exponent_A0_T8_imp',\n",
       " 'Maternal_age_imp',\n",
       " 'hurst_exponent_D2_O1_imp',\n",
       " 'hurst_exponent_D3_O1_imp',\n",
       " 'dfa_D6_C3_imp',\n",
       " 'dfa_A0_C3_imp',\n",
       " 'hurst_exponent_D2_C4_imp',\n",
       " 'hurst_exponent_D6_C3_imp',\n",
       " 'dfa_D7_O1_imp',\n",
       " 'hurst_exponent_D1_O1_imp',\n",
       " 'dfa_D3_O1_imp',\n",
       " 'hurst_exponent_A7_C4_imp',\n",
       " 'dfa_D1_O1_imp',\n",
       " 'dfa_A7_O1_imp',\n",
       " 'dfa_D4_T8_imp',\n",
       " 'hurst_exponent_D7_T8_imp',\n",
       " 'hurst_exponent_D6_C4_imp',\n",
       " 'hurst_exponent_D5_C3_imp',\n",
       " 'dfa_D3_T8_imp',\n",
       " 'hurst_exponent_D7_O1_imp',\n",
       " 'dfa_D3_C4_imp',\n",
       " 'dfa_D7_C3_imp',\n",
       " 'hurst_exponent_D3_T8_imp',\n",
       " 'dfa_D2_C4_imp',\n",
       " 'dfa_D5_T8_imp',\n",
       " 'hurst_exponent_D4_T8_imp',\n",
       " 'dfa_D1_C4_imp',\n",
       " 'hurst_exponent_D7_C4_imp',\n",
       " 'dfa_A7_C3_imp',\n",
       " 'dfa_A7_T8_imp',\n",
       " 'hurst_exponent_A7_C3_imp',\n",
       " 'dfa_D6_T8_imp',\n",
       " 'dfa_D1_T8_imp',\n",
       " 'dfa_D7_T8_imp',\n",
       " 'dfa_D3_C3_imp',\n",
       " 'dfa_D2_C3_imp',\n",
       " 'dfa_D5_C4_imp',\n",
       " 'dfa_D4_C3_imp',\n",
       " 'dfa_D7_C4_imp',\n",
       " 'hurst_exponent_A0_C3_imp',\n",
       " 'hurst_exponent_D7_C3_imp',\n",
       " 'dfa_A0_T8_imp',\n",
       " 'dfa_D5_C3_imp',\n",
       " 'hurst_exponent_A7_T8_imp',\n",
       " 'dfa_D1_C3_imp',\n",
       " 'hurst_exponent_D6_T8_imp',\n",
       " 'hurst_exponent_D5_T8_imp',\n",
       " 'hurst_exponent_D1_C4_imp',\n",
       " 'hurst_exponent_D5_C4_imp',\n",
       " 'hurst_exponent_D6_O1_imp',\n",
       " 'dfa_A7_C4_imp',\n",
       " 'hurst_exponent_D2_C3_imp',\n",
       " 'hurst_exponent_D3_C4_imp',\n",
       " 'dfa_D2_T8_imp',\n",
       " 'hurst_exponent_D1_C3_imp',\n",
       " 'dfa_D5_O1_imp',\n",
       " 'hurst_exponent_D1_T8_imp',\n",
       " 'dfa_D6_O1_imp',\n",
       " 'Gender',\n",
       " 'Relative_size']"
      ]
     },
     "execution_count": 294,
     "metadata": {},
     "output_type": "execute_result"
    }
   ],
   "source": [
    "temp_cols = dfnumeric.columns\n",
    "temp_cols.remove('Prematurity_Level')\n",
    "temp_cols"
   ]
  },
  {
   "cell_type": "code",
   "execution_count": 296,
   "metadata": {
    "ExecuteTime": {
     "end_time": "2019-01-18T23:23:42.758882Z",
     "start_time": "2019-01-18T23:23:42.118848Z"
    }
   },
   "outputs": [],
   "source": [
    "features = dfnumeric.select(*temp_cols,'Prematurity_Level')"
   ]
  },
  {
   "cell_type": "code",
   "execution_count": 298,
   "metadata": {
    "ExecuteTime": {
     "end_time": "2019-01-18T23:24:29.446424Z",
     "start_time": "2019-01-18T23:24:29.420580Z"
    }
   },
   "outputs": [],
   "source": [
    "features = features.withColumnRenamed('Prematurity_Level', \"label\")"
   ]
  },
  {
   "cell_type": "code",
   "execution_count": 299,
   "metadata": {
    "ExecuteTime": {
     "end_time": "2019-01-18T23:24:30.024007Z",
     "start_time": "2019-01-18T23:24:29.824230Z"
    }
   },
   "outputs": [],
   "source": [
    "va = VectorAssembler(outputCol=\"features\", inputCols=features.columns[0:-1]) #except the last col.\n",
    "df = va.transform(features).select(\"features\", \"label\")"
   ]
  },
  {
   "cell_type": "markdown",
   "metadata": {},
   "source": [
    "### Split and  Cache the data"
   ]
  },
  {
   "cell_type": "code",
   "execution_count": null,
   "metadata": {
    "ExecuteTime": {
     "end_time": "2019-01-18T23:27:33.866704Z",
     "start_time": "2019-01-18T23:27:33.849522Z"
    }
   },
   "outputs": [],
   "source": [
    "train, test = df.randomSplit([0.8,0.2])"
   ]
  },
  {
   "cell_type": "code",
   "execution_count": 305,
   "metadata": {
    "ExecuteTime": {
     "end_time": "2019-01-18T23:28:00.600952Z",
     "start_time": "2019-01-18T23:27:51.420780Z"
    }
   },
   "outputs": [],
   "source": [
    "train = train.cache()\n",
    "test = test.cache()"
   ]
  },
  {
   "cell_type": "markdown",
   "metadata": {},
   "source": [
    "### ML Models"
   ]
  },
  {
   "cell_type": "code",
   "execution_count": 314,
   "metadata": {
    "ExecuteTime": {
     "end_time": "2019-01-18T23:36:27.062021Z",
     "start_time": "2019-01-18T23:36:16.600512Z"
    }
   },
   "outputs": [],
   "source": [
    "from pyspark.ml.classification import RandomForestClassifier\n",
    "rf = RandomForestClassifier(maxDepth=30)\n",
    "rfmodel = rf.fit(train)"
   ]
  },
  {
   "cell_type": "code",
   "execution_count": 315,
   "metadata": {
    "ExecuteTime": {
     "end_time": "2019-01-18T23:36:27.108803Z",
     "start_time": "2019-01-18T23:36:27.063686Z"
    }
   },
   "outputs": [],
   "source": [
    "rfpredicts = rfmodel.transform(test)"
   ]
  },
  {
   "cell_type": "code",
   "execution_count": 316,
   "metadata": {
    "ExecuteTime": {
     "end_time": "2019-01-18T23:36:28.981789Z",
     "start_time": "2019-01-18T23:36:27.111169Z"
    }
   },
   "outputs": [
    {
     "name": "stdout",
     "output_type": "stream",
     "text": [
      "Accuracy = 0.4000\n"
     ]
    }
   ],
   "source": [
    "from pyspark.ml.evaluation import MulticlassClassificationEvaluator\n",
    "evaluator = MulticlassClassificationEvaluator(labelCol=\"label\", predictionCol=\"prediction\", metricName=\"accuracy\")\n",
    "accuracy = evaluator.evaluate(rfpredicts)\n",
    "print(\"Accuracy = %0.4f\" % (accuracy))"
   ]
  },
  {
   "cell_type": "code",
   "execution_count": 310,
   "metadata": {
    "ExecuteTime": {
     "end_time": "2019-01-18T23:33:10.987121Z",
     "start_time": "2019-01-18T23:33:10.978554Z"
    }
   },
   "outputs": [],
   "source": [
    "from pyspark.ml.classification import DecisionTreeClassifier\n",
    "dt = DecisionTreeClassifier(maxDepth=20, maxBins= 32, minInstancesPerNode=1, minInfoGain = 0)"
   ]
  },
  {
   "cell_type": "code",
   "execution_count": 311,
   "metadata": {
    "ExecuteTime": {
     "end_time": "2019-01-18T23:33:31.481579Z",
     "start_time": "2019-01-18T23:33:23.354410Z"
    }
   },
   "outputs": [
    {
     "name": "stdout",
     "output_type": "stream",
     "text": [
      "Accuracy = 0.6000\n"
     ]
    }
   ],
   "source": [
    "dtmodel = dt.fit(train)\n",
    "dtpredicts = dtmodel.transform(test)\n",
    "from pyspark.ml.evaluation import MulticlassClassificationEvaluator\n",
    "evaluator = MulticlassClassificationEvaluator(labelCol=\"label\", predictionCol=\"prediction\", metricName=\"accuracy\")\n",
    "accuracy = evaluator.evaluate(dtpredicts)\n",
    "print(\"Accuracy = %0.4f\" % (accuracy))"
   ]
  }
 ],
 "metadata": {
  "kernelspec": {
   "display_name": "Python 3",
   "language": "python",
   "name": "python3"
  },
  "language_info": {
   "codemirror_mode": {
    "name": "ipython",
    "version": 3
   },
   "file_extension": ".py",
   "mimetype": "text/x-python",
   "name": "python",
   "nbconvert_exporter": "python",
   "pygments_lexer": "ipython3",
   "version": "3.6.6"
  },
  "toc": {
   "base_numbering": 1,
   "nav_menu": {},
   "number_sections": true,
   "sideBar": true,
   "skip_h1_title": false,
   "title_cell": "Table of Contents",
   "title_sidebar": "Contents",
   "toc_cell": false,
   "toc_position": {},
   "toc_section_display": true,
   "toc_window_display": false
  },
  "varInspector": {
   "cols": {
    "lenName": 16,
    "lenType": 16,
    "lenVar": 40
   },
   "kernels_config": {
    "python": {
     "delete_cmd_postfix": "",
     "delete_cmd_prefix": "del ",
     "library": "var_list.py",
     "varRefreshCmd": "print(var_dic_list())"
    },
    "r": {
     "delete_cmd_postfix": ") ",
     "delete_cmd_prefix": "rm(",
     "library": "var_list.r",
     "varRefreshCmd": "cat(var_dic_list()) "
    }
   },
   "types_to_exclude": [
    "module",
    "function",
    "builtin_function_or_method",
    "instance",
    "_Feature"
   ],
   "window_display": false
  }
 },
 "nbformat": 4,
 "nbformat_minor": 2
}
